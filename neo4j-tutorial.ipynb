{
 "cells": [
  {
   "cell_type": "markdown",
   "metadata": {},
   "source": [
    "# Exploring Neo4j: A Tutorial on Cypher, PageRank, and Louvain Community Detection\n",
    "\n",
    "**Mehdi Boustani** - S221594  \n",
    "**Nicolas Schneiders** - S203005  \n",
    "**Maxim Piron** - S211493  \n",
    "**Andreas Stistrup** - S212891  \n",
    "\n",
    "*Faculty of Applied Sciences, University of Liège*\n",
    "\n",
    "April 24, 2025\n"
   ]
  },
  {
   "cell_type": "markdown",
   "metadata": {},
   "source": [
    "# Introduction"
   ]
  },
  {
   "cell_type": "markdown",
   "metadata": {},
   "source": [
    "Nowadays, traditional databases often struggle with highly connected data, leading to slow and complex queries. Neo4j, a graph database released in 2007[<sup>1</sup>](#neo4jdef), solves this problem by storing data as nodes and relationships instead of tables. This approach makes it faster and easier to explore connections between entities.\n",
    "\n",
    "Neo4j is widely used in areas like social networks, recommendation systems, and knowledge graphs[<sup>2</sup>](#neo4jdef)—where relationships matter most. In this tutorial, we will explore its capabilities by analyzing a startup ecosystem, fetching data from a JSON file, using Cypher queries, PageRank, and Louvain community detection to uncover key insights."
   ]
  },
  {
   "cell_type": "markdown",
   "metadata": {},
   "source": [
    "# Comparison with Relational Databases [<sup>3</sup>](#whygraphdb)\n",
    "\n",
    "To compare Neo4j and Cypher with traditional relational databases, we will explore the advantages and drawbacks of using a graph-based approach over a tabular one.\n",
    "\n",
    "### Advantages of Neo4j and cypher over relational SQL [<sup>4</sup>](#neo4jVSsql) [<sup>5</sup>](#diffgraphandrelationaldb)\n",
    "One of the main advantages of Neo4j and its query language, Cypher, is that data is stored in a **graph structure** composed of nodes and relationships rather than in tables. This allows for the efficient traversal of relationships between entities. In Neo4j, navigating from one node to another via a relationship can be done in constant time, regardless of the graph's size.\n",
    "\n",
    "In contrast, relational databases require joins between tables to establish relationships, which can become computationally expensive—especially as the number of joins increases or when dealing with deep or complex relationships\n",
    "\n",
    "This is particularly true for relationship-heavy queries, where SQL databases often need to create recursive views or perform iterative joins to explore multi-level relationships. In contrast, Neo4j can efficiently leverage its graph-native structure to maintain **linear performance** relative to the number of hops.\n",
    "\n",
    "Another key advantage of Neo4j and Cypher is the **simplicity** and **readability** of queries when working with graph data. \n",
    "For example, if we want to find the names of people who are friends with someone named Alice, we can write the following Cypher query:\n",
    "\n",
    "```sql\n",
    "MATCH (p:Person)-[:FRIEND_OF]->(:Person {name: 'Alice'})\n",
    "RETURN p.name\n",
    "```\n",
    "\n",
    "In relational SQL, achieving the same result would require:\n",
    "\n",
    "```sql\n",
    "SELECT p1.name\n",
    "FROM Person p1\n",
    "JOIN Friendship f ON p1.id = f.person_id\n",
    "JOIN Person p2 ON f.friend_id = p2.id\n",
    "WHERE p2.name = 'Alice';\n",
    "```\n",
    "\n",
    "As shown above, relationship queries are significantly more intuitive in Cypher. \n",
    "The graph pattern-matching syntax closely reflects the actual structure of the data, making queries easier to write, read, and reason about.\n",
    "\n",
    "The third advantage of Neo4j is its **schema-free data model**. In Neo4j, we are not required to define all possible relationships or properties for each node type in advance. This allows the data model to handle irregular or evolving data naturally, offering greater flexibility as your application and data grow over time.\n",
    "\n",
    "In contrast, SQL databases rely on rigid schemas, where structural modifications often require **schema migrations**, making them less adaptable to dynamic or semi-structured data.\n",
    "\n",
    "Finally, as you will see throughout this tutorial, Neo4j is both well-suited and optimized for implementing graph algorithms. By using in-memory graph projections, we can efficiently run algorithms to uncover patterns such as communities, influence, shortest paths, and more. This makes Neo4j not just a data store, but a powerful analytical tool.\n",
    "\n",
    "### Drawbacks of Neo4j and cypher over relational SQL [<sup>6</sup>](#graphdbscalelimitation)\n",
    "Interestingly, some of Neo4j’s strengths can also become limitations depending on the use case. \n",
    "\n",
    "1. **Transactional Workloads**\n",
    "\n",
    "    If your data is **highly structured** and the focus is on **transactions** rather than relationships, Neo4j may be less efficient than relational databases. Traditional SQL databases typically perform better for workflows centered around aggregations, batch updates, or structured reporting.\n",
    "\n",
    "2. **Real-Time Data Challenges**\n",
    "\n",
    "    Neo4j is not ideal for real-time analysis on rapidly changing data. As you will see in this tutorial, running graph algorithms often requires creating **in-memory projections**, which work best with relatively stable snapshots of the data rather than constantly updating streams.\n",
    "\n",
    "3. **Higher Memory Overhead**\n",
    "\n",
    "    Finally, graph databases tend to have a higher memory overhead compared to relational SQL databases. This is due to how they store nodes and relationships in memory to enable **fast traversal**, which can increase resource usage—especially for large-scale datasets.\n",
    "\n",
    "### Conclusion\n",
    "\n",
    "As with any decision involving database management systems, it's important to carefully analyze your **use cases** before choosing the right tool. Neo4j excels in certain scenarios, but may not be the best fit for others.\n",
    "\n",
    "A simple roadmap of requirements that might indicate Neo4j is a good choice includes:\n",
    "\n",
    "- **Unstructured or evolving data**: When the data model is flexible and may change over time.\n",
    "- **Relationship-focused queries**: When your workload involves exploring or analyzing relationships and traversals (e.g., social networks, recommendations, graphs of dependencies).\n",
    "- **Stable datasets or snapshot-based analysis**: When the data is relatively stable, or when it's acceptable to analyze it using periodic snapshots rather than in real-time.\n"
   ]
  },
  {
   "cell_type": "markdown",
   "metadata": {},
   "source": [
    "# Installation & configuration"
   ]
  },
  {
   "cell_type": "markdown",
   "metadata": {},
   "source": [
    "## Installing Neo4J\n",
    "If you don't have Docker installed, you can install it from [here](https://www.docker.com/). \n",
    "\n",
    "First, in the terminal, pull the Neo4j image from Docker:\n",
    "\n",
    "`docker pull neo4j`\n",
    "\n",
    "Now, create a Neo4J instance (thanks to the docker-compose.yml file).\n",
    "\n",
    "`docker compose up -d`\n",
    "\n",
    "You can now access the Neo4j browser by going to [http://localhost:7474](http://localhost:7474) (but not necessary for this tutorial).\n",
    "\n",
    "The default username is `neo4j` and the default password is `password`.\n",
    "\n"
   ]
  },
  {
   "cell_type": "code",
   "execution_count": null,
   "metadata": {},
   "outputs": [],
   "source": [
    "# Installation of Neo4j \n",
    "!pip install neo4j\n",
    "\n",
    "# Installation of the library to visualize the graph\n",
    "!pip install yfiles_jupyter_graphs_for_neo4j"
   ]
  },
  {
   "cell_type": "code",
   "execution_count": null,
   "metadata": {},
   "outputs": [],
   "source": [
    "# Loading the libraries\n",
    "from neo4j import GraphDatabase\n",
    "\n",
    "# Library to visualize the graph\n",
    "from yfiles_jupyter_graphs_for_neo4j import Neo4jGraphWidget\n",
    "\n",
    "# Library to load the data from the JSON file\n",
    "import json\n",
    "\n",
    "# Connecting to the Neo4j database\n",
    "driver = GraphDatabase.driver(uri=\"bolt://localhost:7687\", auth=(\"neo4j\", \"password\"))\n",
    "session = driver.session()\n",
    "\n",
    "# Creating the graph instance in order to visualize the graph\n",
    "g = Neo4jGraphWidget(driver)"
   ]
  },
  {
   "cell_type": "markdown",
   "metadata": {},
   "source": [
    "# Dataset"
   ]
  },
  {
   "cell_type": "markdown",
   "metadata": {},
   "source": [
    "First, let's clear the existing database."
   ]
  },
  {
   "cell_type": "code",
   "execution_count": null,
   "metadata": {},
   "outputs": [],
   "source": [
    "session.run(\"\"\"\n",
    "    MATCH (n)\n",
    "    DETACH DELETE n\n",
    "\"\"\")"
   ]
  },
  {
   "cell_type": "markdown",
   "metadata": {},
   "source": [
    "In Cypher, we select all nodes (n) in the database using ***MATCH (n)***. Since some nodes may have relationships, we use ***DETACH DELETE n*** to first remove all relationships before deleting the node"
   ]
  },
  {
   "cell_type": "markdown",
   "metadata": {},
   "source": [
    "Secondly, we fetch the data from an external JSON file named ***startups.json***. This file contains structured data that we will use to populate our database. *JSON* (JavaScript Object Notation) is a widely used format for storing and exchanging data (especially in APIs) due to its simplicity. In this case, the data was generated with the help of ChatGPT [<sup>8</sup>](#chatgpt) to create realistic but fake startup and investor information. You can learn more about the JSON format here [<sup>9</sup>](#reference-json).\n"
   ]
  },
  {
   "cell_type": "code",
   "execution_count": null,
   "metadata": {},
   "outputs": [],
   "source": [
    "with open('startups.json', 'r') as file:\n",
    "    data = json.load(file)\n",
    "\n",
    "    # 1. Create Startup nodes\n",
    "    for startup in data['startups']:\n",
    "        session.run(\"\"\"\n",
    "            MERGE (s:Startup {name: $name, country: $country})\n",
    "        \"\"\", {\n",
    "            'name': startup['name'],\n",
    "            'country': startup['country']\n",
    "        })\n",
    "\n",
    "    # 2. Create Investor nodes and link them to the startups they invest in\n",
    "    for investor in data['investors']:\n",
    "        session.run(\"\"\"\n",
    "            MERGE (i:Investor {name: $name})\n",
    "        \"\"\", {'name': investor['name']})\n",
    "\n",
    "        for startup_name in investor['invests_in']:\n",
    "            session.run(\"\"\"\n",
    "                MATCH (i:Investor {name: $inv_name})\n",
    "                MATCH (s:Startup {name: $startup_name})\n",
    "                MERGE (i)-[:INVESTS_IN]->(s)\n",
    "            \"\"\", {\n",
    "                'inv_name': investor['name'],\n",
    "                'startup_name': startup_name\n",
    "            })\n",
    "\n",
    "    # 3. Add collaboration and competition relations between startups\n",
    "    for startup in data['startups']:\n",
    "        for collaborator in startup.get('collaborates_with', []):\n",
    "            session.run(\"\"\"\n",
    "                MATCH (a:Startup {name: $from})\n",
    "                MATCH (b:Startup {name: $to})\n",
    "                MERGE (a)-[:COLLABORATES_WITH]->(b)\n",
    "            \"\"\", {\n",
    "                'from': startup['name'],\n",
    "                'to': collaborator\n",
    "            })\n",
    "\n",
    "        for competitor in startup.get('competes_with', []):\n",
    "            session.run(\"\"\"\n",
    "                MATCH (a:Startup {name: $from})\n",
    "                MATCH (b:Startup {name: $to})\n",
    "                MERGE (a)-[:COMPETES_WITH]->(b)\n",
    "            \"\"\", {\n",
    "                'from': startup['name'],\n",
    "                'to': competitor\n",
    "            })"
   ]
  },
  {
   "cell_type": "markdown",
   "metadata": {},
   "source": [
    "### Cypher query to visualize Startups and Investors [<sup>10</sup>](#vizualisation)"
   ]
  },
  {
   "cell_type": "code",
   "execution_count": null,
   "metadata": {},
   "outputs": [],
   "source": [
    "g.show_cypher(\"\"\"\n",
    "MATCH (n)\n",
    "OPTIONAL MATCH (n)-[r]->(m)\n",
    "RETURN n, r, m\n",
    "\"\"\")\n"
   ]
  },
  {
   "cell_type": "markdown",
   "metadata": {},
   "source": [
    "# Introduction on cypher queries"
   ]
  },
  {
   "cell_type": "markdown",
   "metadata": {},
   "source": [
    "In this section, we introduce basic **Cypher** queries to get familiar with the language before exploring the more powerful libraries that Neo4j offers. As you've already seen how to create data, we'll now focus on **data retrieval and analysis**.\n",
    "\n",
    "Cypher uses the **`MATCH`** clause to search for patterns in the graph. For example, to retrieve all investors who have invested in the startup **Coinbase**, we can use the following query:"
   ]
  },
  {
   "cell_type": "code",
   "execution_count": null,
   "metadata": {},
   "outputs": [],
   "source": [
    "startup_name = \"Coinbase\"\n",
    "\n",
    "investor_in_startup_query = \"\"\"\n",
    "MATCH (i:Investor)-[:INVESTS_IN]->(s:Startup)\n",
    "WHERE s.name = $startup_name\n",
    "RETURN i, s\n",
    "\"\"\"\n",
    "\n",
    "# This is how we use parameterized queries\n",
    "result = session.run(investor_in_startup_query, {\"startup_name\": startup_name})\n",
    "\n",
    "print(f\"Investors in {startup_name}:\")\n",
    "for record in result:\n",
    "    print(record['i']['name'])"
   ]
  },
  {
   "cell_type": "markdown",
   "metadata": {},
   "source": [
    "To better understand the popularity or attractiveness of each startup, we can count how many investors are connected to each one. The following query retrieves the name of each startup along with the total number of investors who have invested in it. This allows us to identify which startups have attracted the most interest from investors."
   ]
  },
  {
   "cell_type": "code",
   "execution_count": null,
   "metadata": {},
   "outputs": [],
   "source": [
    "result = session.run(\"\"\"\n",
    "MATCH (i:Investor)-[:INVESTS_IN]->(s:Startup)\n",
    "RETURN s.name AS startup, COUNT(i) AS investor_count\n",
    "ORDER BY investor_count DESC\n",
    "\"\"\")\n",
    "\n",
    "print(\"Number of investors per startup:\")\n",
    "for record in result:\n",
    "    print(f\"{record['startup']}: {record['investor_count']}\")"
   ]
  },
  {
   "cell_type": "markdown",
   "metadata": {},
   "source": [
    "We can also perform more complex analyses while still keeping the query relatively simple. For instance, the following Cypher query identifies pairs of startups that share at least two common investors, helping us uncover potential strategic relationships or overlapping interests within the investor network."
   ]
  },
  {
   "cell_type": "code",
   "execution_count": null,
   "metadata": {},
   "outputs": [],
   "source": [
    "shared_investors_query = \"\"\"\n",
    "MATCH (i:Investor)-[:INVESTS_IN]->(s1:Startup)\n",
    "MATCH (i)-[:INVESTS_IN]->(s2:Startup)\n",
    "WHERE s1 <> s2 AND s1.name < s2.name\n",
    "WITH s1, s2, COUNT(DISTINCT i) AS shared_investors\n",
    "WHERE shared_investors >= 2\n",
    "RETURN s1.name AS Startup1, s2.name AS Startup2, shared_investors\n",
    "ORDER BY shared_investors DESC\n",
    "\"\"\"\n",
    "\n",
    "result = session.run(shared_investors_query)\n",
    "\n",
    "print(\"Startup pairs with at least 2 shared investors:\")\n",
    "for record in result:\n",
    "    print(f\"{record['Startup1']} - {record['Startup2']}: {record['shared_investors']} shared investors\")"
   ]
  },
  {
   "cell_type": "markdown",
   "metadata": {},
   "source": [
    "Some of the concepts and examples presented in this section were introduced during the practical sessions of Prof. Christophe Debruyne and Ass. Davan Chiem Dao's Advanced Databases course at Uliège university, and have been adapted here for instructional purposes."
   ]
  },
  {
   "cell_type": "markdown",
   "metadata": {},
   "source": [
    "# PageRank algorithm"
   ]
  },
  {
   "cell_type": "markdown",
   "metadata": {},
   "source": [
    "The PageRank algorithm ranks the nodes in a graph based on their influence. It is a recursive algorithm in which a node’s score depends on the scores of the nodes linking to it, as well as the number of other nodes those linking nodes connect to. This algorithm is implemented in the ***graph-data-science plugin***, and we will break down its core functionalities."
   ]
  },
  {
   "cell_type": "markdown",
   "metadata": {},
   "source": [
    "The first step is to create an **in-memory projection** of the graph. The primary goal of this projection is to streamline the graph and isolate it from live data, allowing for faster execution times by working on a simplified version of the graph. In fact, PageRank algorithm only need the structure of the graph as it does not take into account the properties of nodes nor relationships. To achieve this, we first need to retrieve the labels of our nodes and the possible relationships between them."
   ]
  },
  {
   "cell_type": "code",
   "execution_count": null,
   "metadata": {},
   "outputs": [],
   "source": [
    "labelsResponse = session.run(\"\"\"CALL db.labels()\"\"\")\n",
    "labels = labelsResponse.data()\n",
    "print(labels)\n",
    "\n",
    "relationshipResponse = session.run(\"CALL db.relationshipTypes()\")\n",
    "relationships = relationshipResponse.data()\n",
    "print(relationships)"
   ]
  },
  {
   "cell_type": "markdown",
   "metadata": {},
   "source": [
    "Then, by using the labels and relationship types, we can create the projection."
   ]
  },
  {
   "cell_type": "code",
   "execution_count": null,
   "metadata": {},
   "outputs": [],
   "source": [
    "# Drop the graph 'generalProjection' if it exists already.\n",
    "# We use YIELD graphName to avoid using deprecated return values like 'schema'.\n",
    "session.run(\"\"\"\n",
    "    CALL gds.graph.drop('generalProjection', false)\n",
    "    YIELD graphName\n",
    "\"\"\")\n",
    "\n",
    "projection_query = \"\"\"\n",
    "CALL gds.graph.project(\n",
    "  'generalProjection', \n",
    "  ['Startup', 'Investor'], \n",
    "  {\n",
    "    INVESTS_IN: {},\n",
    "    COLLABORATES_WITH: {},\n",
    "    COMPETES_WITH: {}\n",
    "  }\n",
    ")\n",
    "\"\"\"\n",
    "session.run(projection_query)"
   ]
  },
  {
   "cell_type": "markdown",
   "metadata": {},
   "source": [
    "We’re running the PageRank algorithm in stream mode, which calculates a score for each node without changing the original data. This allows us to analyze the results separately. We're also limiting the output to only the top 10 nodes based on their scores."
   ]
  },
  {
   "cell_type": "code",
   "execution_count": null,
   "metadata": {},
   "outputs": [],
   "source": [
    "pagerankGeneralQuery = \"\"\"\n",
    "    CALL gds.pageRank.stream('generalProjection')\n",
    "    YIELD nodeId, score\n",
    "    RETURN gds.util.asNode(nodeId).name AS name, score\n",
    "    ORDER BY score DESC\n",
    "    LIMIT 10\n",
    "\"\"\"\n",
    "pagerankGeneralRes = session.run(pagerankGeneralQuery)\n",
    "for record in pagerankGeneralRes:\n",
    "    print(f\"Name: {record['name']}, Score: {record['score']}\")"
   ]
  },
  {
   "cell_type": "markdown",
   "metadata": {},
   "source": [
    "Note that we can filter the type of relationship in the projection. For example, if we want to find who is the most influential investor, we can use the following projection."
   ]
  },
  {
   "cell_type": "code",
   "execution_count": null,
   "metadata": {},
   "outputs": [],
   "source": [
    "session.run(\"\"\"\n",
    "    CALL gds.graph.drop('filteredProjection', false)\n",
    "    YIELD graphName\n",
    "\"\"\")\n",
    "\n",
    "# Define the filtered projection of the graph.\n",
    "filteredProjectionQuery = \"\"\"\n",
    "  CALL gds.graph.project(\n",
    "    'filteredProjection',\n",
    "    ['Startup', 'Investor'],\n",
    "    {\n",
    "      INVESTS_IN: {}\n",
    "    }\n",
    "  )\n",
    "\"\"\"\n",
    "\n",
    "# Define the PageRank query on the filtered projection.\n",
    "# It streams the results directly (rather than writing them to the graph), then returns the top 10 nodes with the highest PageRank scores.\n",
    "pagerankFilteredQuery = \"\"\"\n",
    "  CALL gds.pageRank.stream('filteredProjection')\n",
    "  YIELD nodeId, score\n",
    "  RETURN gds.util.asNode(nodeId).name AS name, score\n",
    "  ORDER BY score DESC\n",
    "  LIMIT 10\n",
    "\"\"\"\n",
    "\n",
    "# Execute the graph projection query to create the filtered graph.\n",
    "session.run(filteredProjectionQuery)\n",
    "\n",
    "# Run the PageRank algorithm on the filtered projection and print results.\n",
    "pagerankFilteredRes = session.run(pagerankFilteredQuery)\n",
    "for record in pagerankFilteredRes:\n",
    "    print(f\"Name: {record['name']}, Score: {record['score']}\")\n"
   ]
  },
  {
   "cell_type": "markdown",
   "metadata": {},
   "source": [
    "The results are consistent with the patterns observed in the visual representation of the graph. Similarly, we can filter nodes based on their labels. For example, if we want to focus only on nodes with the label Startup, we can create a projection like this:"
   ]
  },
  {
   "cell_type": "code",
   "execution_count": null,
   "metadata": {},
   "outputs": [],
   "source": [
    "# Drop the graph 'filteredProjection2' if it exists already.\n",
    "# We use YIELD graphName to avoid using deprecated return values like 'schema'.\n",
    "session.run(\"\"\"\n",
    "    CALL gds.graph.drop('filteredProjection2', false)\n",
    "    YIELD graphName\n",
    "\"\"\")\n",
    "\n",
    "# Create 'filteredProjection2' with only Startup nodes and the remaining relationships as we dropped Investor nodes.\n",
    "filteredProjectionQuery2 = \"\"\"\n",
    "  CALL gds.graph.project(\n",
    "    'filteredProjection2', \n",
    "    ['Startup'], \n",
    "    {\n",
    "      COLLABORATES_WITH: {},\n",
    "      COMPETES_WITH: {}\n",
    "    }\n",
    "  )\n",
    "\"\"\"\n",
    "\n",
    "# Define PageRank query to rank startups based on the remaining relationships.\n",
    "pagerankFilteredQuery2 = \"\"\"\n",
    "  CALL gds.pageRank.stream('filteredProjection2')\n",
    "  YIELD nodeId, score\n",
    "  RETURN gds.util.asNode(nodeId).name AS name, score\n",
    "  ORDER BY score DESC\n",
    "  LIMIT 10\n",
    "\"\"\"\n",
    "\n",
    "# Run the graph projection to create 'filteredProjection2'.\n",
    "session.run(filteredProjectionQuery2)\n",
    "\n",
    "\n",
    "# Execute PageRank and print top 10 ranked startups by score.\n",
    "pagerankFilteredRes2 = session.run(pagerankFilteredQuery2)\n",
    "for record in pagerankFilteredRes2:\n",
    "    print(f\"Name: {record['name']}, Score: {record['score']}\")\n"
   ]
  },
  {
   "cell_type": "markdown",
   "metadata": {},
   "source": [
    "There are numerous options available to fine-tune and extend the PageRank algorithm. For more details, you can refer to the Neo4j documentation [<sup>11</sup>](#docpr)."
   ]
  },
  {
   "cell_type": "markdown",
   "metadata": {},
   "source": [
    "## Use cases\n",
    "\n",
    "The **PageRank algorithm**, initially designed by Google to rank web pages, can be applied to any work  where data can be represented as a graph. Its core algorithm can be customized to suit various types of data and domains.\n",
    "\n",
    "For example, it has been used to:\n",
    "- [Prediction of influential nodes in social networks based on local communities and users’ reaction information](https://www.nature.com/articles/s41598-024-66277-6)"
   ]
  },
  {
   "cell_type": "markdown",
   "metadata": {},
   "source": [
    "# Louvain algorithm"
   ]
  },
  {
   "cell_type": "markdown",
   "metadata": {},
   "source": [
    "The **Louvain algorithm** is used for community detection in graphs by maximizing a metric called modularity. It iteratively groups nodes into communities, ensuring that nodes within the same community are densely connected, while connections between different communities remain sparse. This algorithm is also implemented in the ***graph-data-science plugin***."
   ]
  },
  {
   "cell_type": "markdown",
   "metadata": {},
   "source": [
    "The Louvain algorithm also operates on an **in-memory graph projection**. In this tutorial, we will use the same projection created for the PageRank algorithm. Like PageRank, Louvain offers various execution modes, and to maintain consistency with our previous approach, we will use stream mode."
   ]
  },
  {
   "cell_type": "markdown",
   "metadata": {},
   "source": [
    "We create a query that orders the communities by the number of nodes they contain. The query also lists the nodes in each community and limits the output to the top 5 communities."
   ]
  },
  {
   "cell_type": "code",
   "execution_count": null,
   "metadata": {},
   "outputs": [],
   "source": [
    "# On the whole graph\n",
    "louvainGeneralQuery = \"\"\"\n",
    "     CALL gds.louvain.stream('generalProjection')\n",
    "     YIELD nodeId, communityId\n",
    "     WITH communityId, \n",
    "          collect(gds.util.asNode(nodeId).name) AS nodes, \n",
    "          count(*) AS communitySize\n",
    "     ORDER BY communitySize DESC\n",
    "     LIMIT 5\n",
    "     RETURN communityId AS community, communitySize, nodes\n",
    "\"\"\"\n",
    "\n",
    "louvainGeneralRes = session.run(louvainGeneralQuery)\n",
    "for record in louvainGeneralRes:\n",
    "    print(f\"community: {record['community']}, communitySize: {record['communitySize']}, nodes: {record['nodes']}\")\n",
    "\n",
    "# Persist the Louvain communities in the graph.\n",
    "# Use the write mode to store the results in the graph.\n",
    "louvainPersistQuery = \"\"\"\n",
    "    CALL gds.louvain.write('generalProjection', {\n",
    "        writeProperty: 'communityId'\n",
    "    })\n",
    "\"\"\"\n",
    "session.run(louvainPersistQuery)\n"
   ]
  },
  {
   "cell_type": "code",
   "execution_count": null,
   "metadata": {},
   "outputs": [],
   "source": [
    "# Only on INVESTS_IN relationships\n",
    "louvainFilteredQuery = \"\"\"\n",
    "     CALL gds.louvain.stream('filteredProjection')\n",
    "     YIELD nodeId, communityId\n",
    "     WITH communityId, \n",
    "          collect(gds.util.asNode(nodeId).name) AS nodes, \n",
    "          count(*) AS communitySize\n",
    "     ORDER BY communitySize DESC\n",
    "     LIMIT 5\n",
    "     RETURN communityId AS community, communitySize, nodes\n",
    "\"\"\"\n",
    "\n",
    "louvainFilteredRes = session.run(louvainFilteredQuery)\n",
    "for record in louvainFilteredRes:\n",
    "    print(f\"community: {record['community']}, communitySize: {record['communitySize']}, nodes: {record['nodes']}\")"
   ]
  },
  {
   "cell_type": "code",
   "execution_count": null,
   "metadata": {},
   "outputs": [],
   "source": [
    "# Only keep the Investor nodes, COLLABORATES_WITH and COMPETES_WITH relationships.\n",
    "louvainFilteredQuery2 = \"\"\"\n",
    "     CALL gds.louvain.stream('filteredProjection2')\n",
    "     YIELD nodeId, communityId\n",
    "     WITH communityId, \n",
    "          collect(gds.util.asNode(nodeId).name) AS nodes, \n",
    "          count(*) AS communitySize\n",
    "     ORDER BY communitySize DESC\n",
    "     LIMIT 5\n",
    "     RETURN communityId AS community, communitySize, nodes\n",
    "\"\"\"\n",
    "\n",
    "louvainFilteredRes2 = session.run(louvainFilteredQuery2)\n",
    "for record in louvainFilteredRes2:\n",
    "    print(f\"community: {record['community']}, communitySize: {record['communitySize']}, nodes: {record['nodes']}\")\n"
   ]
  },
  {
   "cell_type": "markdown",
   "metadata": {},
   "source": [
    "In the first example, we included a query that writes the communityId back to each node as a property. This is crucial, as it enables us to use the communityId for coloring the nodes in visualization tools."
   ]
  },
  {
   "cell_type": "code",
   "execution_count": null,
   "metadata": {},
   "outputs": [],
   "source": [
    "# Step 1: Get unique community IDs\n",
    "clustering_query = \"\"\"\n",
    "MATCH (n)\n",
    "WHERE n.communityId IS NOT NULL\n",
    "RETURN DISTINCT n.communityId AS cid\n",
    "ORDER BY cid\n",
    "\"\"\"\n",
    "community_ids = [record[\"cid\"] for record in session.run(clustering_query)]\n",
    "\n",
    "# Step 2: Remap community IDs to sequential indices\n",
    "community_remap = {cid: idx for idx, cid in enumerate(community_ids)}\n",
    "\n",
    "# Step 3: Define a color palette\n",
    "community_colors = [\n",
    "    \"#17bebb\", \"#ffc914\", \"#0b7189\", \"#ff6c00\", \"#76b041\",\n",
    "    \"#ee6352\", \"#2d3142\", \"#546a7b\", \"#c7efcf\", \"#a9def9\",\n",
    "    \"#f72585\", \"#7209b7\", \"#3a0ca3\", \"#4361ee\", \"#4cc9f0\",\n",
    "    \"#ff9f1c\", \"#2ec4b6\", \"#e71d36\", \"#ff3366\", \"#118ab2\",\n",
    "    \"#073b4c\", \"#ffd166\", \"#ef476f\", \"#06d6a0\", \"#118cd6\",\n",
    "    \"#9b5de5\", \"#f15bb5\", \"#00bbf9\", \"#00f5d4\", \"#90be6d\",\n",
    "    \"#f9c74f\", \"#f9844a\", \"#43aa8b\", \"#577590\", \"#3a86ff\",\n",
    "    \"#8338ec\", \"#ff006e\", \"#ffbe0b\", \"#fb5607\", \"#ffcad4\"\n",
    "]\n",
    "\n",
    "# Step 4: Define a color mapping function\n",
    "def community_color_map(node):\n",
    "    cid = node[\"properties\"].get(\"communityId\")\n",
    "    if cid is None:\n",
    "        return \"#cccccc\"\n",
    "    cid_mapped = community_remap.get(cid, -1)\n",
    "    return community_colors[cid_mapped % len(community_colors)]\n",
    "\n",
    "# Step 5: Register the color config\n",
    "g = Neo4jGraphWidget(driver)\n",
    "g.add_node_configuration('*', color=community_color_map)\n",
    "\n",
    "# Step 6: Show the graph (coloring by remapped communityId)\n",
    "g.show_cypher(\"\"\"\n",
    "MATCH (n)\n",
    "WHERE n.communityId IS NOT NULL\n",
    "OPTIONAL MATCH (n)-[r]->(m)\n",
    "RETURN n, r, m\n",
    "\"\"\")"
   ]
  },
  {
   "cell_type": "markdown",
   "metadata": {},
   "source": [
    "There are also numerous options available for configuring the Louvain algorithm. You can find more details in the Neo4j Graph Data Science documentation[<sup>12</sup>](#doclouvain)."
   ]
  },
  {
   "cell_type": "markdown",
   "metadata": {},
   "source": [
    "## Use cases\n",
    "\n",
    "As for the PageRank algorithm, the Louvain community detection method can be applied to any work in which data can be represented as a graph. Its core algorithm can also be modified as to adapt to the data that it is handling.\n",
    "\n",
    "\n",
    "For example, it has been previously used to:\n",
    "- [Analyze the hierarchical modularity in human brain functional networks](https://www.frontiersin.org/journals/neuroinformatics/articles/10.3389/neuro.11.037.2009/full);\n",
    "- [Track the Evolution of Communities in\n",
    "Dynamic Social Networks](http://derekgreene.com/papers/greene10tracking.pdf);\n",
    "- [Improve profile search results on social media applications](http://jonathanhaynes.org/files/mappingsearchrelevancetosocialnetworks.pdf)."
   ]
  },
  {
   "cell_type": "markdown",
   "metadata": {},
   "source": [
    "# Cross-analysis"
   ]
  },
  {
   "cell_type": "markdown",
   "metadata": {},
   "source": [
    "In both the **general** and **filtered** projections, we can see a clear relationship between **PageRank** and **communities**:  \n",
    "\n",
    "1. **High PageRank often aligns with large or central communities** – e.g., *Stripe* and *Binance* consistently appear in top-ranked communities. This means that important nodes are usually found in well-connected groups.\n",
    "\n",
    "2. **Filtering reveals dependency on indirect links** – In the ***INVESTS_IN*** projection, some nodes like OpenAI maintain high PageRank, while others drop, showing their importance depends on the type of connections considered.\n",
    "\n",
    "3. **PageRank captures the \"bridge\" effect** – Startups like *Coinbase* and *Stripe* connect distinct groups, increasing influence beyond community size alone.\n",
    "\n",
    "This shows that **PageRank and community structure are correlated**, but the strength of a node's connections (connecting different groups) can sometimes be more important than just the size of the community."
   ]
  },
  {
   "cell_type": "markdown",
   "metadata": {},
   "source": [
    "#  Real-World Use Cases[<sup>13</sup>](#usecases)"
   ]
  },
  {
   "cell_type": "markdown",
   "metadata": {},
   "source": [
    "## Common applications\n",
    "\n",
    "Neo4j (and graph databases in general) are commonly used in a variety of fields where data is highly interconnected. These applications are particularly well-suited for graph databases because of their ability to efficiently manage and query complex relationships.\n",
    "\n",
    "### 1. Knowledge graphs\n",
    "\n",
    "A **knowledge graph** is a data model which represents information as a network of entities (nodes) and the relationships between them (edges). It is used to make complex data more manageable and easier to understand. \n",
    "\n",
    "With Neo4j, building knowledge graphs becomes more intuitive, as real-world relationships are naturally mapped to the graph structure. The graph is also fast to code, requiring few lines of code, and quick to update due to its flexible data schema.\n",
    "Additionaly, users can use tools like [Neo4j's Knowledge Graph Builder](https://neo4j.com/labs/genai-ecosystem/llm-graph-builder/) to quickly build knowledge graphs from their data.\n",
    "\n",
    "### 2. Generative AI\n",
    "\n",
    "Generative Artificial Intelligences (such as large language models) often struggle with reasoning. The structured nature of knowledge graphs powered by **Neo4j** allows these AIs to access relevant contextual data more efficiently. Therefore, AI-generated responses become more accurate, as they are based in truth.\n",
    "\n",
    "By incorporating user preferences and histories——which can be easily integrated into the knowledge graphs——AIs are also able to generate more personalized responses.\n",
    "\n",
    "Example (paper): [The Growing Importance of Graph Databases for AI](https://media.bitpipe.com/io_31x/io_316186/item_2812073/ESG-WP-AWS-Neptune-Jun-2024.pdf).\n",
    "\n",
    "### 3. Fraud detection\n",
    "\n",
    "When committing bank fraud, fraudsters often operate in rings, which are highly connected networks. Graph databases make fraud-pattern recognition more efficient than SQL databases since the relationships between transactions and individuals can be transposed to a graph, which can then be analyzed to detect suspicious activity.\n",
    "\n",
    "Example (paper): [Enhancing fraud detection in banking by integration of graph databases with machine learning](https://www.sciencedirect.com/science/article/pii/S2215016124001377).\n",
    "\n",
    "### 4. Identity & Access management\n",
    "\n",
    "Graph databases can be useful for managing roles and access to data sets because they naturally represent relationships—such as user-role or role-permission links—as edges. This model can make it easier to visualize and traverse access control structures. While Cypher provides a flexible way to query and modify these relationships, implementing a robust and secure access control system still requires careful design. For example, performance, consistency, and complexity can become challenges in large-scale or highly dynamic environments.\n",
    "\n",
    "Example (paper): [Comparison of Access Control Approaches for Graph-Structured Data](https://www.researchgate.net/publication/381109230_Comparison_of_Access_Control_Approaches_for_Graph-Structured_Data/link/665d6e1dbc86444c7229431a/download?_tp=eyJjb250ZXh0Ijp7ImZpcnN0UGFnZSI6InB1YmxpY2F0aW9uIiwicGFnZSI6InB1YmxpY2F0aW9uIn19)\n",
    "\n",
    "### 5. Master data management\n",
    "\n",
    "Neo4j offers a master data management service that allows to unify your data into a single \"*360° view*\" of your data. This means that, for example, data related to customer, product, supplier, and logistics information can be put together in order to leverage insights across datasets. \n",
    "\n",
    "Example (white paper): [Rethink Your Master Data - How Connections Will Define the Future of MDM](https://go.neo4j.com/rs/710-RRC-335/images/Neo4j-Master-Data-Management-white-paper-EN-US.pdf)\n",
    "\n",
    "### 6. Network and IT operations\n",
    "\n",
    "Graph databases are ideal for integrating network and IT assets to help with troubleshooting and analyzing networks. By using a graph database, connections between different monitoring tools is possible, allowing users to improve the management of their networks.\n",
    "\n",
    "Example (white paper): [How Graph Databases Solve Problems in Network & Data Center Management: a Close Look at Two Deployments](https://we-yun.com/doc/neo4j-book/%E5%9B%BE%E6%95%B0%E6%8D%AE%E5%BA%93%E4%BA%94%E5%A4%A7%E5%BA%94%E7%94%A8%E6%A1%88%E4%BE%8B/EMA_Neo4j_Two_Deployments-WP.pdf)\n",
    "\n",
    "### 7. Real-time recommendations\n",
    "\n",
    "The speed of editing, traversing, and extracting data from graph databases is unmatched by other databases types, enabling real-time recommendation processing. Additionally, since graph databases efficiently handle complex and deep relationships between entities, they make recommendations like \"People who bought this also bought...\" possible. \n",
    "\n",
    "Example (white paper): [Powering Real-Time Recommendations with Graph Database Technology](https://go.neo4j.com/rs/710-RRC-335/images/Neo4j_WP_Recommendations_EN_BUS.pdf?_ga=2.216021586.597232194.1522833081-1282627512.1522833081)\n",
    "\n",
    "### 8. Data privacy, risk and compliance\n",
    "\n",
    "Neo4j's [*Privacy-Shield*](https://neo4j.com/use-cases/gdpr-compliance/?ref=web-solutions-privacy-risk-compliance) helps companies comply with the EU's [General Data Protection Requirements (GDPR)](https://europa.eu/youreurope/business/dealing-with-customers/data-protection/data-protection-gdpr/index_en.htm), which requires companies to control and manage customer data. \n",
    "\n",
    "It connects personal data and tracks:\n",
    "- The location of private information;\n",
    "- Which systems and apps use the data;\n",
    "- How and when personal data is used;\n",
    "- Who views and uses the data;\n",
    "- What permissions you have to use the data, and when and how they were obtained;\n",
    "- Where and when personal data moves.\n",
    "\n",
    "The regulations of different countries (such as the [California Consumer Privacy Act](https://oag.ca.gov/privacy/ccpa)) are also tackled, but the GDPR is more relevant in this context.\n",
    "\n",
    "### 9. Supply chain management\n",
    "\n",
    "Supply chains are complex networks, making graph databases particularly well-suited for managing them. With graph databases, it is then possible to anticipate shifts in demand, predict product handling costs, and adapt to new compliance standards.\n",
    "\n",
    "Example (paper): [Graph Database to Enhance Supply Chain Resilience for Industry 4.0](https://pdfs.semanticscholar.org/88cf/a5f142b2656090010fdc212260e03098a6f2.pdf)\n",
    "\n",
    "## Industry use cases\n",
    "\n",
    "Many industry uses of Neo4j are a combination of the common uses mentioned previously.\n",
    "\n",
    "Industries use Neo4j for the following applications:\n",
    "\n",
    "1. Financial services\n",
    "    - Detect fraud rings (analyze networks of transactions);\n",
    "    - Model ever-changing complex assets (track dependencies between entities);\n",
    "    - Securing user data (manage identity & access management).\n",
    "    \n",
    "    Notable users: [UBS](https://www.ubs.com/us/en.html), [Cerved](https://www.cerved.com/en), [Royal Bank of Scotland](https://www.rbs.co.uk/).\n",
    "\n",
    "2. Government:\n",
    "    - Connect different data records in criminal investigations (connecting separate datasets);\n",
    "    - Manage the equipment of governmental staff (track resources and supply chains);\n",
    "    - Detect failure causes (track dependencies between entities).\n",
    "    \n",
    "    Notable users: [US Army](https://www.army.mil/), [IQT](https://www.iqt.org/), [MITRE](https://www.mitre.org/), [Lockheed Martin Space](https://www.lockheedmartin.com/), [NASA](https://www.nasa.gov/).\n",
    "\n",
    "3. Healthcare & life sciences:\n",
    "    - Model connections between genes, proteins, cells and tissues (create and analyze knowledge graphs);\n",
    "    - Model molecules (create and analyze knowledge graphs);\n",
    "    - Map patients' journeys (create and analyze knowledge graphs).\n",
    "    \n",
    "    Notable users: [Novartis](https://www.novartis.com/), [Boston Scientific](https://www.bostonscientific.com/en-US/home.html), [ChemAxon](https://chemaxon.com/), [Bayer (Monsanto)](https://www.bayer.com/en/).\n",
    "\n",
    "4. Retail:\n",
    "    - Provide real-time product recommendations (updating knowledge graphs dynamically);\n",
    "    - Change prices dynamically (updating knowledge graphs dynamically);\n",
    "    - Optimize delivery routing (updating knowledge graphs dynamically).\n",
    "    \n",
    "    Notable users: [Walmart](https://www.walmart.com/), [eBay](https://www.ebay.com/), [Adidas](https://www.adidas-group.com/en/), [Transparency-One](https://www.transparency-one.com/).\n",
    "\n",
    "5. Telecommunications:\n",
    "    - Model customer-related graphs (create and analyze knowledge graphs);\n",
    "    - Model communication networks (create and analyze knowledge graphs).\n",
    "    \n",
    "    Notable users: [Comcast](https://corporate.comcast.com/), [Telenor](https://www.telenor.com/), [Cisco](https://www.cisco.com/).\n",
    "\n",
    "\n",
    "## Cloud partners\n",
    "\n",
    "[Neo4j's AuraDB](https://neo4j.com/product/auradb/) is also used by some of the world's largest companies' cloud storages, namely [Amazon AWS](https://neo4j.com/cloud/aura-aws/), [Microsoft Azure ecosystem](https://neo4j.com/partners/microsoft/), and [Google CLOUD](https://neo4j.com/partners/google/).\n",
    "\n",
    "The integration of Neo4j into these cloud services allow thousands of developers from all around the world to create AI models, analyze complex data, and create real-time applications."
   ]
  },
  {
   "cell_type": "markdown",
   "metadata": {},
   "source": [
    "# Conclusion"
   ]
  },
  {
   "cell_type": "markdown",
   "metadata": {},
   "source": [
    "Throughout this tutorial, we explored Neo4j's capabilities and learned several key lessons. We started by loading data from a **JSON file**, demonstrating how Neo4j can easily integrate with simple data formats and transform structured data into a graph representation. Neo4j's storage of data as nodes and relationships proved ideal for representing our startup ecosystem, while Cypher provided intuitive syntax for creating and querying the network.\n",
    "\n",
    "Our implementation of **PageRank** revealed influential nodes in our startup network, showing how companies like *Tesla* and *Lucid Motors* gain influence through their investor connections. The **Louvain algorithm** helped detect natural communities, demonstrating how startups group around similar technologies and investors. **Cross-analysis** of both algorithms showed how a node's influence often correlates with its community structure, highlighting the ability to perform **statistical analysis** using graph databases.\n",
    "\n",
    "While Neo4j excels with relationship-heavy data, it may not be the best choice for purely transactional workloads. The best choice depends on the specific use case, as there is no one-size-fits-all solution. \n",
    "\n",
    "This tutorial covers everything from initial data loading to advanced algorithm implementation, giving you a solid foundation for working with graph databases and analyzing connected data."
   ]
  },
  {
   "cell_type": "markdown",
   "metadata": {},
   "source": [
    "# References"
   ]
  },
  {
   "cell_type": "markdown",
   "metadata": {},
   "source": [
    "1. <a id=\"neo4jdef\"></a> [Graphable: What Is a Graph Database?](https://www.graphable.ai/software/what-is-neo4j-graph-database/)\n",
    "\n",
    "2. <a id=\"neo4jex\"></a> [Robinson, I., Webber, J., & Eifrem, E. (2015). Graph Databases. O'Reilly Media.](https://web4.ensiie.fr/~stefania.dumbrava/OReilly_Graph_Databases.pdf)\n",
    "\n",
    "3. <a id=\"whygraphdb\"></a> [NEBULAGRAPH 2023 Min.WU](https://www.nebula-graph.io/posts/why-use-graph-databases#:~:text=Graph%20databases%20provide%20a%20flexible,based%20on%20the%20collected%20insights.)\n",
    "\n",
    "4. <a id=\"neo4jVSsql\"></a> [Quora 2023 Sumit Sutariya - Pros and Cons of using Graph Databases compared to Traditional Relational Databases](https://www.quora.com/What-are-the-pros-and-cons-of-using-graph-databases-compared-to-traditional-relational-databases-in-modern-web-development)\n",
    "\n",
    "5. <a id=\"diffgraphandrelationaldb\"></a> [Amazon - Difference between Graph and Relational Database](https://aws.amazon.com/fr/compare/the-difference-between-graph-and-relational-database/)\n",
    "\n",
    "6. <a id=\"graphdbscalelimitation\"></a> [Thatdot Rob Malnati - Scale Limitations of Graph Databases](https://www.thatdot.com/blog/understanding-the-scale-limitations-of-graph-databases/#:~:text=Graph%20databases%20are%20great%20at,on%20streaming%20data%20are%20desired.)\n",
    "\n",
    "7. <a id=\"Neo4Jdoc\"></a> [Neo4j - Official documentation](https://neo4j.com/docs/getting-started/?utm_source=GSearch&utm_medium=PaidSearch&utm_campaign=Evergreen&utm_content=EMEA-Search-SEMCE-DSA-None-SEM-SEM-NonABM&utm_term=&utm_adgroup=DSA&gad_source=1&gclid=Cj0KCQjwtJ6_BhDWARIsAGanmKfTPoCcMxVBQzAo82Ng60-loTIjCV3yfWp9R_PvEh0qp6mz84Ks6yQaAiQlEALw_wcB)\n",
    "\n",
    "8. <a id=\"chatgpt\"></a> [ChatGPT](https://chatgpt.com/)\n",
    "\n",
    "9. <a id=\"reference-json\"></a> [Wikipedia - JSON](https://en.wikipedia.org/wiki/JSON)\n",
    "\n",
    "10. <a id=\"vizualisation\"></a> [Nodes 2024 – Advanced Graph Visualizations in Jupyter Notebooks](https://neo4j.com/videos/nodes-2024-advanced-graph-visualizations-in-jupyter-notebooks/)\n",
    "\n",
    "11. <a id=\"docpr\"></a> [Page Rank - Official documentation](https://neo4j.com/docs/graph-data-science/current/algorithms/page-rank/)\n",
    "\n",
    "12. <a id=\"doclouvain\"></a> [Louvain - Official documentation](https://neo4j.com/docs/graph-data-science/current/algorithms/louvain/)\n",
    "\n",
    "13. <a id=\"usecases\"></a> [Neo4j's use cases (and their respective white papers)](https://neo4j.com/use-cases/)\n"
   ]
  },
  {
   "cell_type": "markdown",
   "metadata": {},
   "source": [
    "# Process and Work Distribution\n",
    "\n",
    "Mehdi researched and selected the subject for the project (with the opinion of the other members), distributed the tasks equitably and then set deadlines for the tutorial:\n",
    "\n",
    "- **Jupyter Creation, Introduction, Dataset, and Conclusion**: Mehdi\n",
    "- **PageRank Implementation, Benefits and Drawbacks of Database Technology (Comparing with Relational Databases)**: Nicolas\n",
    "- **Louvain Algorithm for Communities**: Maxim\n",
    "- **Use cases and Real-World Examples in Different Industries**: Andreas\n",
    "\n",
    "After completing our respective sections, each member reviewed and improved on the work of others to ensure the overall correctness and coherence of the tutorial.\n"
   ]
  }
 ],
 "metadata": {
  "kernelspec": {
   "display_name": "Stat1",
   "language": "python",
   "name": "python3"
  },
  "language_info": {
   "codemirror_mode": {
    "name": "ipython",
    "version": 3
   },
   "file_extension": ".py",
   "mimetype": "text/x-python",
   "name": "python",
   "nbconvert_exporter": "python",
   "pygments_lexer": "ipython3",
   "version": "3.11.5"
  }
 },
 "nbformat": 4,
 "nbformat_minor": 2
}
