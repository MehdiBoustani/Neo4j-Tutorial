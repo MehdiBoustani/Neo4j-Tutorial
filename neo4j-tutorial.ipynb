{
 "cells": [
  {
   "cell_type": "markdown",
   "metadata": {},
   "source": [
    "# Introduction"
   ]
  },
  {
   "cell_type": "markdown",
   "metadata": {},
   "source": [
    "Nowadays, traditional databases often struggle with highly connected data, leading to slow and complex queries. Neo4j, a graph database released in 2007, solves this problem by storing data as nodes and relationships instead of tables. This approach makes it faster and easier to explore connections between entities.\n",
    "\n",
    "Neo4j is widely used in areas like social networks, recommendation systems, and knowledge graphs—where relationships matter most. In this tutorial, we will explore its capabilities by analyzing a startup ecosystem, using Cypher queries, PageRank, and Louvain community detection to uncover key insights."
   ]
  },
  {
   "cell_type": "markdown",
   "metadata": {},
   "source": [
    "# Comparison with Relational Databases "
   ]
  },
  {
   "cell_type": "markdown",
   "metadata": {},
   "source": [
    "* Advantages of Neo4j over relational databases\n",
    "\n",
    "* Drawbacks of Neo4j compared to relational databases\n",
    "\n",
    "* Example Cypher query to illustrate a key difference with SQL\n",
    "\n",
    "* Key takeaways"
   ]
  },
  {
   "cell_type": "markdown",
   "metadata": {},
   "source": [
    "# Installation & configuration"
   ]
  },
  {
   "cell_type": "markdown",
   "metadata": {},
   "source": [
    "## Installing Neo4J\n",
    "If you don't have Docker installed, you can install it from [here](https://www.docker.com/). \n",
    "\n",
    "First, in the terminal, pull the Neo4J image from Docker:\n",
    "\n",
    "`docker pull neo4j`\n",
    "\n",
    "Now, create a Neo4J instance (thanks to the docker-compose.yml file).\n",
    "\n",
    "`docker compose up -d`\n",
    "\n",
    "You can now access the Neo4J browser by going to [http://localhost:7474](http://localhost:7474). We will use this to visualize the graph.\n",
    "\n",
    "The default username is `neo4j` and the default password is `password`.\n",
    "\n"
   ]
  },
  {
   "cell_type": "code",
   "execution_count": 139,
   "metadata": {},
   "outputs": [
    {
     "name": "stdout",
     "output_type": "stream",
     "text": [
      "Requirement already satisfied: neo4j in c:\\users\\boust\\appdata\\local\\packages\\pythonsoftwarefoundation.python.3.11_qbz5n2kfra8p0\\localcache\\local-packages\\python311\\site-packages (5.28.1)\n",
      "Requirement already satisfied: pytz in c:\\users\\boust\\appdata\\local\\packages\\pythonsoftwarefoundation.python.3.11_qbz5n2kfra8p0\\localcache\\local-packages\\python311\\site-packages (from neo4j) (2025.2)\n"
     ]
    },
    {
     "name": "stderr",
     "output_type": "stream",
     "text": [
      "\n",
      "[notice] A new release of pip is available: 24.0 -> 25.0.1\n",
      "[notice] To update, run: python.exe -m pip install --upgrade pip\n"
     ]
    },
    {
     "name": "stdout",
     "output_type": "stream",
     "text": [
      "Requirement already satisfied: yfiles_jupyter_graphs_for_neo4j in c:\\users\\boust\\appdata\\local\\packages\\pythonsoftwarefoundation.python.3.11_qbz5n2kfra8p0\\localcache\\local-packages\\python311\\site-packages (1.6.0)\n",
      "Requirement already satisfied: yfiles_jupyter_graphs>=1.9.0 in c:\\users\\boust\\appdata\\local\\packages\\pythonsoftwarefoundation.python.3.11_qbz5n2kfra8p0\\localcache\\local-packages\\python311\\site-packages (from yfiles_jupyter_graphs_for_neo4j) (1.10.1)\n",
      "Requirement already satisfied: ipywidgets>=8.0.0 in c:\\users\\boust\\appdata\\local\\packages\\pythonsoftwarefoundation.python.3.11_qbz5n2kfra8p0\\localcache\\local-packages\\python311\\site-packages (from yfiles_jupyter_graphs>=1.9.0->yfiles_jupyter_graphs_for_neo4j) (8.1.5)\n",
      "Requirement already satisfied: comm>=0.1.3 in c:\\users\\boust\\appdata\\local\\packages\\pythonsoftwarefoundation.python.3.11_qbz5n2kfra8p0\\localcache\\local-packages\\python311\\site-packages (from ipywidgets>=8.0.0->yfiles_jupyter_graphs>=1.9.0->yfiles_jupyter_graphs_for_neo4j) (0.2.2)\n",
      "Requirement already satisfied: ipython>=6.1.0 in c:\\users\\boust\\appdata\\local\\packages\\pythonsoftwarefoundation.python.3.11_qbz5n2kfra8p0\\localcache\\local-packages\\python311\\site-packages (from ipywidgets>=8.0.0->yfiles_jupyter_graphs>=1.9.0->yfiles_jupyter_graphs_for_neo4j) (9.0.2)\n",
      "Requirement already satisfied: traitlets>=4.3.1 in c:\\users\\boust\\appdata\\local\\packages\\pythonsoftwarefoundation.python.3.11_qbz5n2kfra8p0\\localcache\\local-packages\\python311\\site-packages (from ipywidgets>=8.0.0->yfiles_jupyter_graphs>=1.9.0->yfiles_jupyter_graphs_for_neo4j) (5.14.3)\n",
      "Requirement already satisfied: widgetsnbextension~=4.0.12 in c:\\users\\boust\\appdata\\local\\packages\\pythonsoftwarefoundation.python.3.11_qbz5n2kfra8p0\\localcache\\local-packages\\python311\\site-packages (from ipywidgets>=8.0.0->yfiles_jupyter_graphs>=1.9.0->yfiles_jupyter_graphs_for_neo4j) (4.0.13)\n",
      "Requirement already satisfied: jupyterlab-widgets~=3.0.12 in c:\\users\\boust\\appdata\\local\\packages\\pythonsoftwarefoundation.python.3.11_qbz5n2kfra8p0\\localcache\\local-packages\\python311\\site-packages (from ipywidgets>=8.0.0->yfiles_jupyter_graphs>=1.9.0->yfiles_jupyter_graphs_for_neo4j) (3.0.13)\n",
      "Requirement already satisfied: colorama in c:\\users\\boust\\appdata\\local\\packages\\pythonsoftwarefoundation.python.3.11_qbz5n2kfra8p0\\localcache\\local-packages\\python311\\site-packages (from ipython>=6.1.0->ipywidgets>=8.0.0->yfiles_jupyter_graphs>=1.9.0->yfiles_jupyter_graphs_for_neo4j) (0.4.6)\n",
      "Requirement already satisfied: decorator in c:\\users\\boust\\appdata\\local\\packages\\pythonsoftwarefoundation.python.3.11_qbz5n2kfra8p0\\localcache\\local-packages\\python311\\site-packages (from ipython>=6.1.0->ipywidgets>=8.0.0->yfiles_jupyter_graphs>=1.9.0->yfiles_jupyter_graphs_for_neo4j) (5.2.1)\n",
      "Requirement already satisfied: ipython-pygments-lexers in c:\\users\\boust\\appdata\\local\\packages\\pythonsoftwarefoundation.python.3.11_qbz5n2kfra8p0\\localcache\\local-packages\\python311\\site-packages (from ipython>=6.1.0->ipywidgets>=8.0.0->yfiles_jupyter_graphs>=1.9.0->yfiles_jupyter_graphs_for_neo4j) (1.1.1)\n",
      "Requirement already satisfied: jedi>=0.16 in c:\\users\\boust\\appdata\\local\\packages\\pythonsoftwarefoundation.python.3.11_qbz5n2kfra8p0\\localcache\\local-packages\\python311\\site-packages (from ipython>=6.1.0->ipywidgets>=8.0.0->yfiles_jupyter_graphs>=1.9.0->yfiles_jupyter_graphs_for_neo4j) (0.19.2)\n",
      "Requirement already satisfied: matplotlib-inline in c:\\users\\boust\\appdata\\local\\packages\\pythonsoftwarefoundation.python.3.11_qbz5n2kfra8p0\\localcache\\local-packages\\python311\\site-packages (from ipython>=6.1.0->ipywidgets>=8.0.0->yfiles_jupyter_graphs>=1.9.0->yfiles_jupyter_graphs_for_neo4j) (0.1.7)\n",
      "Requirement already satisfied: prompt_toolkit<3.1.0,>=3.0.41 in c:\\users\\boust\\appdata\\local\\packages\\pythonsoftwarefoundation.python.3.11_qbz5n2kfra8p0\\localcache\\local-packages\\python311\\site-packages (from ipython>=6.1.0->ipywidgets>=8.0.0->yfiles_jupyter_graphs>=1.9.0->yfiles_jupyter_graphs_for_neo4j) (3.0.50)\n",
      "Requirement already satisfied: pygments>=2.4.0 in c:\\users\\boust\\appdata\\local\\packages\\pythonsoftwarefoundation.python.3.11_qbz5n2kfra8p0\\localcache\\local-packages\\python311\\site-packages (from ipython>=6.1.0->ipywidgets>=8.0.0->yfiles_jupyter_graphs>=1.9.0->yfiles_jupyter_graphs_for_neo4j) (2.19.1)\n",
      "Requirement already satisfied: stack_data in c:\\users\\boust\\appdata\\local\\packages\\pythonsoftwarefoundation.python.3.11_qbz5n2kfra8p0\\localcache\\local-packages\\python311\\site-packages (from ipython>=6.1.0->ipywidgets>=8.0.0->yfiles_jupyter_graphs>=1.9.0->yfiles_jupyter_graphs_for_neo4j) (0.6.3)\n",
      "Requirement already satisfied: typing_extensions>=4.6 in c:\\users\\boust\\appdata\\local\\packages\\pythonsoftwarefoundation.python.3.11_qbz5n2kfra8p0\\localcache\\local-packages\\python311\\site-packages (from ipython>=6.1.0->ipywidgets>=8.0.0->yfiles_jupyter_graphs>=1.9.0->yfiles_jupyter_graphs_for_neo4j) (4.12.2)\n",
      "Requirement already satisfied: parso<0.9.0,>=0.8.4 in c:\\users\\boust\\appdata\\local\\packages\\pythonsoftwarefoundation.python.3.11_qbz5n2kfra8p0\\localcache\\local-packages\\python311\\site-packages (from jedi>=0.16->ipython>=6.1.0->ipywidgets>=8.0.0->yfiles_jupyter_graphs>=1.9.0->yfiles_jupyter_graphs_for_neo4j) (0.8.4)\n",
      "Requirement already satisfied: wcwidth in c:\\users\\boust\\appdata\\local\\packages\\pythonsoftwarefoundation.python.3.11_qbz5n2kfra8p0\\localcache\\local-packages\\python311\\site-packages (from prompt_toolkit<3.1.0,>=3.0.41->ipython>=6.1.0->ipywidgets>=8.0.0->yfiles_jupyter_graphs>=1.9.0->yfiles_jupyter_graphs_for_neo4j) (0.2.13)\n",
      "Requirement already satisfied: executing>=1.2.0 in c:\\users\\boust\\appdata\\local\\packages\\pythonsoftwarefoundation.python.3.11_qbz5n2kfra8p0\\localcache\\local-packages\\python311\\site-packages (from stack_data->ipython>=6.1.0->ipywidgets>=8.0.0->yfiles_jupyter_graphs>=1.9.0->yfiles_jupyter_graphs_for_neo4j) (2.2.0)\n",
      "Requirement already satisfied: asttokens>=2.1.0 in c:\\users\\boust\\appdata\\local\\packages\\pythonsoftwarefoundation.python.3.11_qbz5n2kfra8p0\\localcache\\local-packages\\python311\\site-packages (from stack_data->ipython>=6.1.0->ipywidgets>=8.0.0->yfiles_jupyter_graphs>=1.9.0->yfiles_jupyter_graphs_for_neo4j) (3.0.0)\n",
      "Requirement already satisfied: pure-eval in c:\\users\\boust\\appdata\\local\\packages\\pythonsoftwarefoundation.python.3.11_qbz5n2kfra8p0\\localcache\\local-packages\\python311\\site-packages (from stack_data->ipython>=6.1.0->ipywidgets>=8.0.0->yfiles_jupyter_graphs>=1.9.0->yfiles_jupyter_graphs_for_neo4j) (0.2.3)\n"
     ]
    },
    {
     "name": "stderr",
     "output_type": "stream",
     "text": [
      "\n",
      "[notice] A new release of pip is available: 24.0 -> 25.0.1\n",
      "[notice] To update, run: python.exe -m pip install --upgrade pip\n"
     ]
    }
   ],
   "source": [
    "# Installation of Neo4j \n",
    "!pip install neo4j\n",
    "!pip install yfiles_jupyter_graphs_for_neo4j"
   ]
  },
  {
   "cell_type": "code",
   "execution_count": 140,
   "metadata": {},
   "outputs": [],
   "source": [
    "# Loading the libraries\n",
    "from neo4j import GraphDatabase\n",
    "from yfiles_jupyter_graphs_for_neo4j import Neo4jGraphWidget\n",
    "\n",
    "# Connecting to the Neo4j database\n",
    "driver = GraphDatabase.driver(uri=\"bolt://localhost:7687\", auth=(\"neo4j\", \"password\"))\n",
    "session = driver.session()\n",
    "g = Neo4jGraphWidget(driver)"
   ]
  },
  {
   "cell_type": "markdown",
   "metadata": {},
   "source": [
    "# Dataset"
   ]
  },
  {
   "cell_type": "markdown",
   "metadata": {},
   "source": []
  },
  {
   "cell_type": "markdown",
   "metadata": {},
   "source": [
    "First, we clear the existing database"
   ]
  },
  {
   "cell_type": "code",
   "execution_count": 141,
   "metadata": {},
   "outputs": [
    {
     "data": {
      "text/plain": [
       "<neo4j._sync.work.result.Result at 0x26e0f644e50>"
      ]
     },
     "execution_count": 141,
     "metadata": {},
     "output_type": "execute_result"
    }
   ],
   "source": [
    "session.run(\"\"\"\n",
    "    MATCH (n)\n",
    "    DETACH DELETE n\n",
    "\"\"\")"
   ]
  },
  {
   "cell_type": "markdown",
   "metadata": {},
   "source": [
    "Secondly, we create two JSON datasets: one for startups and the other for investors. PS: We used chatgpt to help us generating realistic data."
   ]
  },
  {
   "cell_type": "code",
   "execution_count": 142,
   "metadata": {},
   "outputs": [
    {
     "data": {
      "text/plain": [
       "<neo4j._sync.work.result.Result at 0x26e1285f450>"
      ]
     },
     "execution_count": 142,
     "metadata": {},
     "output_type": "execute_result"
    }
   ],
   "source": [
    "# Here we load the dataset into the Neo4j database\n",
    "\n",
    "# Clear existing database\n",
    "session.run(\"\"\"\n",
    "    CREATE \n",
    "    // AI Startups (Community 1)\n",
    "    (s1:Startup {name: 'OpenAI', communityId: 1, country: 'USA', technology: 'AI'}),\n",
    "    (s2:Startup {name: 'DeepMind', communityId: 1, country: 'UK', technology: 'AI'}),\n",
    "    (s3:Startup {name: 'Anthropic', communityId: 1, country: 'USA', technology: 'AI'}),\n",
    "    (s4:Startup {name: 'Cohere', communityId: 1, country: 'Canada', technology: 'AI'}),\n",
    "    (s5:Startup {name: 'Adept AI', communityId: 1, country: 'USA', technology: 'AI'}),\n",
    "    (s6:Startup {name: 'Stability AI', communityId: 1, country: 'UK', technology: 'AI'}),\n",
    "\n",
    "    // Aerospace Startups (Community 2)\n",
    "    (s7:Startup {name: 'SpaceX', communityId: 2, country: 'USA', technology: 'Aerospace'}),\n",
    "    (s8:Startup {name: 'Blue Origin', communityId: 2, country: 'USA', technology: 'Aerospace'}),\n",
    "    (s9:Startup {name: 'Rocket Lab', communityId: 2, country: 'New Zealand', technology: 'Aerospace'}),\n",
    "    (s10:Startup {name: 'Relativity Space', communityId: 2, country: 'USA', technology: 'Aerospace'}),\n",
    "    (s11:Startup {name: 'Virgin Galactic', communityId: 2, country: 'USA', technology: 'Aerospace'}),\n",
    "    (s12:Startup {name: 'Firefly Aerospace', communityId: 2, country: 'USA', technology: 'Aerospace'}),\n",
    "\n",
    "    // FinTech Startups (Community 3)\n",
    "    (s13:Startup {name: 'Stripe', communityId: 3, country: 'USA', technology: 'FinTech'}),\n",
    "    (s14:Startup {name: 'Revolut', communityId: 3, country: 'UK', technology: 'FinTech'}),\n",
    "    (s15:Startup {name: 'Klarna', communityId: 3, country: 'Sweden', technology: 'FinTech'}),\n",
    "    (s16:Startup {name: 'Brex', communityId: 3, country: 'USA', technology: 'FinTech'}),\n",
    "    (s17:Startup {name: 'Chime', communityId: 3, country: 'USA', technology: 'FinTech'}),\n",
    "    (s18:Startup {name: 'Plaid', communityId: 3, country: 'USA', technology: 'FinTech'}),\n",
    "\n",
    "    // Electric Vehicle Startups (Community 4)\n",
    "    (s19:Startup {name: 'Tesla', communityId: 4, country: 'USA', technology: 'EV'}),\n",
    "    (s20:Startup {name: 'Rivian', communityId: 4, country: 'USA', technology: 'EV'}),\n",
    "    (s21:Startup {name: 'Lucid Motors', communityId: 4, country: 'USA', technology: 'EV'}),\n",
    "    (s22:Startup {name: 'Nio', communityId: 4, country: 'China', technology: 'EV'}),\n",
    "    (s23:Startup {name: 'Xpeng', communityId: 4, country: 'China', technology: 'EV'}),\n",
    "    (s24:Startup {name: 'Fisker', communityId: 4, country: 'USA', technology: 'EV'}),\n",
    "\n",
    "    // Blockchain Startups (Community 5)\n",
    "    (s25:Startup {name: 'Binance', communityId: 5, country: 'Malta', technology: 'Blockchain'}),\n",
    "    (s26:Startup {name: 'Coinbase', communityId: 5, country: 'USA', technology: 'Blockchain'}),\n",
    "    (s27:Startup {name: 'Chainalysis', communityId: 5, country: 'USA', technology: 'Blockchain'}),\n",
    "    (s28:Startup {name: 'Ledger', communityId: 5, country: 'France', technology: 'Blockchain'}),\n",
    "    (s29:Startup {name: 'Kraken', communityId: 5, country: 'USA', technology: 'Blockchain'}),\n",
    "    (s30:Startup {name: 'Uniswap', communityId: 5, country: 'Global', technology: 'Blockchain'})\n",
    "\"\"\")\n",
    "\n",
    "\n",
    "\n",
    "session.run(\"\"\"\n",
    "    CREATE\n",
    "    (i1:Investor {name: 'Elon Musk', sector: 'AI, Aerospace, EV'}),\n",
    "    (i2:Investor {name: 'Andreessen Horowitz', sector: 'FinTech, Blockchain'}),\n",
    "    (i3:Investor {name: 'Sequoia Capital', sector: 'FinTech'}),\n",
    "    (i4:Investor {name: 'Tim Draper', sector: 'EV, Blockchain'}),\n",
    "    (i5:Investor {name: 'Binance Labs', sector: 'Blockchain'}),\n",
    "    (i6:Investor {name: 'Y Combinator', sector: 'AI, FinTech'}),\n",
    "    (i7:Investor {name: 'SoftBank', sector: 'AI, EV'}),\n",
    "    (i8:Investor {name: 'Peter Thiel', sector: 'Aerospace, AI'}),\n",
    "    (i9:Investor {name: 'Tiger Global', sector: 'FinTech'}),\n",
    "    (i10:Investor {name: 'Cathie Wood', sector: 'EV, Blockchain'}),\n",
    "    (i11:Investor {name: 'Lightspeed Ventures', sector: 'AI, FinTech'}),\n",
    "    (i12:Investor {name: 'General Catalyst', sector: 'FinTech'}),\n",
    "    (i13:Investor {name: 'Khosla Ventures', sector: 'AI, Aerospace'}),\n",
    "    (i14:Investor {name: 'Founders Fund', sector: 'Aerospace, Blockchain'}),\n",
    "    (i15:Investor {name: 'Coinbase Ventures', sector: 'Blockchain'}),\n",
    "    (i16:Investor {name: 'Google Ventures', sector: 'AI, FinTech'}),\n",
    "    (i17:Investor {name: 'Accel Partners', sector: 'FinTech'}),\n",
    "    (i18:Investor {name: 'Bessemer Venture Partners', sector: 'FinTech'}),\n",
    "    (i19:Investor {name: 'Benchmark', sector: 'EV, FinTech'}),\n",
    "    (i20:Investor {name: 'Union Square Ventures', sector: 'Blockchain'})\n",
    "\"\"\")\n",
    "\n",
    "\n",
    "\n"
   ]
  },
  {
   "cell_type": "markdown",
   "metadata": {},
   "source": [
    "Creation of the relationships between investors and startups"
   ]
  },
  {
   "cell_type": "code",
   "execution_count": 143,
   "metadata": {},
   "outputs": [
    {
     "data": {
      "text/plain": [
       "<neo4j._sync.work.result.Result at 0x26e122f2c90>"
      ]
     },
     "execution_count": 143,
     "metadata": {},
     "output_type": "execute_result"
    }
   ],
   "source": [
    "# AI Sector Investments\n",
    "session.run(\"\"\"\n",
    "    MATCH (i1:Investor {name: 'Elon Musk'}), (s1:Startup {name: 'OpenAI'}), (s2:Startup {name: 'Anthropic'}),\n",
    "          (s3:Startup {name: 'Adept AI'}), (s4:Startup {name: 'DeepMind'})\n",
    "    CREATE (i1)-[:INVESTS_IN]->(s1),\n",
    "           (i1)-[:INVESTS_IN]->(s2),\n",
    "           (i1)-[:INVESTS_IN]->(s3),\n",
    "           (i1)-[:INVESTS_IN]->(s4)\n",
    "\"\"\")\n",
    "\n",
    "session.run(\"\"\"\n",
    "    MATCH (i2:Investor {name: 'Andreessen Horowitz'}), (s1:Startup {name: 'OpenAI'}), (s2:Startup {name: 'Cohere'}),\n",
    "          (s3:Startup {name: 'Hugging Face'}), (s4:Startup {name: 'Stability AI'})\n",
    "    CREATE (i2)-[:INVESTS_IN]->(s1),\n",
    "           (i2)-[:INVESTS_IN]->(s2),\n",
    "           (i2)-[:INVESTS_IN]->(s3),\n",
    "           (i2)-[:INVESTS_IN]->(s4)\n",
    "\"\"\")\n",
    "\n",
    "# Aerospace Sector Investments\n",
    "session.run(\"\"\"\n",
    "    MATCH (i7:Investor {name: 'SoftBank'}), (s1:Startup {name: 'SpaceX'}), (s2:Startup {name: 'Blue Origin'}),\n",
    "          (s3:Startup {name: 'Rocket Lab'}), (s4:Startup {name: 'Relativity Space'})\n",
    "    CREATE (i7)-[:INVESTS_IN]->(s1),\n",
    "           (i7)-[:INVESTS_IN]->(s2),\n",
    "           (i7)-[:INVESTS_IN]->(s3),\n",
    "           (i7)-[:INVESTS_IN]->(s4)\n",
    "\"\"\")\n",
    "\n",
    "session.run(\"\"\"\n",
    "    MATCH (i8:Investor {name: 'Peter Thiel'}), (s1:Startup {name: 'SpaceX'}), (s2:Startup {name: 'Rocket Lab'})\n",
    "    CREATE (i8)-[:INVESTS_IN]->(s1),\n",
    "           (i8)-[:INVESTS_IN]->(s2)\n",
    "\"\"\")\n",
    "\n",
    "session.run(\"\"\"\n",
    "    MATCH (i7:Investor {name: 'SoftBank'}), (s1:Startup {name: 'OpenAI'}), (s2:Startup {name: 'SpaceX'}),\n",
    "          (s3:Startup {name: 'Tesla'}), (s4:Startup {name: 'Revolut'})\n",
    "    CREATE (i7)-[:INVESTS_IN]->(s1),\n",
    "           (i7)-[:INVESTS_IN]->(s2),\n",
    "           (i7)-[:INVESTS_IN]->(s3),\n",
    "           (i7)-[:INVESTS_IN]->(s4)\n",
    "\"\"\")\n",
    "\n",
    "session.run(\"\"\"\n",
    "    MATCH (i2:Investor {name: 'Andreessen Horowitz'}), (s1:Startup {name: 'OpenAI'}), (s2:Startup {name: 'Stripe'}),\n",
    "          (s3:Startup {name: 'Coinbase'}), (s4:Startup {name: 'Tesla'})\n",
    "    CREATE (i2)-[:INVESTS_IN]->(s1),\n",
    "           (i2)-[:INVESTS_IN]->(s2),\n",
    "           (i2)-[:INVESTS_IN]->(s3),\n",
    "           (i2)-[:INVESTS_IN]->(s4)\n",
    "\"\"\")\n",
    "\n",
    "session.run(\"\"\"\n",
    "    MATCH (i9:Investor {name: 'Tiger Global'}), (s1:Startup {name: 'Stripe'}), (s2:Startup {name: 'Binance'}),\n",
    "          (s3:Startup {name: 'Tesla'}), (s4:Startup {name: 'Hugging Face'})\n",
    "    CREATE (i9)-[:INVESTS_IN]->(s1),\n",
    "           (i9)-[:INVESTS_IN]->(s2),\n",
    "           (i9)-[:INVESTS_IN]->(s3),\n",
    "           (i9)-[:INVESTS_IN]->(s4)\n",
    "\"\"\")\n",
    "\n",
    "\n",
    "# FinTech Sector Investments\n",
    "session.run(\"\"\"\n",
    "    MATCH (i3:Investor {name: 'Sequoia Capital'}), (s1:Startup {name: 'Stripe'}), (s2:Startup {name: 'Revolut'}),\n",
    "          (s3:Startup {name: 'Klarna'}), (s4:Startup {name: 'Brex'})\n",
    "    CREATE (i3)-[:INVESTS_IN]->(s1),\n",
    "           (i3)-[:INVESTS_IN]->(s2),\n",
    "           (i3)-[:INVESTS_IN]->(s3),\n",
    "           (i3)-[:INVESTS_IN]->(s4)\n",
    "\"\"\")\n",
    "\n",
    "session.run(\"\"\"\n",
    "    MATCH (i9:Investor {name: 'Tiger Global'}), (s1:Startup {name: 'Stripe'}), (s2:Startup {name: 'Klarna'}),\n",
    "          (s3:Startup {name: 'Brex'})\n",
    "    CREATE (i9)-[:INVESTS_IN]->(s1),\n",
    "           (i9)-[:INVESTS_IN]->(s2),\n",
    "           (i9)-[:INVESTS_IN]->(s3)\n",
    "\"\"\")\n",
    "\n",
    "# Electric Vehicle Sector Investments\n",
    "session.run(\"\"\"\n",
    "    MATCH (i10:Investor {name: 'Cathie Wood'}), (s1:Startup {name: 'Tesla'}), (s2:Startup {name: 'Nio'}),\n",
    "          (s3:Startup {name: 'Rivian'})\n",
    "    CREATE (i10)-[:INVESTS_IN]->(s1),\n",
    "           (i10)-[:INVESTS_IN]->(s2),\n",
    "           (i10)-[:INVESTS_IN]->(s3)\n",
    "\"\"\")\n",
    "\n",
    "session.run(\"\"\"\n",
    "    MATCH (i11:Investor {name: 'Mark Cuban'}), (s1:Startup {name: 'Tesla'}), (s2:Startup {name: 'Lucid Motors'})\n",
    "    CREATE (i11)-[:INVESTS_IN]->(s1),\n",
    "           (i11)-[:INVESTS_IN]->(s2)\n",
    "\"\"\")\n",
    "\n",
    "# Blockchain Sector Investments\n",
    "session.run(\"\"\"\n",
    "    MATCH (i5:Investor {name: 'Binance Labs'}), (s1:Startup {name: 'Binance'}), (s2:Startup {name: 'Ledger'})\n",
    "    CREATE (i5)-[:INVESTS_IN]->(s1),\n",
    "           (i5)-[:INVESTS_IN]->(s2)\n",
    "\"\"\")\n",
    "\n",
    "session.run(\"\"\"\n",
    "    MATCH (i12:Investor {name: 'Accel Partners'}), (s1:Startup {name: 'Chainalysis'}), (s2:Startup {name: 'Coinbase'})\n",
    "    CREATE (i12)-[:INVESTS_IN]->(s1),\n",
    "           (i12)-[:INVESTS_IN]->(s2)\n",
    "\"\"\")\n",
    "\n"
   ]
  },
  {
   "cell_type": "markdown",
   "metadata": {},
   "source": [
    "Relationships startup-startup"
   ]
  },
  {
   "cell_type": "code",
   "execution_count": 144,
   "metadata": {},
   "outputs": [
    {
     "data": {
      "text/plain": [
       "<neo4j._sync.work.result.Result at 0x26e12aaddd0>"
      ]
     },
     "execution_count": 144,
     "metadata": {},
     "output_type": "execute_result"
    }
   ],
   "source": [
    "session.run(\"\"\"\n",
    "    MATCH (s1:Startup {name: 'OpenAI'}), (s2:Startup {name: 'Tesla'})\n",
    "    CREATE (s1)-[:COLLABORATES_WITH]->(s2)\n",
    "\"\"\")\n",
    "\n",
    "session.run(\"\"\"\n",
    "    MATCH (s1:Startup {name: 'Revolut'}), (s2:Startup {name: 'Stripe'})\n",
    "    CREATE (s1)-[:COLLABORATES_WITH]->(s2)\n",
    "\"\"\")\n",
    "\n",
    "session.run(\"\"\"\n",
    "    MATCH (s1:Startup {name: 'Binance'}), (s2:Startup {name: 'Coinbase'})\n",
    "    CREATE (s1)-[:COMPETES_WITH]->(s2)\n",
    "\"\"\")\n",
    "\n",
    "session.run(\"\"\"\n",
    "    MATCH (s1:Startup {name: 'Tesla'}), (s2:Startup {name: 'Lucid Motors'})\n",
    "    CREATE (s1)-[:COMPETES_WITH]->(s2)\n",
    "\"\"\")\n",
    "\n",
    "session.run(\"\"\"\n",
    "    MATCH (s1:Startup {name: 'SpaceX'}), (s2:Startup {name: 'Blue Origin'})\n",
    "    CREATE (s1)-[:COMPETES_WITH]->(s2)\n",
    "\"\"\")\n",
    "\n",
    "session.run(\"\"\"\n",
    "    MATCH (s1:Startup {name: 'DeepMind'}), (s2:Startup {name: 'Mistral AI'})\n",
    "    CREATE (s1)-[:PARTNERS_WITH]->(s2)\n",
    "\"\"\")\n"
   ]
  },
  {
   "cell_type": "code",
   "execution_count": 145,
   "metadata": {},
   "outputs": [
    {
     "data": {
      "application/vnd.jupyter.widget-view+json": {
       "model_id": "ab36abcd8d6e4ce38cf16cfd91e99b9e",
       "version_major": 2,
       "version_minor": 0
      },
      "text/plain": [
       "GraphWidget(layout=Layout(height='790px', width='100%'))"
      ]
     },
     "metadata": {},
     "output_type": "display_data"
    }
   ],
   "source": [
    "# Define the Cypher query to visualize Startups and Investors\n",
    "\n",
    "g.show_cypher(\"MATCH (s)-[r]->(t) RETURN s, r, t\")\n"
   ]
  },
  {
   "cell_type": "markdown",
   "metadata": {},
   "source": [
    "# PageRank algorithm"
   ]
  },
  {
   "cell_type": "code",
   "execution_count": 146,
   "metadata": {},
   "outputs": [],
   "source": [
    "# Implementation of the PageRank algorithm to find the most important nodes in the graph"
   ]
  },
  {
   "cell_type": "markdown",
   "metadata": {},
   "source": [
    "# Louvain algorithm"
   ]
  },
  {
   "cell_type": "code",
   "execution_count": 147,
   "metadata": {},
   "outputs": [],
   "source": [
    "# Implementation of the Louvain algorithm to find communities"
   ]
  },
  {
   "cell_type": "markdown",
   "metadata": {},
   "source": [
    "# Cross-Analyzing PageRank & Communities "
   ]
  },
  {
   "cell_type": "code",
   "execution_count": 148,
   "metadata": {},
   "outputs": [],
   "source": [
    "# Code for the cross-analyzing PageRank & Communities "
   ]
  },
  {
   "cell_type": "markdown",
   "metadata": {},
   "source": [
    "#  Real-World Use Cases "
   ]
  },
  {
   "cell_type": "markdown",
   "metadata": {},
   "source": [
    "Describe and/or cite real-world examples of how the database technology is used in different industries and applications."
   ]
  },
  {
   "cell_type": "markdown",
   "metadata": {},
   "source": [
    "# Conclusion"
   ]
  },
  {
   "cell_type": "markdown",
   "metadata": {},
   "source": [
    "Conclude the tutorial with a summary of the main points and the benefits (and drawbacks) of using Neo4j for graph databases."
   ]
  },
  {
   "cell_type": "markdown",
   "metadata": {},
   "source": [
    "# References"
   ]
  },
  {
   "cell_type": "markdown",
   "metadata": {},
   "source": [
    "1. [NODES 2024 – Advanced Graph Visualizations in Jupyter Notebooks](https://neo4j.com/videos/nodes-2024-advanced-graph-visualizations-in-jupyter-notebooks/)"
   ]
  }
 ],
 "metadata": {
  "kernelspec": {
   "display_name": "Python 3",
   "language": "python",
   "name": "python3"
  },
  "language_info": {
   "codemirror_mode": {
    "name": "ipython",
    "version": 3
   },
   "file_extension": ".py",
   "mimetype": "text/x-python",
   "name": "python",
   "nbconvert_exporter": "python",
   "pygments_lexer": "ipython3",
   "version": "3.11.9"
  }
 },
 "nbformat": 4,
 "nbformat_minor": 2
}
