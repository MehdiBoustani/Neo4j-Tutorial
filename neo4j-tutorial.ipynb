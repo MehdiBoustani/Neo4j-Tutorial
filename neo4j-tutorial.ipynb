{
 "cells": [
  {
   "cell_type": "markdown",
   "metadata": {},
   "source": [
    "# Introduction"
   ]
  },
  {
   "cell_type": "markdown",
   "metadata": {},
   "source": [
    "Nowadays, traditional databases often struggle with highly connected data, leading to slow and complex queries. Neo4j, a graph database released in 2007, solves this problem by storing data as nodes and relationships instead of tables. This approach makes it faster and easier to explore connections between entities.\n",
    "\n",
    "Neo4j is widely used in areas like social networks, recommendation systems, and knowledge graphs—where relationships matter most. In this tutorial, we will explore its capabilities by analyzing a startup ecosystem, fetching data from a JSON file, using Cypher queries, PageRank, and Louvain community detection to uncover key insights."
   ]
  },
  {
   "cell_type": "markdown",
   "metadata": {},
   "source": [
    "# Comparison with Relational Databases \n",
    "\n",
    "To compare Neo4j and Cypher with traditional relational databases, we will explore the advantages and drawbacks of using a graph-based approach over a tabular one.\n",
    "\n",
    "### Advantages of Neo4j and cypher over relational SQL\n",
    "One of the main advantages of Neo4j and its query language, Cypher, is that data is stored in a graph structure composed of nodes and relationships rather than in tables. This allows for the efficient traversal of relationships between entities. In Neo4j, navigating from one node to another via a relationship can be done in constant time, regardless of the graph's size.\n",
    "\n",
    "In contrast, relational databases require joins between tables to establish relationships, which can become computationally expensive—especially as the number of joins increases or when dealing with deep or complex relationships\n",
    "\n",
    "This is particularly true for relationship-heavy queries, where SQL databases often need to create recursive views or perform iterative joins to explore multi-level relationships. In contrast, Neo4j can efficiently leverage its graph-native structure to maintain **linear performance** relative to the number of hops.\n",
    "\n",
    "Another key advantage of Neo4j and Cypher is the **simplicity** and **readability** of queries when working with graph data. \n",
    "For example, if we want to find the names of people who are friends with someone named Alice, we can write the following Cypher query:\n",
    "\n",
    "```sql\n",
    "MATCH (p:Person)-[:FRIEND_OF]->(:Person {name: 'Alice'})\n",
    "RETURN p.name\n",
    "```\n",
    "\n",
    "In relational SQL, achieving the same result would require:\n",
    "\n",
    "```sql\n",
    "SELECT p1.name\n",
    "FROM Person p1\n",
    "JOIN Friendship f ON p1.id = f.person_id\n",
    "JOIN Person p2 ON f.friend_id = p2.id\n",
    "WHERE p2.name = 'Alice';\n",
    "```\n",
    "\n",
    "As shown above, relationship queries are significantly more intuitive in Cypher. \n",
    "The graph pattern-matching syntax closely reflects the actual structure of the data, making queries easier to write, read, and reason about.\n",
    "\n",
    "The third advantage of Neo4j is its **schema-free data model**. In Neo4j, we are not required to define all possible relationships or properties for each node type in advance. This allows the data model to handle irregular or evolving data naturally, offering greater flexibility as your application and data grow over time.\n",
    "\n",
    "In contrast, SQL databases rely on rigid schemas, where structural modifications often require **schema migrations**, making them less adaptable to dynamic or semi-structured data.\n",
    "\n",
    "Finally, as you will see throughout this tutorial, Neo4j is both well-suited and optimized for implementing graph algorithms. By using in-memory graph projections, we can efficiently run algorithms to uncover patterns such as communities, influence, shortest paths, and more. This makes Neo4j not just a data store, but a powerful analytical tool.\n",
    "\n",
    "### Drawbacks of Neo4j and cypher over relational SQL\n",
    "Interestingly, some of Neo4j’s strengths can also become limitations depending on the use case. \n",
    "\n",
    "1. **Transactional Workloads**\n",
    "\n",
    "    If your data is **highly structured** and the focus is on **transactions** rather than relationships, Neo4j may be less efficient than relational databases. Traditional SQL databases typically perform better for workflows centered around aggregations, batch updates, or structured reporting.\n",
    "\n",
    "2. **Real-Time Data Challenges**\n",
    "\n",
    "    Neo4j is not ideal for real-time analysis on rapidly changing data. As you will see in this tutorial, running graph algorithms often requires creating **in-memory projections**, which work best with relatively stable snapshots of the data rather than constantly updating streams.\n",
    "\n",
    "3. **Higher Memory Overhead**\n",
    "\n",
    "    Finally, graph databases tend to have a higher memory overhead compared to relational SQL databases. This is due to how they store nodes and relationships in memory to enable **fast traversal**, which can increase resource usage—especially for large-scale datasets.\n",
    "\n",
    "### Conclusion\n",
    "\n",
    "As with any decision involving database management systems, it's important to carefully analyze your **use cases** before choosing the right tool. Neo4j excels in certain scenarios, but may not be the best fit for others.\n",
    "\n",
    "A simple roadmap of requirements that might indicate Neo4j is a good choice includes:\n",
    "\n",
    "- **Unstructured or evolving data**: When the data model is flexible and may change over time.\n",
    "- **Relationship-focused queries**: When your workload involves exploring or analyzing relationships and traversals (e.g., social networks, recommendations, graphs of dependencies).\n",
    "- **Stable datasets or snapshot-based analysis**: When the data is relatively stable, or when it's acceptable to analyze it using periodic snapshots rather than in real-time.\n"
   ]
  },
  {
   "cell_type": "markdown",
   "metadata": {},
   "source": [
    "# Installation & configuration"
   ]
  },
  {
   "cell_type": "markdown",
   "metadata": {},
   "source": [
    "## Installing Neo4J\n",
    "If you don't have Docker installed, you can install it from [here](https://www.docker.com/). \n",
    "\n",
    "First, in the terminal, pull the Neo4j image from Docker:\n",
    "\n",
    "`docker pull neo4j`\n",
    "\n",
    "Now, create a Neo4J instance (thanks to the docker-compose.yml file).\n",
    "\n",
    "`docker compose up -d`\n",
    "\n",
    "You can now access the Neo4j browser by going to [http://localhost:7474](http://localhost:7474).\n",
    "\n",
    "The default username is `neo4j` and the default password is `password`.\n",
    "\n"
   ]
  },
  {
   "cell_type": "code",
   "execution_count": null,
   "metadata": {},
   "outputs": [],
   "source": [
    "# Installation of Neo4j \n",
    "!pip install neo4j\n",
    "!pip install yfiles_jupyter_graphs_for_neo4j"
   ]
  },
  {
   "cell_type": "code",
   "execution_count": null,
   "metadata": {},
   "outputs": [],
   "source": [
    "# Loading the libraries\n",
    "from neo4j import GraphDatabase\n",
    "\n",
    "# Library to visualize the graph\n",
    "from yfiles_jupyter_graphs_for_neo4j import Neo4jGraphWidget\n",
    "\n",
    "# Library to load the data from the JSON file\n",
    "import json\n",
    "\n",
    "# Connecting to the Neo4j database\n",
    "driver = GraphDatabase.driver(uri=\"bolt://localhost:7687\", auth=(\"neo4j\", \"password\"))\n",
    "session = driver.session()\n",
    "\n",
    "# Creating the graph instance in order to visualize the graph\n",
    "g = Neo4jGraphWidget(driver)"
   ]
  },
  {
   "cell_type": "markdown",
   "metadata": {},
   "source": [
    "# Dataset"
   ]
  },
  {
   "cell_type": "markdown",
   "metadata": {},
   "source": [
    "First, let's clear the existing database."
   ]
  },
  {
   "cell_type": "code",
   "execution_count": null,
   "metadata": {},
   "outputs": [],
   "source": [
    "session.run(\"\"\"\n",
    "    MATCH (n)\n",
    "    DETACH DELETE n\n",
    "\"\"\")"
   ]
  },
  {
   "cell_type": "markdown",
   "metadata": {},
   "source": [
    "In Cypher, we select all nodes (n) in the database using ***MATCH (n)***. Since some nodes may have relationships, we use ***DETACH DELETE n*** to first remove all relationships before deleting the node"
   ]
  },
  {
   "cell_type": "markdown",
   "metadata": {},
   "source": [
    "Secondly, we fetch the data from an external JSON file named ***startups.json***. This file contains structured data that we will use to populate our database. *JSON* (JavaScript Object Notation) is a widely used format for storing and exchanging data (especially in APIs) due to its simplicity. In this case, the data was generated with the help of ChatGPT [<sup>1</sup>](#chatgpt) to create realistic but fake startup and investor information. You can learn more about the JSON format here [<sup>2</sup>](#reference-json).\n"
   ]
  },
  {
   "cell_type": "code",
   "execution_count": null,
   "metadata": {},
   "outputs": [],
   "source": [
    "with open('startups.json', 'r') as file:\n",
    "    # Open the json file\n",
    "    data = json.load(file)\n",
    "    \n",
    "    # Create startups with their technology\n",
    "    for tech_name, tech_data in data['technologies'].items():\n",
    "        for startup in tech_data['startups']:\n",
    "            session.run(\"\"\"\n",
    "                CREATE (s:Startup {\n",
    "                    name: $name,\n",
    "                    country: $country,\n",
    "                    technology: $technology\n",
    "                })\n",
    "            \"\"\", {\n",
    "                'name': startup['name'],\n",
    "                'country': startup['country'],\n",
    "                'technology': tech_name\n",
    "            })\n",
    "    \n",
    "    # Create investors with their sectors\n",
    "    for investor in data['investors']:\n",
    "        session.run(\"\"\"\n",
    "            CREATE (i:Investor {\n",
    "                name: $name,\n",
    "                sector: $sector\n",
    "            })\n",
    "        \"\"\", {\n",
    "            'name': investor['name'],\n",
    "            'sector': ', '.join(investor['sectors'])\n",
    "        })\n"
   ]
  },
  {
   "cell_type": "markdown",
   "metadata": {},
   "source": [
    "### Investment relationships between investors and startups across various sectors."
   ]
  },
  {
   "cell_type": "code",
   "execution_count": null,
   "metadata": {},
   "outputs": [],
   "source": [
    "# AI Sector Investments\n",
    "session.run(\"\"\"\n",
    "    MATCH (i1:Investor {name: 'Elon Musk'}), (s1:Startup {name: 'OpenAI'}), (s2:Startup {name: 'Anthropic'}),\n",
    "          (s3:Startup {name: 'Adept AI'}), (s4:Startup {name: 'DeepMind'})\n",
    "    CREATE (i1)-[:INVESTS_IN]->(s1),\n",
    "           (i1)-[:INVESTS_IN]->(s2),\n",
    "           (i1)-[:INVESTS_IN]->(s3),\n",
    "           (i1)-[:INVESTS_IN]->(s4)\n",
    "\"\"\")\n",
    "\n",
    "session.run(\"\"\"\n",
    "    MATCH (i2:Investor {name: 'Andreessen Horowitz'}), (s1:Startup {name: 'OpenAI'}), (s2:Startup {name: 'Cohere'}),\n",
    "          (s3:Startup {name: 'Hugging Face'}), (s4:Startup {name: 'Stability AI'})\n",
    "    CREATE (i2)-[:INVESTS_IN]->(s1),\n",
    "           (i2)-[:INVESTS_IN]->(s2),\n",
    "           (i2)-[:INVESTS_IN]->(s3),\n",
    "           (i2)-[:INVESTS_IN]->(s4)\n",
    "\"\"\")\n",
    "\n",
    "# Aerospace Sector Investments\n",
    "session.run(\"\"\"\n",
    "    MATCH (i7:Investor {name: 'SoftBank'}), (s1:Startup {name: 'SpaceX'}), (s2:Startup {name: 'Blue Origin'}),\n",
    "          (s3:Startup {name: 'Rocket Lab'}), (s4:Startup {name: 'Relativity Space'})\n",
    "    CREATE (i7)-[:INVESTS_IN]->(s1),\n",
    "           (i7)-[:INVESTS_IN]->(s2),\n",
    "           (i7)-[:INVESTS_IN]->(s3),\n",
    "           (i7)-[:INVESTS_IN]->(s4)\n",
    "\"\"\")\n",
    "\n",
    "session.run(\"\"\"\n",
    "    MATCH (i8:Investor {name: 'Peter Thiel'}), (s1:Startup {name: 'SpaceX'}), (s2:Startup {name: 'Rocket Lab'})\n",
    "    CREATE (i8)-[:INVESTS_IN]->(s1),\n",
    "           (i8)-[:INVESTS_IN]->(s2)\n",
    "\"\"\")\n",
    "\n",
    "session.run(\"\"\"\n",
    "    MATCH (i7:Investor {name: 'SoftBank'}), (s1:Startup {name: 'OpenAI'}), (s2:Startup {name: 'SpaceX'}),\n",
    "          (s3:Startup {name: 'Tesla'}), (s4:Startup {name: 'Revolut'})\n",
    "    CREATE (i7)-[:INVESTS_IN]->(s1),\n",
    "           (i7)-[:INVESTS_IN]->(s2),\n",
    "           (i7)-[:INVESTS_IN]->(s3),\n",
    "           (i7)-[:INVESTS_IN]->(s4)\n",
    "\"\"\")\n",
    "\n",
    "session.run(\"\"\"\n",
    "    MATCH (i2:Investor {name: 'Andreessen Horowitz'}), (s1:Startup {name: 'OpenAI'}), (s2:Startup {name: 'Stripe'}),\n",
    "          (s3:Startup {name: 'Coinbase'}), (s4:Startup {name: 'Tesla'})\n",
    "    CREATE (i2)-[:INVESTS_IN]->(s1),\n",
    "           (i2)-[:INVESTS_IN]->(s2),\n",
    "           (i2)-[:INVESTS_IN]->(s3),\n",
    "           (i2)-[:INVESTS_IN]->(s4)\n",
    "\"\"\")\n",
    "\n",
    "session.run(\"\"\"\n",
    "    MATCH (i9:Investor {name: 'Tiger Global'}), (s1:Startup {name: 'Stripe'}), (s2:Startup {name: 'Binance'}),\n",
    "          (s3:Startup {name: 'Tesla'}), (s4:Startup {name: 'Hugging Face'})\n",
    "    CREATE (i9)-[:INVESTS_IN]->(s1),\n",
    "           (i9)-[:INVESTS_IN]->(s2),\n",
    "           (i9)-[:INVESTS_IN]->(s3),\n",
    "           (i9)-[:INVESTS_IN]->(s4)\n",
    "\"\"\")\n",
    "\n",
    "\n",
    "# FinTech Sector Investments\n",
    "session.run(\"\"\"\n",
    "    MATCH (i3:Investor {name: 'Sequoia Capital'}), (s1:Startup {name: 'Stripe'}), (s2:Startup {name: 'Revolut'}),\n",
    "          (s3:Startup {name: 'Klarna'}), (s4:Startup {name: 'Brex'})\n",
    "    CREATE (i3)-[:INVESTS_IN]->(s1),\n",
    "           (i3)-[:INVESTS_IN]->(s2),\n",
    "           (i3)-[:INVESTS_IN]->(s3),\n",
    "           (i3)-[:INVESTS_IN]->(s4)\n",
    "\"\"\")\n",
    "\n",
    "session.run(\"\"\"\n",
    "    MATCH (i9:Investor {name: 'Tiger Global'}), (s1:Startup {name: 'Stripe'}), (s2:Startup {name: 'Klarna'}),\n",
    "          (s3:Startup {name: 'Brex'})\n",
    "    CREATE (i9)-[:INVESTS_IN]->(s1),\n",
    "           (i9)-[:INVESTS_IN]->(s2),\n",
    "           (i9)-[:INVESTS_IN]->(s3)\n",
    "\"\"\")\n",
    "\n",
    "# Electric Vehicle Sector Investments\n",
    "session.run(\"\"\"\n",
    "    MATCH (i10:Investor {name: 'Cathie Wood'}), (s1:Startup {name: 'Tesla'}), (s2:Startup {name: 'Nio'}),\n",
    "          (s3:Startup {name: 'Rivian'})\n",
    "    CREATE (i10)-[:INVESTS_IN]->(s1),\n",
    "           (i10)-[:INVESTS_IN]->(s2),\n",
    "           (i10)-[:INVESTS_IN]->(s3)\n",
    "\"\"\")\n",
    "\n",
    "session.run(\"\"\"\n",
    "    MATCH (i11:Investor {name: 'Mark Cuban'}), (s1:Startup {name: 'Tesla'}), (s2:Startup {name: 'Lucid Motors'})\n",
    "    CREATE (i11)-[:INVESTS_IN]->(s1),\n",
    "           (i11)-[:INVESTS_IN]->(s2)\n",
    "\"\"\")\n",
    "\n",
    "# Blockchain Sector Investments\n",
    "session.run(\"\"\"\n",
    "    MATCH (i5:Investor {name: 'Binance Labs'}), (s1:Startup {name: 'Binance'}), (s2:Startup {name: 'Ledger'})\n",
    "    CREATE (i5)-[:INVESTS_IN]->(s1),\n",
    "           (i5)-[:INVESTS_IN]->(s2)\n",
    "\"\"\")\n",
    "\n",
    "session.run(\"\"\"\n",
    "    MATCH (i12:Investor {name: 'Accel Partners'}), (s1:Startup {name: 'Chainalysis'}), (s2:Startup {name: 'Coinbase'})\n",
    "    CREATE (i12)-[:INVESTS_IN]->(s1),\n",
    "           (i12)-[:INVESTS_IN]->(s2)\n",
    "\"\"\")\n",
    "\n"
   ]
  },
  {
   "cell_type": "markdown",
   "metadata": {},
   "source": [
    "#### Establishing relationships between startups: collaboration, competition, and partnerships."
   ]
  },
  {
   "cell_type": "code",
   "execution_count": null,
   "metadata": {},
   "outputs": [],
   "source": [
    "session.run(\"\"\"\n",
    "    MATCH (s1:Startup {name: 'OpenAI'}), (s2:Startup {name: 'Tesla'})\n",
    "    CREATE (s1)-[:COLLABORATES_WITH]->(s2)\n",
    "\"\"\")\n",
    "\n",
    "session.run(\"\"\"\n",
    "    MATCH (s1:Startup {name: 'Revolut'}), (s2:Startup {name: 'Stripe'})\n",
    "    CREATE (s1)-[:COLLABORATES_WITH]->(s2)\n",
    "\"\"\")\n",
    "\n",
    "session.run(\"\"\"\n",
    "    MATCH (s1:Startup {name: 'Binance'}), (s2:Startup {name: 'Coinbase'})\n",
    "    CREATE (s1)-[:COMPETES_WITH]->(s2)\n",
    "\"\"\")\n",
    "\n",
    "session.run(\"\"\"\n",
    "    MATCH (s1:Startup {name: 'Tesla'}), (s2:Startup {name: 'Lucid Motors'})\n",
    "    CREATE (s1)-[:COMPETES_WITH]->(s2)\n",
    "\"\"\")\n",
    "\n",
    "session.run(\"\"\"\n",
    "    MATCH (s1:Startup {name: 'SpaceX'}), (s2:Startup {name: 'Blue Origin'})\n",
    "    CREATE (s1)-[:COMPETES_WITH]->(s2)\n",
    "\"\"\")\n",
    "\n",
    "session.run(\"\"\"\n",
    "    MATCH (s1:Startup {name: 'DeepMind'}), (s2:Startup {name: 'Mistral AI'})\n",
    "    CREATE (s1)-[:PARTNERS_WITH]->(s2)\n",
    "\"\"\")\n"
   ]
  },
  {
   "cell_type": "markdown",
   "metadata": {},
   "source": [
    "### Cypher query to visualize Startups and Investors [<sup>3</sup>](#vizualisation)"
   ]
  },
  {
   "cell_type": "code",
   "execution_count": null,
   "metadata": {},
   "outputs": [],
   "source": [
    "g.show_cypher(\"MATCH (s)-[r]->(t) RETURN s, r, t\")"
   ]
  },
  {
   "cell_type": "markdown",
   "metadata": {},
   "source": [
    "# PageRank algorithm"
   ]
  },
  {
   "cell_type": "markdown",
   "metadata": {},
   "source": [
    "The PageRank algorithm ranks the nodes in a graph based on their influence. It is a recursive algorithm in which a node’s score depends on the scores of the nodes linking to it, as well as the number of other nodes those linking nodes connect to. This algorithm is implemented in the ***graph-data-science plugin***, and we will break down its core functionalities."
   ]
  },
  {
   "cell_type": "markdown",
   "metadata": {},
   "source": [
    "The first step is to create an **in-memory projection** of the graph. The primary goal of this projection is to streamline the graph and isolate it from live data, allowing for faster execution times by working on a simplified version of the graph. To achieve this, we first need to retrieve the labels of our nodes and the possible relationships between them."
   ]
  },
  {
   "cell_type": "code",
   "execution_count": null,
   "metadata": {},
   "outputs": [],
   "source": [
    "labelsResponse = session.run(\"\"\"CALL db.labels()\"\"\")\n",
    "labels = labelsResponse.data()\n",
    "print(labels)\n",
    "\n",
    "relationshipResponse = session.run(\"CALL db.relationshipTypes()\")\n",
    "relationships = relationshipResponse.data()\n",
    "print(relationships)"
   ]
  },
  {
   "cell_type": "markdown",
   "metadata": {},
   "source": [
    "Then, by using the labels and relationship types, we can create the projection."
   ]
  },
  {
   "cell_type": "code",
   "execution_count": null,
   "metadata": {},
   "outputs": [],
   "source": [
    "projection_query = \"\"\"\n",
    "CALL gds.graph.project(\n",
    "  'generalProjection', \n",
    "  ['Startup', 'Investor'], \n",
    "  {\n",
    "    INVESTS_IN: {},\n",
    "    COLLABORATES_WITH: {},\n",
    "    COMPETES_WITH: {}\n",
    "  }\n",
    ")\n",
    "\"\"\"\n",
    "session.run(projection_query)"
   ]
  },
  {
   "cell_type": "markdown",
   "metadata": {},
   "source": [
    "Now, we can run the PageRank algorithm using stream mode. In this mode, the algorithm computes a score for each node, allowing us to post-process the results without modifying the underlying data. Additionally, we limit the query to return only the top 10 nodes."
   ]
  },
  {
   "cell_type": "code",
   "execution_count": null,
   "metadata": {},
   "outputs": [],
   "source": [
    "pagerankGeneralQuery = \"\"\"\n",
    "    CALL gds.pageRank.stream('generalProjection')\n",
    "    YIELD nodeId, score\n",
    "    RETURN gds.util.asNode(nodeId).name AS name, score\n",
    "    ORDER BY score DESC\n",
    "    LIMIT 10\n",
    "\"\"\"\n",
    "pagerankGeneralRes = session.run(pagerankGeneralQuery)\n",
    "for record in pagerankGeneralRes:\n",
    "    print(f\"Name: {record['name']}, Score: {record['score']}\")"
   ]
  },
  {
   "cell_type": "markdown",
   "metadata": {},
   "source": [
    "Note that we can filter the type of relationship in the projection. For example, if we want to find the most influential node with regard to only the INVESTS_IN relationships, we can use the following projection."
   ]
  },
  {
   "cell_type": "code",
   "execution_count": null,
   "metadata": {},
   "outputs": [],
   "source": [
    "filteredProjectionQuery = \"\"\"\n",
    "  CALL gds.graph.project(\n",
    "    'filteredProjection',\n",
    "    ['Startup', 'Investor'],\n",
    "    {\n",
    "      INVESTS_IN: {}\n",
    "    }\n",
    "  )\n",
    "\"\"\"\n",
    "\n",
    "pagerankFilteredQuery = \"\"\"\n",
    "  CALL gds.pageRank.stream('filteredProjection')\n",
    "  YIELD nodeId, score\n",
    "  RETURN gds.util.asNode(nodeId).name AS name, score\n",
    "  ORDER BY score DESC\n",
    "  LIMIT 10\n",
    "\"\"\"\n",
    "\n",
    "session.run(filteredProjectionQuery)\n",
    "\n",
    "pagerankFilteredRes = session.run(pagerankFilteredQuery)\n",
    "for record in pagerankFilteredRes:\n",
    "    print(f\"Name: {record['name']}, Score: {record['score']}\")\n"
   ]
  },
  {
   "cell_type": "markdown",
   "metadata": {},
   "source": [
    "Similarly, we can filter nodes based on their labels. For example, if we want to focus only on nodes with the label Startup, we can create a projection like this:"
   ]
  },
  {
   "cell_type": "code",
   "execution_count": null,
   "metadata": {},
   "outputs": [],
   "source": [
    "filteredProjectionQuery2 = \"\"\"\n",
    "  CALL gds.graph.project(\n",
    "    'filteredProjection2', \n",
    "    ['Startup'], \n",
    "    {\n",
    "      INVESTS_IN: {},\n",
    "      COLLABORATES_WITH: {},\n",
    "      COMPETES_WITH: {}\n",
    "    }\n",
    "  )\n",
    "\"\"\"\n",
    "\n",
    "pagerankFilteredQuery2 = \"\"\"\n",
    "  CALL gds.pageRank.stream('filteredProjection2')\n",
    "  YIELD nodeId, score\n",
    "  RETURN gds.util.asNode(nodeId).name AS name, score\n",
    "  ORDER BY score DESC\n",
    "  LIMIT 10\n",
    "\"\"\"\n",
    "\n",
    "session.run(filteredProjectionQuery2)\n",
    "\n",
    "pagerankFilteredRes2 = session.run(pagerankFilteredQuery2)\n",
    "for record in pagerankFilteredRes2:\n",
    "    print(f\"Name: {record['name']}, Score: {record['score']}\")\n"
   ]
  },
  {
   "cell_type": "markdown",
   "metadata": {},
   "source": [
    "There are numerous options available to fine-tune and extend the PageRank algorithm. For more details, you can refer to the Neo4j documentation [<sup>8</sup>](#docpr). However, to keep this tutorial straightforward, we will focus only on estimating the **memory cost** of running the algorithm on our projections. Note that we must specify the execution mode—here, we are using stream mode."
   ]
  },
  {
   "cell_type": "code",
   "execution_count": null,
   "metadata": {},
   "outputs": [],
   "source": [
    "estimateQuery = \"\"\"\n",
    "    CALL gds.pageRank.stream.estimate('generalProjection', {})\n",
    "    YIELD nodeCount, relationshipCount, bytesMin, bytesMax, requiredMemory\n",
    "\"\"\"\n",
    "\n",
    "estimateRes = session.run(estimateQuery)\n",
    "for record in estimateRes.data():\n",
    "    for key, value in record.items():\n",
    "        print(f\"{key}: {value}\")"
   ]
  },
  {
   "cell_type": "markdown",
   "metadata": {},
   "source": [
    "# Louvain algorithm"
   ]
  },
  {
   "cell_type": "markdown",
   "metadata": {},
   "source": [
    "The Louvain algorithm is used for community detection in graphs by maximizing a metric called modularity. It iteratively groups nodes into communities, ensuring that nodes within the same community are densely connected, while connections between different communities remain sparse. This algorithm is also implemented in the ***graph-data-science plugin***."
   ]
  },
  {
   "cell_type": "markdown",
   "metadata": {},
   "source": [
    "The Louvain algorithm also operates on an **in-memory graph projection**. In this tutorial, we'll use the same projection created for the PageRank algorithm. Like PageRank, Louvain offers various execution modes, and to maintain consistency with our previous approach, we will use stream mode."
   ]
  },
  {
   "cell_type": "markdown",
   "metadata": {},
   "source": [
    "We create a query that orders the communities by the number of nodes they contain. The query also lists the nodes in each community and limits the output to the top 5 communities."
   ]
  },
  {
   "cell_type": "code",
   "execution_count": null,
   "metadata": {},
   "outputs": [],
   "source": [
    "louvainGeneralQuery = \"\"\"\n",
    "     CALL gds.louvain.stream('generalProjection')\n",
    "     YIELD nodeId, communityId\n",
    "     WITH communityId, \n",
    "          collect(gds.util.asNode(nodeId).name) AS nodes, \n",
    "          count(*) AS communitySize\n",
    "     ORDER BY communitySize DESC\n",
    "     LIMIT 5\n",
    "     RETURN communityId AS community, communitySize, nodes\n",
    "\"\"\"\n",
    "\n",
    "louvainGeneralRes = session.run(louvainGeneralQuery)\n",
    "for record in louvainGeneralRes:\n",
    "    print(f\"community: {record['community']}, communitySize: {record['communitySize']}, nodes: {record['nodes']}\")\n"
   ]
  },
  {
   "cell_type": "code",
   "execution_count": null,
   "metadata": {},
   "outputs": [],
   "source": [
    "louvainFilteredQuery = \"\"\"\n",
    "     CALL gds.louvain.stream('filteredProjection')\n",
    "     YIELD nodeId, communityId\n",
    "     WITH communityId, \n",
    "          collect(gds.util.asNode(nodeId).name) AS nodes, \n",
    "          count(*) AS communitySize\n",
    "     ORDER BY communitySize DESC\n",
    "     LIMIT 5\n",
    "     RETURN communityId AS community, communitySize, nodes\n",
    "\"\"\"\n",
    "\n",
    "louvainFilteredRes = session.run(louvainFilteredQuery)\n",
    "for record in louvainFilteredRes:\n",
    "    print(f\"community: {record['community']}, communitySize: {record['communitySize']}, nodes: {record['nodes']}\")"
   ]
  },
  {
   "cell_type": "code",
   "execution_count": null,
   "metadata": {},
   "outputs": [],
   "source": [
    "louvainFilteredQuery2 = \"\"\"\n",
    "     CALL gds.louvain.stream('filteredProjection2')\n",
    "     YIELD nodeId, communityId\n",
    "     WITH communityId, \n",
    "          collect(gds.util.asNode(nodeId).name) AS nodes, \n",
    "          count(*) AS communitySize\n",
    "     ORDER BY communitySize DESC\n",
    "     LIMIT 5\n",
    "     RETURN communityId AS community, communitySize, nodes\n",
    "\"\"\"\n",
    "\n",
    "louvainFilteredRes2 = session.run(louvainFilteredQuery2)\n",
    "for record in louvainFilteredRes2:\n",
    "    print(f\"community: {record['community']}, communitySize: {record['communitySize']}, nodes: {record['nodes']}\")"
   ]
  },
  {
   "cell_type": "markdown",
   "metadata": {},
   "source": [
    "There are also numerous options available for configuring the Louvain algorithm. You can find more details in the Neo4j Graph Data Science documentation[<sup>9</sup>](#doclouvain). The memory cost estimation for running this algorithm is similiar as how we porceeded with PageRank."
   ]
  },
  {
   "cell_type": "code",
   "execution_count": null,
   "metadata": {},
   "outputs": [],
   "source": [
    "estimateQuery = \"\"\"\n",
    "    CALL gds.louvain.stream.estimate('generalProjection', {})\n",
    "    YIELD nodeCount, relationshipCount, bytesMin, bytesMax, requiredMemory\n",
    "\"\"\"\n",
    "\n",
    "estimateRes = session.run(estimateQuery)\n",
    "for record in estimateRes.data():\n",
    "    for key, value in record.items():\n",
    "        print(f\"{key}: {value}\")"
   ]
  },
  {
   "cell_type": "markdown",
   "metadata": {},
   "source": [
    "#  Real-World Use Cases[<sup>10</sup>](#usecases)"
   ]
  },
  {
   "cell_type": "markdown",
   "metadata": {},
   "source": [
    "## Common applications\n",
    "\n",
    "Neo4j (or more broadly: graph databases) are commonly used in the following fields.\n",
    "Many of these applications are well-suited for Neo4j because they involve highly connected data, which graph databases handle efficiently.\n",
    "\n",
    "### 1. Knowledge graphs\n",
    "\n",
    "By using Neo4j, building knowledge graphs becomes easy since the real-world relationships are translated into data models in a straightforward way. The graph is also fast to code, requiring few lines of code, and quick to update due to its flexible data schema.\n",
    "\n",
    "### 2. Generative AI\n",
    "\n",
    "Generative AIs (such as large language models) struggle with reasoning. Knowledge graphs using Neo4j allow to overcome this by storing relevant and contextual data more efficiently.\n",
    "\n",
    "### 3. Fraud detection & analytics\n",
    "\n",
    "Since fraudsters operate in rings, graph databases make fraud-pattern recognition more efficient than SQL databases. The relationships between transactions and individuals can be transposed to a graph that can then be analyzed to detect suspicious activity.\n",
    "\n",
    "### 4. Identity & access management\n",
    "\n",
    "Managing roles and accesses to different sets of data is easily done using graph databases since relationships between entities are represented as graph edges, which are easily added or removed using the Cypher query language.\n",
    "\n",
    "### 5. Master data management\n",
    "\n",
    "Neo4j offers a master data management service that allows to unify your data into a single \"*360° view*\" of your data. This means that data related to customer, product, supplier, and logistics information can be put together in order to leverage insights across datasets. \n",
    "\n",
    "### 6. Network and IT operations\n",
    "\n",
    "Graph databases are ideal for correlating network and IT assets to help with troubleshooting or analyzing networks. By using this kind of databases, a connection between different monitoring tools is possible, allowing users to better manage their networks.\n",
    "\n",
    "### 7. Real-time recommendations\n",
    "\n",
    "The speed of graph databases is unmatched by other types of databases, allowing real-time recommendations processing to be possible.\n",
    "\n",
    "### 8. Data privacy, risk and compliance\n",
    "\n",
    "Neo4j's [*Privacy Shield*](https://neo4j.com/use-cases/gdpr-compliance/?ref=web-solutions-privacy-risk-compliance) enables companies to comply with the EU's [General Data Protection Requirements (GDPR)](https://europa.eu/youreurope/business/dealing-with-customers/data-protection/data-protection-gdpr/index_en.htm), which requires companies to control and manage customer data. \n",
    "\n",
    "It connects personal data and tracks:\n",
    "- The location of private information;\n",
    "- Which systems and apps use the data;\n",
    "- How and when personal data is used;\n",
    "- Who looks at and uses the data;\n",
    "- What permissions you have to use the data, and when and how they were obtained;\n",
    "- Where and where personal data moves.\n",
    "\n",
    "Different countries' regulation (such as the [California Consumer Privacy Act](https://oag.ca.gov/privacy/ccpa)) are also tackled, but the GDPR is more relevant for our use.\n",
    "\n",
    "### 9. Supply chain management\n",
    "\n",
    "Supply chains can be efficiently represented as graphs, making graph databases particularly well-suited for handling them. When using graph databases, it is then possible to anticipate shifts in demand, predict product handling cost, and adapt to new compliance standards.\n",
    "\n",
    "\n",
    "## Industry use cases\n",
    "\n",
    "Many industry uses of Neo4j are a combination of the common uses mentioned previously.\n",
    "\n",
    "Industries use Neo4j for the following applications:\n",
    "\n",
    "1. Financial services\n",
    "    - Detect fraud rings; \n",
    "    - Model ever-changing complex assets;\n",
    "    - Connect disparate systems and data sources;\n",
    "    - Oversee identity & access management.\n",
    "    \n",
    "    Notable users: [UBS](https://www.ubs.com/us/en.html), [Cerved](https://www.cerved.com/en), [Royal Bank of Scotland](https://www.rbs.co.uk/), [MITRE](https://www.mitre.org/).\n",
    "\n",
    "2. Government:\n",
    "    - Connect different data records in criminal investigations;\n",
    "    - Manage the equipment of governmental staff;\n",
    "    - Detect failure causes;\n",
    "    - Analyze and make decisions.\n",
    "    \n",
    "    Notable users: [US Army](https://www.army.mil/), [IQT](https://www.iqt.org/), [MITRE](https://www.mitre.org/), [Lockheed Martin Space](https://www.lockheedmartin.com/), [NASA](https://www.nasa.gov/).\n",
    "\n",
    "3. Healthcare & life sciences:\n",
    "    - Model connections between genes, proteins, cells and tissues;\n",
    "    - Model molecules;\n",
    "    - Map patients' journeys;\n",
    "    \n",
    "    Notable users: [Novartis](https://www.novartis.com/), [Boston Scientific](https://www.bostonscientific.com/en-US/home.html), [ChemAxon](https://chemaxon.com/), [Bayer (Monsanto)](https://www.bayer.com/en/).\n",
    "\n",
    "4. Retail:\n",
    "    - Provide real-time product recommendations;\n",
    "    - Change prices dynamically;\n",
    "    - Optimize delivery routing.\n",
    "    \n",
    "    Notable users: [Walmart](https://www.walmart.com/), [eBay](https://www.ebay.com/), [Adidas](https://www.adidas-group.com/en/), [Transparency-One](https://www.transparency-one.com/).\n",
    "\n",
    "5. Telecommunications:\n",
    "    - Model customer-related graphs;\n",
    "    - Model communication networks.\n",
    "    \n",
    "    Notable users: [Comcast](https://corporate.comcast.com/), [Telenor](https://www.telenor.com/), [Cisco](https://www.cisco.com/).\n",
    "\n",
    "\n",
    "## Cloud partners\n",
    "\n",
    "Neo4j's services are also used by some of the world's largest companies' cloud storages, namely [Amazon](https://neo4j.com/cloud/aura-aws/), [Microsoft](https://neo4j.com/partners/microsoft/), and [Google](https://neo4j.com/partners/google/)."
   ]
  },
  {
   "cell_type": "markdown",
   "metadata": {},
   "source": [
    "# Conclusion"
   ]
  },
  {
   "cell_type": "markdown",
   "metadata": {},
   "source": [
    "Neo4j is a graph database that specializes in handling highly connected data. Its native graph data representation is flexible and its custom query language, Cypher, is intuitive, making it easy to learn. Its use cases are broad and include recommendation systems, fraud detection, social networks, knowledge graphs, and network analysis, where relationships between data points are critical.\n",
    "\n",
    "However since Neo4j is designed to work on highly connected data, it may be less efficient if the work that is aimed to be achieved needs handling rigidly structured data while also being focused on transactions. It is also quite resource intensive, requiring more memory than traditional SQL databases.\n"
   ]
  },
  {
   "cell_type": "markdown",
   "metadata": {},
   "source": [
    "# References"
   ]
  },
  {
   "cell_type": "markdown",
   "metadata": {},
   "source": [
    "1. <a id=\"reference-json\"></a> [Wikipedia - JSON](https://en.wikipedia.org/wiki/JSON)\n",
    "\n",
    "2. <a id=\"chatgpt\"></a> [ChatGPT](https://chatgpt.com/)\n",
    "\n",
    "3. <a id=\"vizualisation\"></a> [Nodes 2024 – Advanced Graph Visualizations in Jupyter Notebooks](https://neo4j.com/videos/nodes-2024-advanced-graph-visualizations-in-jupyter-notebooks/)\n",
    "\n",
    "4. <a id=\"neo4jVSsql\"></a> [Quora 2023 Sumit Sutariya - Pros and Cons of using Graph Databases compared to Traditional Relational Databases](https://www.quora.com/What-are-the-pros-and-cons-of-using-graph-databases-compared-to-traditional-relational-databases-in-modern-web-development)\n",
    "\n",
    "5. <a id=\"diffgraphandrelationaldb\"></a> [Amazon - Difference between Graph and Relational Database](https://aws.amazon.com/fr/compare/the-difference-between-graph-and-relational-database/)\n",
    "\n",
    "6. <a id=\"graphdbscalelimitation\"></a> [Thatdot Rob Malnati - Scale Limitations of Graph Databases](https://www.thatdot.com/blog/understanding-the-scale-limitations-of-graph-databases/#:~:text=Graph%20databases%20are%20great%20at,on%20streaming%20data%20are%20desired.)\n",
    "\n",
    "7. <a id=\"whygraphdb\"></a> [NEBULAGRAPH 2023 Min.WU](https://www.nebula-graph.io/posts/why-use-graph-databases#:~:text=Graph%20databases%20provide%20a%20flexible,based%20on%20the%20collected%20insights.)\n",
    "\n",
    "8. <a id=\"Neo4Jdoc\"></a> [Neo4j - Official documentation](https://neo4j.com/docs/getting-started/?utm_source=GSearch&utm_medium=PaidSearch&utm_campaign=Evergreen&utm_content=EMEA-Search-SEMCE-DSA-None-SEM-SEM-NonABM&utm_term=&utm_adgroup=DSA&gad_source=1&gclid=Cj0KCQjwtJ6_BhDWARIsAGanmKfTPoCcMxVBQzAo82Ng60-loTIjCV3yfWp9R_PvEh0qp6mz84Ks6yQaAiQlEALw_wcB)\n",
    "\n",
    "9. <a id=\"docpr\"></a> [Page Rank - Official documentation](https://neo4j.com/docs/graph-data-science/current/algorithms/page-rank/)\n",
    "\n",
    "10. <a id=\"doclouvain\"></a> [Louvain - Official documentation](https://neo4j.com/docs/graph-data-science/current/algorithms/louvain/)\n",
    "\n",
    "11. <a id=\"usecases\"></a> [Neo4j's use cases (and their respective white papers)](https://neo4j.com/use-cases/)\n"
   ]
  }
 ],
 "metadata": {
  "kernelspec": {
   "display_name": "Python 3",
   "language": "python",
   "name": "python3"
  },
  "language_info": {
   "codemirror_mode": {
    "name": "ipython",
    "version": 3
   },
   "file_extension": ".py",
   "mimetype": "text/x-python",
   "name": "python",
   "nbconvert_exporter": "python",
   "pygments_lexer": "ipython3",
   "version": "3.11.9"
  }
 },
 "nbformat": 4,
 "nbformat_minor": 2
}
