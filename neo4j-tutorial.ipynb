{
 "cells": [
  {
   "cell_type": "markdown",
   "metadata": {},
   "source": [
    "# Introduction"
   ]
  },
  {
   "cell_type": "markdown",
   "metadata": {},
   "source": [
    "Nowadays, traditional databases often struggle with highly connected data, leading to slow and complex queries. Neo4j, a graph database released in 2007, solves this problem by storing data as nodes and relationships instead of tables. This approach makes it faster and easier to explore connections between entities.\n",
    "\n",
    "Neo4j is widely used in areas like social networks, recommendation systems, and knowledge graphs—where relationships matter most. In this tutorial, we will explore its capabilities by analyzing a startup ecosystem, using Cypher queries, PageRank, and Louvain community detection to uncover key insights."
   ]
  },
  {
   "cell_type": "markdown",
   "metadata": {},
   "source": [
    "# Comparison with Relational Databases \n",
    "\n",
    "To compare Neo4j and Cypher with traditional relational databases, we'll explore the advantages and drawbacks of using a graph-based approach over a tabular one.\n",
    "\n",
    "### Advantages of Neo4j and cypher over relational SQL\n",
    "One of the main advantages of Neo4j and its query language, Cypher, is that data is stored in a graph structure composed o nodes and relationships rather than in tables. This allows for efficient traversal of relationships between entities. In Neo4j, navigating from one node to another via a relationship can be done in constant time, regardless of the graph's size.\n",
    "\n",
    "In contrast, relational databases require joins between tables to follow relationships, which can become computationally expensive, especially as the number of joins increases or when dealing with deep or complex relationships.\n",
    "\n",
    "Therefore, this is particularly true for relationship-heavy queries, where SQL databases often need to create recursive views or perform iterative joins to explore multi-level relationships. In contrast, Neo4j can efficiently leverage its graph-native structure to maintain linear performance relative to the number of hops.\n",
    "\n",
    "Another key advantage of Neo4j and Cypher is the simplicity and readability of queries when working with graph data. \n",
    "For example, if we want to find the names of people who are friends with someone named Alice, we can write the query in Cypher as follows:\n",
    "\n",
    "```sql\n",
    "MATCH (p:Person)-[:FRIEND_OF]->(:Person {name: 'Alice'})\n",
    "RETURN p.name\n",
    "```\n",
    "\n",
    "In relational SQL, achieving the same result would require:\n",
    "\n",
    "```sql\n",
    "SELECT p1.name\n",
    "FROM Person p1\n",
    "JOIN Friendship f ON p1.id = f.person_id\n",
    "JOIN Person p2 ON f.friend_id = p2.id\n",
    "WHERE p2.name = 'Alice';\n",
    "```\n",
    "\n",
    "As shown above, relationship queries are significantly more intuitive in Cypher. \n",
    "The graph pattern-matching syntax closely reflects the actual structure of the data, making queries easier to write, read, and reason about.\n",
    "\n",
    "The third advantage is Neo4j’s schema-free data model. In Neo4j, we are not required to define all possible relationships or properties for each node type in advance. This allows the data model to handle irregular or evolving data naturally, offering greater flexibility as your application and data grow over time.\n",
    "\n",
    "In contrast, SQL databases rely on rigid schemas where tables, columns, and relationships must be defined upfront. Adapting to changes in data structure often requires schema migrations, making it less adaptable to dynamic or semi-structured data.\n",
    "\n",
    "Finally, as you will see throughout this tutorial, Neo4j is both optimized for and well-suited to implementing graph algorithms. By using in-memory graph projections, we can efficiently run algorithms to uncover patterns such as communities, influence, shortest paths, and more. This makes Neo4j not just a data store, but a powerful analytical tool.\n",
    "\n",
    "### Drawbacks of Neo4j and cypher over relational SQL\n",
    "Interestingly, some of Neo4j’s strengths can also become limitations depending on the use case. If your data is highly structured and the focus is on transactions rather than relationships, Neo4j may be less efficient than relational databases. Traditional SQL databases typically perform better for workflows centered around aggregations, batch updates, or structured reporting.\n",
    "\n",
    "Another drawback is that Neo4j is not ideal for real-time analysis on rapidly changing data. As you will see in this tutorial, running graph algorithms often requires creating in-memory projections, which work best with relatively stable snapshots of the data rather than constantly updating streams.\n",
    "\n",
    "Finally, graph databases tend to have a higher memory overhead compared to relational SQL databases. This is due to how they store nodes and relationships in memory to enable fast traversal, which can increase resource usage—especially for large-scale datasets.\n",
    "\n",
    "### Conclusion\n",
    "\n",
    "As with any decision involving database management systems, it's important to carefully analyze your **use cases** before choosing the right tool. Neo4j excels in certain scenarios, but may not be the best fit for others.\n",
    "\n",
    "A simple roadmap of requirements that might indicate Neo4j is a good choice includes:\n",
    "\n",
    "- **Unstructured or evolving data**: When the data model is flexible and may change over time.\n",
    "- **Relationship-focused queries**: When your workload involves exploring or analyzing relationships and traversals (e.g., social networks, recommendations, graphs of dependencies).\n",
    "- **Stable datasets or snapshot-based analysis**: When the data is relatively stable, or when it's acceptable to analyze it using periodic snapshots rather than in real-time.\n"
   ]
  },
  {
   "cell_type": "markdown",
   "metadata": {},
   "source": [
    "source:\n",
    "\n",
    "https://www.quora.com/What-are-the-pros-and-cons-of-using-graph-databases-compared-to-traditional-relational-databases-in-modern-web-development\n",
    "\n",
    "https://aws.amazon.com/fr/compare/the-difference-between-graph-and-relational-database/\n",
    "\n",
    "https://www.thatdot.com/blog/understanding-the-scale-limitations-of-graph-databases/#:~:text=Graph%20databases%20are%20great%20at,on%20streaming%20data%20are%20desired.\n",
    "\n",
    "https://www.nebula-graph.io/posts/why-use-graph-databases#:~:text=Graph%20databases%20provide%20a%20flexible,based%20on%20the%20collected%20insights.\n",
    "\n",
    "https://neo4j.com/docs/getting-started/?utm_source=GSearch&utm_medium=PaidSearch&utm_campaign=Evergreen&utm_content=EMEA-Search-SEMCE-DSA-None-SEM-SEM-NonABM&utm_term=&utm_adgroup=DSA&gad_source=1&gclid=Cj0KCQjwtJ6_BhDWARIsAGanmKfTPoCcMxVBQzAo82Ng60-loTIjCV3yfWp9R_PvEh0qp6mz84Ks6yQaAiQlEALw_wcB"
   ]
  },
  {
   "cell_type": "markdown",
   "metadata": {},
   "source": [
    "# Installation & configuration"
   ]
  },
  {
   "cell_type": "markdown",
   "metadata": {},
   "source": [
    "## Installing Neo4J\n",
    "If you don't have Docker installed, you can install it from [here](https://www.docker.com/). \n",
    "\n",
    "First, in the terminal, pull the Neo4J image from Docker:\n",
    "\n",
    "`docker pull neo4j`\n",
    "\n",
    "Now, create a Neo4J instance (thanks to the docker-compose.yml file).\n",
    "\n",
    "`docker compose up -d`\n",
    "\n",
    "You can now access the Neo4J browser by going to [http://localhost:7474](http://localhost:7474). We will use this to visualize the graph.\n",
    "\n",
    "The default username is `neo4j` and the default password is `password`.\n",
    "\n"
   ]
  },
  {
   "cell_type": "code",
   "execution_count": 1,
   "metadata": {},
   "outputs": [
    {
     "name": "stdout",
     "output_type": "stream",
     "text": [
      "Requirement already satisfied: neo4j in c:\\users\\boust\\appdata\\local\\packages\\pythonsoftwarefoundation.python.3.11_qbz5n2kfra8p0\\localcache\\local-packages\\python311\\site-packages (5.28.1)\n",
      "Requirement already satisfied: pytz in c:\\users\\boust\\appdata\\local\\packages\\pythonsoftwarefoundation.python.3.11_qbz5n2kfra8p0\\localcache\\local-packages\\python311\\site-packages (from neo4j) (2025.2)\n"
     ]
    },
    {
     "name": "stderr",
     "output_type": "stream",
     "text": [
      "\n",
      "[notice] A new release of pip is available: 24.0 -> 25.0.1\n",
      "[notice] To update, run: python.exe -m pip install --upgrade pip\n"
     ]
    },
    {
     "name": "stdout",
     "output_type": "stream",
     "text": [
      "Requirement already satisfied: yfiles_jupyter_graphs_for_neo4j in c:\\users\\boust\\appdata\\local\\packages\\pythonsoftwarefoundation.python.3.11_qbz5n2kfra8p0\\localcache\\local-packages\\python311\\site-packages (1.6.0)\n",
      "Requirement already satisfied: yfiles_jupyter_graphs>=1.9.0 in c:\\users\\boust\\appdata\\local\\packages\\pythonsoftwarefoundation.python.3.11_qbz5n2kfra8p0\\localcache\\local-packages\\python311\\site-packages (from yfiles_jupyter_graphs_for_neo4j) (1.10.1)\n",
      "Requirement already satisfied: ipywidgets>=8.0.0 in c:\\users\\boust\\appdata\\local\\packages\\pythonsoftwarefoundation.python.3.11_qbz5n2kfra8p0\\localcache\\local-packages\\python311\\site-packages (from yfiles_jupyter_graphs>=1.9.0->yfiles_jupyter_graphs_for_neo4j) (8.1.5)\n",
      "Requirement already satisfied: comm>=0.1.3 in c:\\users\\boust\\appdata\\local\\packages\\pythonsoftwarefoundation.python.3.11_qbz5n2kfra8p0\\localcache\\local-packages\\python311\\site-packages (from ipywidgets>=8.0.0->yfiles_jupyter_graphs>=1.9.0->yfiles_jupyter_graphs_for_neo4j) (0.2.2)\n",
      "Requirement already satisfied: ipython>=6.1.0 in c:\\users\\boust\\appdata\\local\\packages\\pythonsoftwarefoundation.python.3.11_qbz5n2kfra8p0\\localcache\\local-packages\\python311\\site-packages (from ipywidgets>=8.0.0->yfiles_jupyter_graphs>=1.9.0->yfiles_jupyter_graphs_for_neo4j) (9.0.2)\n",
      "Requirement already satisfied: traitlets>=4.3.1 in c:\\users\\boust\\appdata\\local\\packages\\pythonsoftwarefoundation.python.3.11_qbz5n2kfra8p0\\localcache\\local-packages\\python311\\site-packages (from ipywidgets>=8.0.0->yfiles_jupyter_graphs>=1.9.0->yfiles_jupyter_graphs_for_neo4j) (5.14.3)\n",
      "Requirement already satisfied: widgetsnbextension~=4.0.12 in c:\\users\\boust\\appdata\\local\\packages\\pythonsoftwarefoundation.python.3.11_qbz5n2kfra8p0\\localcache\\local-packages\\python311\\site-packages (from ipywidgets>=8.0.0->yfiles_jupyter_graphs>=1.9.0->yfiles_jupyter_graphs_for_neo4j) (4.0.13)\n",
      "Requirement already satisfied: jupyterlab-widgets~=3.0.12 in c:\\users\\boust\\appdata\\local\\packages\\pythonsoftwarefoundation.python.3.11_qbz5n2kfra8p0\\localcache\\local-packages\\python311\\site-packages (from ipywidgets>=8.0.0->yfiles_jupyter_graphs>=1.9.0->yfiles_jupyter_graphs_for_neo4j) (3.0.13)\n",
      "Requirement already satisfied: colorama in c:\\users\\boust\\appdata\\local\\packages\\pythonsoftwarefoundation.python.3.11_qbz5n2kfra8p0\\localcache\\local-packages\\python311\\site-packages (from ipython>=6.1.0->ipywidgets>=8.0.0->yfiles_jupyter_graphs>=1.9.0->yfiles_jupyter_graphs_for_neo4j) (0.4.6)\n",
      "Requirement already satisfied: decorator in c:\\users\\boust\\appdata\\local\\packages\\pythonsoftwarefoundation.python.3.11_qbz5n2kfra8p0\\localcache\\local-packages\\python311\\site-packages (from ipython>=6.1.0->ipywidgets>=8.0.0->yfiles_jupyter_graphs>=1.9.0->yfiles_jupyter_graphs_for_neo4j) (5.2.1)\n",
      "Requirement already satisfied: ipython-pygments-lexers in c:\\users\\boust\\appdata\\local\\packages\\pythonsoftwarefoundation.python.3.11_qbz5n2kfra8p0\\localcache\\local-packages\\python311\\site-packages (from ipython>=6.1.0->ipywidgets>=8.0.0->yfiles_jupyter_graphs>=1.9.0->yfiles_jupyter_graphs_for_neo4j) (1.1.1)\n",
      "Requirement already satisfied: jedi>=0.16 in c:\\users\\boust\\appdata\\local\\packages\\pythonsoftwarefoundation.python.3.11_qbz5n2kfra8p0\\localcache\\local-packages\\python311\\site-packages (from ipython>=6.1.0->ipywidgets>=8.0.0->yfiles_jupyter_graphs>=1.9.0->yfiles_jupyter_graphs_for_neo4j) (0.19.2)\n",
      "Requirement already satisfied: matplotlib-inline in c:\\users\\boust\\appdata\\local\\packages\\pythonsoftwarefoundation.python.3.11_qbz5n2kfra8p0\\localcache\\local-packages\\python311\\site-packages (from ipython>=6.1.0->ipywidgets>=8.0.0->yfiles_jupyter_graphs>=1.9.0->yfiles_jupyter_graphs_for_neo4j) (0.1.7)\n",
      "Requirement already satisfied: prompt_toolkit<3.1.0,>=3.0.41 in c:\\users\\boust\\appdata\\local\\packages\\pythonsoftwarefoundation.python.3.11_qbz5n2kfra8p0\\localcache\\local-packages\\python311\\site-packages (from ipython>=6.1.0->ipywidgets>=8.0.0->yfiles_jupyter_graphs>=1.9.0->yfiles_jupyter_graphs_for_neo4j) (3.0.50)\n",
      "Requirement already satisfied: pygments>=2.4.0 in c:\\users\\boust\\appdata\\local\\packages\\pythonsoftwarefoundation.python.3.11_qbz5n2kfra8p0\\localcache\\local-packages\\python311\\site-packages (from ipython>=6.1.0->ipywidgets>=8.0.0->yfiles_jupyter_graphs>=1.9.0->yfiles_jupyter_graphs_for_neo4j) (2.19.1)\n",
      "Requirement already satisfied: stack_data in c:\\users\\boust\\appdata\\local\\packages\\pythonsoftwarefoundation.python.3.11_qbz5n2kfra8p0\\localcache\\local-packages\\python311\\site-packages (from ipython>=6.1.0->ipywidgets>=8.0.0->yfiles_jupyter_graphs>=1.9.0->yfiles_jupyter_graphs_for_neo4j) (0.6.3)\n",
      "Requirement already satisfied: typing_extensions>=4.6 in c:\\users\\boust\\appdata\\local\\packages\\pythonsoftwarefoundation.python.3.11_qbz5n2kfra8p0\\localcache\\local-packages\\python311\\site-packages (from ipython>=6.1.0->ipywidgets>=8.0.0->yfiles_jupyter_graphs>=1.9.0->yfiles_jupyter_graphs_for_neo4j) (4.12.2)\n",
      "Requirement already satisfied: parso<0.9.0,>=0.8.4 in c:\\users\\boust\\appdata\\local\\packages\\pythonsoftwarefoundation.python.3.11_qbz5n2kfra8p0\\localcache\\local-packages\\python311\\site-packages (from jedi>=0.16->ipython>=6.1.0->ipywidgets>=8.0.0->yfiles_jupyter_graphs>=1.9.0->yfiles_jupyter_graphs_for_neo4j) (0.8.4)\n",
      "Requirement already satisfied: wcwidth in c:\\users\\boust\\appdata\\local\\packages\\pythonsoftwarefoundation.python.3.11_qbz5n2kfra8p0\\localcache\\local-packages\\python311\\site-packages (from prompt_toolkit<3.1.0,>=3.0.41->ipython>=6.1.0->ipywidgets>=8.0.0->yfiles_jupyter_graphs>=1.9.0->yfiles_jupyter_graphs_for_neo4j) (0.2.13)\n",
      "Requirement already satisfied: executing>=1.2.0 in c:\\users\\boust\\appdata\\local\\packages\\pythonsoftwarefoundation.python.3.11_qbz5n2kfra8p0\\localcache\\local-packages\\python311\\site-packages (from stack_data->ipython>=6.1.0->ipywidgets>=8.0.0->yfiles_jupyter_graphs>=1.9.0->yfiles_jupyter_graphs_for_neo4j) (2.2.0)\n",
      "Requirement already satisfied: asttokens>=2.1.0 in c:\\users\\boust\\appdata\\local\\packages\\pythonsoftwarefoundation.python.3.11_qbz5n2kfra8p0\\localcache\\local-packages\\python311\\site-packages (from stack_data->ipython>=6.1.0->ipywidgets>=8.0.0->yfiles_jupyter_graphs>=1.9.0->yfiles_jupyter_graphs_for_neo4j) (3.0.0)\n",
      "Requirement already satisfied: pure-eval in c:\\users\\boust\\appdata\\local\\packages\\pythonsoftwarefoundation.python.3.11_qbz5n2kfra8p0\\localcache\\local-packages\\python311\\site-packages (from stack_data->ipython>=6.1.0->ipywidgets>=8.0.0->yfiles_jupyter_graphs>=1.9.0->yfiles_jupyter_graphs_for_neo4j) (0.2.3)\n"
     ]
    },
    {
     "name": "stderr",
     "output_type": "stream",
     "text": [
      "\n",
      "[notice] A new release of pip is available: 24.0 -> 25.0.1\n",
      "[notice] To update, run: python.exe -m pip install --upgrade pip\n"
     ]
    }
   ],
   "source": [
    "# Installation of Neo4j \n",
    "!pip install neo4j\n",
    "!pip install yfiles_jupyter_graphs_for_neo4j"
   ]
  },
  {
   "cell_type": "code",
   "execution_count": 28,
   "metadata": {},
   "outputs": [],
   "source": [
    "# Loading the libraries\n",
    "from neo4j import GraphDatabase\n",
    "from yfiles_jupyter_graphs_for_neo4j import Neo4jGraphWidget\n",
    "import json\n",
    "\n",
    "# Connecting to the Neo4j database\n",
    "driver = GraphDatabase.driver(uri=\"bolt://localhost:7687\", auth=(\"neo4j\", \"password\"))\n",
    "session = driver.session()\n",
    "g = Neo4jGraphWidget(driver)"
   ]
  },
  {
   "cell_type": "markdown",
   "metadata": {},
   "source": [
    "# Dataset"
   ]
  },
  {
   "cell_type": "markdown",
   "metadata": {},
   "source": []
  },
  {
   "cell_type": "markdown",
   "metadata": {},
   "source": [
    "First, we clear the existing database"
   ]
  },
  {
   "cell_type": "code",
   "execution_count": 29,
   "metadata": {},
   "outputs": [
    {
     "data": {
      "text/plain": [
       "<neo4j._sync.work.result.Result at 0x124f39343d0>"
      ]
     },
     "execution_count": 29,
     "metadata": {},
     "output_type": "execute_result"
    }
   ],
   "source": [
    "session.run(\"\"\"\n",
    "    MATCH (n)\n",
    "    DETACH DELETE n\n",
    "\"\"\")"
   ]
  },
  {
   "cell_type": "markdown",
   "metadata": {},
   "source": [
    "Secondly, we create two JSON datasets: one for startups and the other for investors. PS: We used chatgpt to help us generating realistic data."
   ]
  },
  {
   "cell_type": "code",
   "execution_count": 30,
   "metadata": {},
   "outputs": [],
   "source": [
    "with open('startups.json', 'r') as file:\n",
    "    data = json.load(file)\n",
    "    \n",
    "    # Create startups with their technology\n",
    "    for tech_name, tech_data in data['technologies'].items():\n",
    "        for startup in tech_data['startups']:\n",
    "            session.run(\"\"\"\n",
    "                CREATE (s:Startup {\n",
    "                    name: $name,\n",
    "                    country: $country,\n",
    "                    technology: $technology\n",
    "                })\n",
    "            \"\"\", {\n",
    "                'name': startup['name'],\n",
    "                'country': startup['country'],\n",
    "                'technology': tech_name\n",
    "            })\n",
    "    \n",
    "    # Create investors with their sectors\n",
    "    for investor in data['investors']:\n",
    "        session.run(\"\"\"\n",
    "            CREATE (i:Investor {\n",
    "                name: $name,\n",
    "                sector: $sector\n",
    "            })\n",
    "        \"\"\", {\n",
    "            'name': investor['name'],\n",
    "            'sector': ', '.join(investor['sectors'])\n",
    "        })\n"
   ]
  },
  {
   "cell_type": "markdown",
   "metadata": {},
   "source": [
    "Creation of the relationships between investors and startups"
   ]
  },
  {
   "cell_type": "code",
   "execution_count": 31,
   "metadata": {},
   "outputs": [
    {
     "data": {
      "text/plain": [
       "<neo4j._sync.work.result.Result at 0x124f38a11d0>"
      ]
     },
     "execution_count": 31,
     "metadata": {},
     "output_type": "execute_result"
    }
   ],
   "source": [
    "# AI Sector Investments\n",
    "session.run(\"\"\"\n",
    "    MATCH (i1:Investor {name: 'Elon Musk'}), (s1:Startup {name: 'OpenAI'}), (s2:Startup {name: 'Anthropic'}),\n",
    "          (s3:Startup {name: 'Adept AI'}), (s4:Startup {name: 'DeepMind'})\n",
    "    CREATE (i1)-[:INVESTS_IN]->(s1),\n",
    "           (i1)-[:INVESTS_IN]->(s2),\n",
    "           (i1)-[:INVESTS_IN]->(s3),\n",
    "           (i1)-[:INVESTS_IN]->(s4)\n",
    "\"\"\")\n",
    "\n",
    "session.run(\"\"\"\n",
    "    MATCH (i2:Investor {name: 'Andreessen Horowitz'}), (s1:Startup {name: 'OpenAI'}), (s2:Startup {name: 'Cohere'}),\n",
    "          (s3:Startup {name: 'Hugging Face'}), (s4:Startup {name: 'Stability AI'})\n",
    "    CREATE (i2)-[:INVESTS_IN]->(s1),\n",
    "           (i2)-[:INVESTS_IN]->(s2),\n",
    "           (i2)-[:INVESTS_IN]->(s3),\n",
    "           (i2)-[:INVESTS_IN]->(s4)\n",
    "\"\"\")\n",
    "\n",
    "# Aerospace Sector Investments\n",
    "session.run(\"\"\"\n",
    "    MATCH (i7:Investor {name: 'SoftBank'}), (s1:Startup {name: 'SpaceX'}), (s2:Startup {name: 'Blue Origin'}),\n",
    "          (s3:Startup {name: 'Rocket Lab'}), (s4:Startup {name: 'Relativity Space'})\n",
    "    CREATE (i7)-[:INVESTS_IN]->(s1),\n",
    "           (i7)-[:INVESTS_IN]->(s2),\n",
    "           (i7)-[:INVESTS_IN]->(s3),\n",
    "           (i7)-[:INVESTS_IN]->(s4)\n",
    "\"\"\")\n",
    "\n",
    "session.run(\"\"\"\n",
    "    MATCH (i8:Investor {name: 'Peter Thiel'}), (s1:Startup {name: 'SpaceX'}), (s2:Startup {name: 'Rocket Lab'})\n",
    "    CREATE (i8)-[:INVESTS_IN]->(s1),\n",
    "           (i8)-[:INVESTS_IN]->(s2)\n",
    "\"\"\")\n",
    "\n",
    "session.run(\"\"\"\n",
    "    MATCH (i7:Investor {name: 'SoftBank'}), (s1:Startup {name: 'OpenAI'}), (s2:Startup {name: 'SpaceX'}),\n",
    "          (s3:Startup {name: 'Tesla'}), (s4:Startup {name: 'Revolut'})\n",
    "    CREATE (i7)-[:INVESTS_IN]->(s1),\n",
    "           (i7)-[:INVESTS_IN]->(s2),\n",
    "           (i7)-[:INVESTS_IN]->(s3),\n",
    "           (i7)-[:INVESTS_IN]->(s4)\n",
    "\"\"\")\n",
    "\n",
    "session.run(\"\"\"\n",
    "    MATCH (i2:Investor {name: 'Andreessen Horowitz'}), (s1:Startup {name: 'OpenAI'}), (s2:Startup {name: 'Stripe'}),\n",
    "          (s3:Startup {name: 'Coinbase'}), (s4:Startup {name: 'Tesla'})\n",
    "    CREATE (i2)-[:INVESTS_IN]->(s1),\n",
    "           (i2)-[:INVESTS_IN]->(s2),\n",
    "           (i2)-[:INVESTS_IN]->(s3),\n",
    "           (i2)-[:INVESTS_IN]->(s4)\n",
    "\"\"\")\n",
    "\n",
    "session.run(\"\"\"\n",
    "    MATCH (i9:Investor {name: 'Tiger Global'}), (s1:Startup {name: 'Stripe'}), (s2:Startup {name: 'Binance'}),\n",
    "          (s3:Startup {name: 'Tesla'}), (s4:Startup {name: 'Hugging Face'})\n",
    "    CREATE (i9)-[:INVESTS_IN]->(s1),\n",
    "           (i9)-[:INVESTS_IN]->(s2),\n",
    "           (i9)-[:INVESTS_IN]->(s3),\n",
    "           (i9)-[:INVESTS_IN]->(s4)\n",
    "\"\"\")\n",
    "\n",
    "\n",
    "# FinTech Sector Investments\n",
    "session.run(\"\"\"\n",
    "    MATCH (i3:Investor {name: 'Sequoia Capital'}), (s1:Startup {name: 'Stripe'}), (s2:Startup {name: 'Revolut'}),\n",
    "          (s3:Startup {name: 'Klarna'}), (s4:Startup {name: 'Brex'})\n",
    "    CREATE (i3)-[:INVESTS_IN]->(s1),\n",
    "           (i3)-[:INVESTS_IN]->(s2),\n",
    "           (i3)-[:INVESTS_IN]->(s3),\n",
    "           (i3)-[:INVESTS_IN]->(s4)\n",
    "\"\"\")\n",
    "\n",
    "session.run(\"\"\"\n",
    "    MATCH (i9:Investor {name: 'Tiger Global'}), (s1:Startup {name: 'Stripe'}), (s2:Startup {name: 'Klarna'}),\n",
    "          (s3:Startup {name: 'Brex'})\n",
    "    CREATE (i9)-[:INVESTS_IN]->(s1),\n",
    "           (i9)-[:INVESTS_IN]->(s2),\n",
    "           (i9)-[:INVESTS_IN]->(s3)\n",
    "\"\"\")\n",
    "\n",
    "# Electric Vehicle Sector Investments\n",
    "session.run(\"\"\"\n",
    "    MATCH (i10:Investor {name: 'Cathie Wood'}), (s1:Startup {name: 'Tesla'}), (s2:Startup {name: 'Nio'}),\n",
    "          (s3:Startup {name: 'Rivian'})\n",
    "    CREATE (i10)-[:INVESTS_IN]->(s1),\n",
    "           (i10)-[:INVESTS_IN]->(s2),\n",
    "           (i10)-[:INVESTS_IN]->(s3)\n",
    "\"\"\")\n",
    "\n",
    "session.run(\"\"\"\n",
    "    MATCH (i11:Investor {name: 'Mark Cuban'}), (s1:Startup {name: 'Tesla'}), (s2:Startup {name: 'Lucid Motors'})\n",
    "    CREATE (i11)-[:INVESTS_IN]->(s1),\n",
    "           (i11)-[:INVESTS_IN]->(s2)\n",
    "\"\"\")\n",
    "\n",
    "# Blockchain Sector Investments\n",
    "session.run(\"\"\"\n",
    "    MATCH (i5:Investor {name: 'Binance Labs'}), (s1:Startup {name: 'Binance'}), (s2:Startup {name: 'Ledger'})\n",
    "    CREATE (i5)-[:INVESTS_IN]->(s1),\n",
    "           (i5)-[:INVESTS_IN]->(s2)\n",
    "\"\"\")\n",
    "\n",
    "session.run(\"\"\"\n",
    "    MATCH (i12:Investor {name: 'Accel Partners'}), (s1:Startup {name: 'Chainalysis'}), (s2:Startup {name: 'Coinbase'})\n",
    "    CREATE (i12)-[:INVESTS_IN]->(s1),\n",
    "           (i12)-[:INVESTS_IN]->(s2)\n",
    "\"\"\")\n",
    "\n"
   ]
  },
  {
   "cell_type": "markdown",
   "metadata": {},
   "source": [
    "Relationships startup-startup"
   ]
  },
  {
   "cell_type": "code",
   "execution_count": 32,
   "metadata": {},
   "outputs": [
    {
     "data": {
      "text/plain": [
       "<neo4j._sync.work.result.Result at 0x124f3738350>"
      ]
     },
     "execution_count": 32,
     "metadata": {},
     "output_type": "execute_result"
    }
   ],
   "source": [
    "session.run(\"\"\"\n",
    "    MATCH (s1:Startup {name: 'OpenAI'}), (s2:Startup {name: 'Tesla'})\n",
    "    CREATE (s1)-[:COLLABORATES_WITH]->(s2)\n",
    "\"\"\")\n",
    "\n",
    "session.run(\"\"\"\n",
    "    MATCH (s1:Startup {name: 'Revolut'}), (s2:Startup {name: 'Stripe'})\n",
    "    CREATE (s1)-[:COLLABORATES_WITH]->(s2)\n",
    "\"\"\")\n",
    "\n",
    "session.run(\"\"\"\n",
    "    MATCH (s1:Startup {name: 'Binance'}), (s2:Startup {name: 'Coinbase'})\n",
    "    CREATE (s1)-[:COMPETES_WITH]->(s2)\n",
    "\"\"\")\n",
    "\n",
    "session.run(\"\"\"\n",
    "    MATCH (s1:Startup {name: 'Tesla'}), (s2:Startup {name: 'Lucid Motors'})\n",
    "    CREATE (s1)-[:COMPETES_WITH]->(s2)\n",
    "\"\"\")\n",
    "\n",
    "session.run(\"\"\"\n",
    "    MATCH (s1:Startup {name: 'SpaceX'}), (s2:Startup {name: 'Blue Origin'})\n",
    "    CREATE (s1)-[:COMPETES_WITH]->(s2)\n",
    "\"\"\")\n",
    "\n",
    "session.run(\"\"\"\n",
    "    MATCH (s1:Startup {name: 'DeepMind'}), (s2:Startup {name: 'Mistral AI'})\n",
    "    CREATE (s1)-[:PARTNERS_WITH]->(s2)\n",
    "\"\"\")\n"
   ]
  },
  {
   "cell_type": "code",
   "execution_count": 34,
   "metadata": {},
   "outputs": [
    {
     "ename": "AttributeError",
     "evalue": "'NoneType' object has no attribute 'lower'",
     "output_type": "error",
     "traceback": [
      "\u001b[31m---------------------------------------------------------------------------\u001b[39m",
      "\u001b[31mAttributeError\u001b[39m                            Traceback (most recent call last)",
      "\u001b[36mCell\u001b[39m\u001b[36m \u001b[39m\u001b[32mIn[34]\u001b[39m\u001b[32m, line 3\u001b[39m\n\u001b[32m      1\u001b[39m \u001b[38;5;66;03m# Define the Cypher query to visualize Startups and Investors\u001b[39;00m\n\u001b[32m----> \u001b[39m\u001b[32m3\u001b[39m \u001b[43mg\u001b[49m\u001b[43m.\u001b[49m\u001b[43mshow_cypher\u001b[49m\u001b[43m(\u001b[49m\u001b[33;43m\"\u001b[39;49m\u001b[33;43mMATCH (s)-[r]->(t) RETURN s, r, t\u001b[39;49m\u001b[33;43m\"\u001b[39;49m\u001b[43m)\u001b[49m\n",
      "\u001b[36mFile \u001b[39m\u001b[32m~\\AppData\\Local\\Packages\\PythonSoftwareFoundation.Python.3.11_qbz5n2kfra8p0\\LocalCache\\local-packages\\Python311\\site-packages\\yfiles_jupyter_graphs_for_neo4j\\Yfiles_Neo4j_Graphs.py:178\u001b[39m, in \u001b[36mNeo4jGraphWidget.show_cypher\u001b[39m\u001b[34m(self, cypher, layout, **kwargs)\u001b[39m\n\u001b[32m    176\u001b[39m \u001b[38;5;28mself\u001b[39m.__apply_parent_mapping(widget)\n\u001b[32m    177\u001b[39m \u001b[38;5;28;01mif\u001b[39;00m layout \u001b[38;5;129;01mis\u001b[39;00m \u001b[38;5;28;01mNone\u001b[39;00m:\n\u001b[32m--> \u001b[39m\u001b[32m178\u001b[39m     \u001b[43mwidget\u001b[49m\u001b[43m.\u001b[49m\u001b[43mset_graph_layout\u001b[49m\u001b[43m(\u001b[49m\u001b[38;5;28;43mself\u001b[39;49m\u001b[43m.\u001b[49m\u001b[43m_graph_layout\u001b[49m\u001b[43m)\u001b[49m\n\u001b[32m    179\u001b[39m \u001b[38;5;28;01melse\u001b[39;00m:\n\u001b[32m    180\u001b[39m     widget.set_graph_layout(layout)\n",
      "\u001b[36mFile \u001b[39m\u001b[32m~\\AppData\\Local\\Packages\\PythonSoftwareFoundation.Python.3.11_qbz5n2kfra8p0\\LocalCache\\local-packages\\Python311\\site-packages\\yfiles_jupyter_graphs\\widget.py:455\u001b[39m, in \u001b[36mGraphWidget.set_graph_layout\u001b[39m\u001b[34m(self, algorithm)\u001b[39m\n\u001b[32m    452\u001b[39m     _algorithm = algorithm\n\u001b[32m    453\u001b[39m     algorithm = _algorithm.pop(\u001b[33m'\u001b[39m\u001b[33malgorithm\u001b[39m\u001b[33m'\u001b[39m, \u001b[38;5;28;01mNone\u001b[39;00m)\n\u001b[32m--> \u001b[39m\u001b[32m455\u001b[39m \u001b[38;5;28mself\u001b[39m._graph_layout = \u001b[43mlayout_\u001b[49m\u001b[43m(\u001b[49m\u001b[43malgorithm\u001b[49m\u001b[43m,\u001b[49m\u001b[43m \u001b[49m\u001b[43m*\u001b[49m\u001b[43m*\u001b[49m\u001b[43m{\u001b[49m\u001b[43m}\u001b[49m\u001b[43m)\u001b[49m\n",
      "\u001b[36mFile \u001b[39m\u001b[32m~\\AppData\\Local\\Packages\\PythonSoftwareFoundation.Python.3.11_qbz5n2kfra8p0\\LocalCache\\local-packages\\Python311\\site-packages\\yfiles_jupyter_graphs\\layout\\__init__.py:23\u001b[39m, in \u001b[36mlayout_\u001b[39m\u001b[34m(name, **kwargs)\u001b[39m\n\u001b[32m     21\u001b[39m \u001b[38;5;28;01mdef\u001b[39;00m\u001b[38;5;250m \u001b[39m\u001b[34mlayout_\u001b[39m(name: \u001b[38;5;28mstr\u001b[39m, **kwargs):\n\u001b[32m     22\u001b[39m \u001b[38;5;250m    \u001b[39m\u001b[33;03m\"\"\"construct layout configuration from name and keyword arguments\"\"\"\u001b[39;00m\n\u001b[32m---> \u001b[39m\u001b[32m23\u001b[39m     _name = \u001b[43m_simplify_layout_name\u001b[49m\u001b[43m(\u001b[49m\u001b[43mname\u001b[49m\u001b[43m)\u001b[49m\n\u001b[32m     24\u001b[39m     \u001b[38;5;28;01mreturn\u001b[39;00m _get_layout_by_name(_name)(**kwargs)\n",
      "\u001b[36mFile \u001b[39m\u001b[32m~\\AppData\\Local\\Packages\\PythonSoftwareFoundation.Python.3.11_qbz5n2kfra8p0\\LocalCache\\local-packages\\Python311\\site-packages\\yfiles_jupyter_graphs\\layout\\__init__.py:14\u001b[39m, in \u001b[36m_simplify_layout_name\u001b[39m\u001b[34m(name)\u001b[39m\n\u001b[32m     13\u001b[39m \u001b[38;5;28;01mdef\u001b[39;00m\u001b[38;5;250m \u001b[39m\u001b[34m_simplify_layout_name\u001b[39m(name):\n\u001b[32m---> \u001b[39m\u001b[32m14\u001b[39m     \u001b[38;5;28;01mreturn\u001b[39;00m \u001b[43mname\u001b[49m\u001b[43m.\u001b[49m\u001b[43mlower\u001b[49m()\n",
      "\u001b[31mAttributeError\u001b[39m: 'NoneType' object has no attribute 'lower'"
     ]
    }
   ],
   "source": [
    "# Define the Cypher query to visualize Startups and Investors\n",
    "\n",
    "g.show_cypher(\"MATCH (s)-[r]->(t) RETURN s, r, t\")\n"
   ]
  },
  {
   "cell_type": "markdown",
   "metadata": {},
   "source": [
    "# PageRank algorithm"
   ]
  },
  {
   "cell_type": "markdown",
   "metadata": {},
   "source": [
    "The PageRank algorithm ranks the nodes of a graph based on their influence. It’s a recursive algorithm where a node’s score depends on the scores of the nodes linking to it, as well as how many other nodes those linking nodes connect to. This algorithm is implemented in the \"graph-data-science plugin\", and we’ll break down its core functionalities."
   ]
  },
  {
   "cell_type": "markdown",
   "metadata": {},
   "source": [
    "The first step is to create an in-memory projection of the graph. The primary goal of doing this projection is to streamline the graph and isolate it from live data. This permits faster execution times as we work on a simplified version of the graph. To create such a projection, we first need to retrieve the labels of our nodes as well as the possible relationships between them."
   ]
  },
  {
   "cell_type": "code",
   "execution_count": 8,
   "metadata": {},
   "outputs": [
    {
     "name": "stdout",
     "output_type": "stream",
     "text": [
      "[{'label': 'Startup'}, {'label': 'Investor'}]\n",
      "[{'relationshipType': 'INVESTS_IN'}, {'relationshipType': 'COLLABORATES_WITH'}, {'relationshipType': 'COMPETES_WITH'}]\n"
     ]
    }
   ],
   "source": [
    "labelsResponse = session.run(\"\"\"CALL db.labels()\"\"\")\n",
    "labels = labelsResponse.data()\n",
    "print(labels)\n",
    "\n",
    "relationshipResponse = session.run(\"CALL db.relationshipTypes()\")\n",
    "relationships = relationshipResponse.data()\n",
    "print(relationships)\n"
   ]
  },
  {
   "cell_type": "markdown",
   "metadata": {},
   "source": [
    "Then, by using the labels and relationships type, we can create the projection."
   ]
  },
  {
   "cell_type": "code",
   "execution_count": 9,
   "metadata": {},
   "outputs": [
    {
     "data": {
      "text/plain": [
       "<neo4j._sync.work.result.Result at 0x21ad453d4d0>"
      ]
     },
     "execution_count": 9,
     "metadata": {},
     "output_type": "execute_result"
    }
   ],
   "source": [
    "projection_query = \"\"\"\n",
    "CALL gds.graph.project(\n",
    "  'generalProjection', \n",
    "  ['Startup', 'Investor'], \n",
    "  {\n",
    "    INVESTS_IN: {},\n",
    "    COLLABORATES_WITH: {},\n",
    "    COMPETES_WITH: {}\n",
    "  }\n",
    ")\n",
    "\"\"\"\n",
    "session.run(projection_query)"
   ]
  },
  {
   "cell_type": "markdown",
   "metadata": {},
   "source": [
    "Now we can run the PageRank algorithm using the stream mode. In stream mode, the algorithm computes a score for every node, which allows us to post-process the results without affecting the underlying data. Additionally, we limit the query to return only the top 10 nodes."
   ]
  },
  {
   "cell_type": "code",
   "execution_count": 10,
   "metadata": {},
   "outputs": [
    {
     "name": "stdout",
     "output_type": "stream",
     "text": [
      "Name: Lucid Motors, Score: 0.52021484375\n",
      "Name: Tesla, Score: 0.43554687500000006\n",
      "Name: Coinbase, Score: 0.42731250000000004\n",
      "Name: Stripe, Score: 0.424390625\n",
      "Name: Blue Origin, Score: 0.37471875000000004\n",
      "Name: SpaceX, Score: 0.24562500000000004\n",
      "Name: OpenAI, Score: 0.22968750000000004\n",
      "Name: Rocket Lab, Score: 0.22968750000000004\n",
      "Name: Klarna, Score: 0.22437500000000005\n",
      "Name: Brex, Score: 0.22437500000000005\n"
     ]
    }
   ],
   "source": [
    "pagerankGeneralQuery = \"\"\"\n",
    "CALL gds.pageRank.stream('generalProjection')\n",
    "YIELD nodeId, score\n",
    "RETURN gds.util.asNode(nodeId).name AS name, score\n",
    "ORDER BY score DESC\n",
    "LIMIT 10\n",
    "\"\"\"\n",
    "pagerankGeneralRes = session.run(pagerankGeneralQuery)\n",
    "for record in pagerankGeneralRes:\n",
    "    print(f\"Name: {record['name']}, Score: {record['score']}\")"
   ]
  },
  {
   "cell_type": "markdown",
   "metadata": {},
   "source": [
    "Note that we can filter the type of relationship on the projection. For exemple, if we want to find the most influent node with regard to only the INVESTS_IN relationships, we can do the following projection."
   ]
  },
  {
   "cell_type": "code",
   "execution_count": 11,
   "metadata": {},
   "outputs": [
    {
     "name": "stdout",
     "output_type": "stream",
     "text": [
      "Name: Stripe, Score: 0.25625000000000003\n",
      "Name: SpaceX, Score: 0.24562500000000004\n",
      "Name: Coinbase, Score: 0.24562500000000004\n",
      "Name: Tesla, Score: 0.24031250000000004\n",
      "Name: Rocket Lab, Score: 0.22968750000000004\n",
      "Name: OpenAI, Score: 0.22968750000000004\n",
      "Name: Brex, Score: 0.22437500000000005\n",
      "Name: Klarna, Score: 0.22437500000000005\n",
      "Name: Binance, Score: 0.21375000000000002\n",
      "Name: Chainalysis, Score: 0.21375000000000002\n"
     ]
    }
   ],
   "source": [
    "filteredProjectionQuery = \"\"\"\n",
    "CALL gds.graph.project(\n",
    "  'filteredProjection',\n",
    "  ['Startup', 'Investor'],\n",
    "  {\n",
    "    INVESTS_IN: {}\n",
    "  }\n",
    ")\"\"\"\n",
    "\n",
    "pagerankFilteredQuery = \"\"\"\n",
    "CALL gds.pageRank.stream('filteredProjection')\n",
    "YIELD nodeId, score\n",
    "RETURN gds.util.asNode(nodeId).name AS name, score\n",
    "ORDER BY score DESC\n",
    "LIMIT 10\n",
    "\"\"\"\n",
    "\n",
    "session.run(filteredProjectionQuery)\n",
    "\n",
    "pagerankFilteredRes = session.run(pagerankFilteredQuery)\n",
    "for record in pagerankFilteredRes:\n",
    "    print(f\"Name: {record['name']}, Score: {record['score']}\")\n"
   ]
  },
  {
   "cell_type": "markdown",
   "metadata": {},
   "source": [
    "In a similar fashion, we can filter nodes based on their labels. For example, if we want to focus solely on nodes with the label Startup, we can create a projection like this:"
   ]
  },
  {
   "cell_type": "code",
   "execution_count": 12,
   "metadata": {},
   "outputs": [
    {
     "name": "stdout",
     "output_type": "stream",
     "text": [
      "Name: Lucid Motors, Score: 0.385875\n",
      "Name: Stripe, Score: 0.2775\n",
      "Name: Blue Origin, Score: 0.2775\n",
      "Name: Coinbase, Score: 0.2775\n",
      "Name: Tesla, Score: 0.2775\n",
      "Name: SpaceX, Score: 0.15000000000000002\n",
      "Name: Stability AI, Score: 0.15000000000000002\n",
      "Name: Anthropic, Score: 0.15000000000000002\n",
      "Name: Relativity Space, Score: 0.15000000000000002\n",
      "Name: Adept AI, Score: 0.15000000000000002\n"
     ]
    }
   ],
   "source": [
    "filteredProjectionQuery2 = \"\"\"\n",
    "CALL gds.graph.project(\n",
    "  'filteredProjection2', \n",
    "  ['Startup'], \n",
    "  {\n",
    "    INVESTS_IN: {},\n",
    "    COLLABORATES_WITH: {},\n",
    "    COMPETES_WITH: {}\n",
    "  }\n",
    ")\n",
    "\"\"\"\n",
    "\n",
    "pagerankFilteredQuery2 = \"\"\"\n",
    "CALL gds.pageRank.stream('filteredProjection2')\n",
    "YIELD nodeId, score\n",
    "RETURN gds.util.asNode(nodeId).name AS name, score\n",
    "ORDER BY score DESC\n",
    "LIMIT 10\n",
    "\"\"\"\n",
    "\n",
    "session.run(filteredProjectionQuery2)\n",
    "\n",
    "pagerankFilteredRes2 = session.run(pagerankFilteredQuery2)\n",
    "for record in pagerankFilteredRes2:\n",
    "    print(f\"Name: {record['name']}, Score: {record['score']}\")\n"
   ]
  },
  {
   "cell_type": "markdown",
   "metadata": {},
   "source": [
    "There are numerous options available to fine-tune and extend the PageRank algorithm. You can read the Neo4j documentation for more details (https://neo4j.com/docs/graph-data-science/current/algorithms/page-rank/). However, to keep this tutorial straightforward, we'll focus solely on estimating the memory cost of running the algorithm on our projections. Note that we must specify the execution mode; here, we are using stream mode."
   ]
  },
  {
   "cell_type": "code",
   "execution_count": 13,
   "metadata": {},
   "outputs": [
    {
     "name": "stdout",
     "output_type": "stream",
     "text": [
      "nodeCount: 50\n",
      "relationshipCount: 37\n",
      "bytesMin: 8497\n",
      "bytesMax: 568584\n",
      "requiredMemory: [8497 Bytes ... 555 KiB]\n"
     ]
    }
   ],
   "source": [
    "estimateQuery = \"\"\"\n",
    "CALL gds.louvain.stream.estimate('generalProjection', {})\n",
    "YIELD nodeCount, relationshipCount, bytesMin, bytesMax, requiredMemory\n",
    "\"\"\"\n",
    "\n",
    "estimateRes = session.run(estimateQuery)\n",
    "for record in estimateRes.data():\n",
    "    for key, value in record.items():\n",
    "        print(f\"{key}: {value}\")"
   ]
  },
  {
   "cell_type": "markdown",
   "metadata": {},
   "source": [
    "# Louvain algorithm"
   ]
  },
  {
   "cell_type": "markdown",
   "metadata": {},
   "source": [
    "The Louvain algorithm is used for community detection in graphs by maximizing a metric called modularity. It works iteratively to group nodes into communities such that nodes within the same community are densely connected, while connections between different communities are sparser. This algorithm is also implemented in the \"graph-data-science plugin,\" and we’ll break down its core functionalities."
   ]
  },
  {
   "cell_type": "markdown",
   "metadata": {},
   "source": [
    "The Louvain algorithm also operates on an in-memory graph projection. In this tutorial, we'll use the same projection that we created for the PageRank algorithm. Like PageRank, Louvain offers various execution modes, and we'll use stream mode to stay consistent with our previous approach."
   ]
  },
  {
   "cell_type": "markdown",
   "metadata": {},
   "source": [
    "We create a query that orders the communities by the number of nodes they contain. The query also list the nodes in each community and limit the output to only the top 5 communities."
   ]
  },
  {
   "cell_type": "code",
   "execution_count": 14,
   "metadata": {},
   "outputs": [
    {
     "name": "stdout",
     "output_type": "stream",
     "text": [
      "community: 25, communitySize: 13, nodes: ['OpenAI', 'Tesla', 'Rivian', 'Lucid Motors', 'Nio', 'Binance', 'Coinbase', 'Chainalysis', 'Ledger', 'Andreessen Horowitz', 'Binance Labs', 'Cathie Wood', 'Accel Partners']\n",
      "community: 15, communitySize: 6, nodes: ['Stripe', 'Revolut', 'Klarna', 'Brex', 'Sequoia Capital', 'Tiger Global']\n",
      "community: 9, communitySize: 6, nodes: ['SpaceX', 'Blue Origin', 'Rocket Lab', 'Relativity Space', 'SoftBank', 'Peter Thiel']\n",
      "community: 4, communitySize: 4, nodes: ['DeepMind', 'Anthropic', 'Adept AI', 'Elon Musk']\n",
      "community: 3, communitySize: 1, nodes: ['Cohere']\n"
     ]
    }
   ],
   "source": [
    "louvainGeneralQuery = \"\"\"\n",
    "CALL gds.louvain.stream('generalProjection')\n",
    "YIELD nodeId, communityId\n",
    "WITH communityId, \n",
    "     collect(gds.util.asNode(nodeId).name) AS nodes, \n",
    "     count(*) AS communitySize\n",
    "ORDER BY communitySize DESC\n",
    "LIMIT 5\n",
    "RETURN communityId AS community, communitySize, nodes\n",
    "\"\"\"\n",
    "\n",
    "louvainGeneralRes = session.run(louvainGeneralQuery)\n",
    "for record in louvainGeneralRes:\n",
    "    print(f\"community: {record['community']}, communitySize: {record['communitySize']}, nodes: {record['nodes']}\")\n"
   ]
  },
  {
   "cell_type": "code",
   "execution_count": 15,
   "metadata": {},
   "outputs": [
    {
     "name": "stdout",
     "output_type": "stream",
     "text": [
      "community: 21, communitySize: 9, nodes: ['OpenAI', 'Tesla', 'Rivian', 'Nio', 'Coinbase', 'Chainalysis', 'Andreessen Horowitz', 'Cathie Wood', 'Accel Partners']\n",
      "community: 15, communitySize: 6, nodes: ['Stripe', 'Revolut', 'Klarna', 'Brex', 'Sequoia Capital', 'Tiger Global']\n",
      "community: 9, communitySize: 6, nodes: ['SpaceX', 'Blue Origin', 'Rocket Lab', 'Relativity Space', 'SoftBank', 'Peter Thiel']\n",
      "community: 4, communitySize: 4, nodes: ['DeepMind', 'Anthropic', 'Adept AI', 'Elon Musk']\n",
      "community: 27, communitySize: 3, nodes: ['Binance', 'Ledger', 'Binance Labs']\n"
     ]
    }
   ],
   "source": [
    "louvainFilteredQuery = \"\"\"\n",
    "CALL gds.louvain.stream('filteredProjection')\n",
    "YIELD nodeId, communityId\n",
    "WITH communityId, \n",
    "     collect(gds.util.asNode(nodeId).name) AS nodes, \n",
    "     count(*) AS communitySize\n",
    "ORDER BY communitySize DESC\n",
    "LIMIT 5\n",
    "RETURN communityId AS community, communitySize, nodes\n",
    "\"\"\"\n",
    "\n",
    "louvainFilteredRes = session.run(louvainFilteredQuery)\n",
    "for record in louvainFilteredRes:\n",
    "    print(f\"community: {record['community']}, communitySize: {record['communitySize']}, nodes: {record['nodes']}\")"
   ]
  },
  {
   "cell_type": "code",
   "execution_count": 16,
   "metadata": {},
   "outputs": [
    {
     "name": "stdout",
     "output_type": "stream",
     "text": [
      "community: 20, communitySize: 3, nodes: ['OpenAI', 'Tesla', 'Lucid Motors']\n",
      "community: 25, communitySize: 2, nodes: ['Binance', 'Coinbase']\n",
      "community: 12, communitySize: 2, nodes: ['Stripe', 'Revolut']\n",
      "community: 7, communitySize: 2, nodes: ['SpaceX', 'Blue Origin']\n",
      "community: 2, communitySize: 1, nodes: ['Anthropic']\n"
     ]
    }
   ],
   "source": [
    "louvainFilteredQuery2 = \"\"\"\n",
    "CALL gds.louvain.stream('filteredProjection2')\n",
    "YIELD nodeId, communityId\n",
    "WITH communityId, \n",
    "     collect(gds.util.asNode(nodeId).name) AS nodes, \n",
    "     count(*) AS communitySize\n",
    "ORDER BY communitySize DESC\n",
    "LIMIT 5\n",
    "RETURN communityId AS community, communitySize, nodes\n",
    "\"\"\"\n",
    "\n",
    "louvainFilteredRes2 = session.run(louvainFilteredQuery2)\n",
    "for record in louvainFilteredRes2:\n",
    "    print(f\"community: {record['community']}, communitySize: {record['communitySize']}, nodes: {record['nodes']}\")"
   ]
  },
  {
   "cell_type": "markdown",
   "metadata": {},
   "source": [
    "There are also numerous options available for configuring the Louvain algorithm. You can find more details in the Neo4j Graph Data Science documentation at https://neo4j.com/docs/graph-data-science/current/algorithms/louvain/. The memory cost estimation for running this algorithm is similiar as how we porceeded for pageRank."
   ]
  },
  {
   "cell_type": "code",
   "execution_count": 17,
   "metadata": {},
   "outputs": [
    {
     "name": "stdout",
     "output_type": "stream",
     "text": [
      "nodeCount: 50\n",
      "relationshipCount: 37\n",
      "bytesMin: 8497\n",
      "bytesMax: 568584\n",
      "requiredMemory: [8497 Bytes ... 555 KiB]\n"
     ]
    }
   ],
   "source": [
    "estimateQuery = \"\"\"\n",
    "CALL gds.louvain.stream.estimate('generalProjection', {})\n",
    "YIELD nodeCount, relationshipCount, bytesMin, bytesMax, requiredMemory\n",
    "\"\"\"\n",
    "\n",
    "estimateRes = session.run(estimateQuery)\n",
    "for record in estimateRes.data():\n",
    "    for key, value in record.items():\n",
    "        print(f\"{key}: {value}\")"
   ]
  },
  {
   "cell_type": "markdown",
   "metadata": {},
   "source": [
    "# Cross-Analyzing PageRank & Communities "
   ]
  },
  {
   "cell_type": "code",
   "execution_count": 18,
   "metadata": {},
   "outputs": [],
   "source": [
    "# Code for the cross-analyzing PageRank & Communities "
   ]
  },
  {
   "cell_type": "markdown",
   "metadata": {},
   "source": [
    "#  Real-World Use Cases "
   ]
  },
  {
   "cell_type": "markdown",
   "metadata": {},
   "source": [
    "Describe and/or cite real-world examples of how the database technology is used in different industries and applications."
   ]
  },
  {
   "cell_type": "markdown",
   "metadata": {},
   "source": [
    "# Conclusion"
   ]
  },
  {
   "cell_type": "markdown",
   "metadata": {},
   "source": [
    "Conclude the tutorial with a summary of the main points and the benefits (and drawbacks) of using Neo4j for graph databases."
   ]
  },
  {
   "cell_type": "markdown",
   "metadata": {},
   "source": [
    "# References"
   ]
  },
  {
   "cell_type": "markdown",
   "metadata": {},
   "source": [
    "1. [NODES 2024 – Advanced Graph Visualizations in Jupyter Notebooks](https://neo4j.com/videos/nodes-2024-advanced-graph-visualizations-in-jupyter-notebooks/)"
   ]
  }
 ],
 "metadata": {
  "kernelspec": {
   "display_name": "Python 3",
   "language": "python",
   "name": "python3"
  },
  "language_info": {
   "codemirror_mode": {
    "name": "ipython",
    "version": 3
   },
   "file_extension": ".py",
   "mimetype": "text/x-python",
   "name": "python",
   "nbconvert_exporter": "python",
   "pygments_lexer": "ipython3",
   "version": "3.11.9"
  }
 },
 "nbformat": 4,
 "nbformat_minor": 2
}
