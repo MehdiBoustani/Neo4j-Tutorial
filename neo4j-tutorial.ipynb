{
 "cells": [
  {
   "cell_type": "markdown",
   "metadata": {},
   "source": [
    "# Exploring Neo4j: A Tutorial on Cypher, PageRank, and Louvain Community Detection\n",
    "\n",
    "**Mehdi Boustani** - S221594  \n",
    "**Nicolas Schneiders** - S203005  \n",
    "**Maxim Piron** - S211493  \n",
    "**Andreas Stistrup** - S212891  \n",
    "\n",
    "*Faculty of Applied Sciences, University of Liège*\n",
    "\n",
    "April 4, 2025\n"
   ]
  },
  {
   "cell_type": "markdown",
   "metadata": {},
   "source": [
    "# Introduction"
   ]
  },
  {
   "cell_type": "markdown",
   "metadata": {},
   "source": [
    "Nowadays, traditional databases often struggle with highly connected data, leading to slow and complex queries. Neo4j, a graph database released in 2007, solves this problem by storing data as nodes and relationships instead of tables. This approach makes it faster and easier to explore connections between entities.\n",
    "\n",
    "Neo4j is widely used in areas like social networks, recommendation systems, and knowledge graphs—where relationships matter most. In this tutorial, we will explore its capabilities by analyzing a startup ecosystem, fetching data from a JSON file, using Cypher queries, PageRank, and Louvain community detection to uncover key insights."
   ]
  },
  {
   "cell_type": "markdown",
   "metadata": {},
   "source": [
    "# Comparison with Relational Databases \n",
    "\n",
    "To compare Neo4j and Cypher with traditional relational databases, we will explore the advantages and drawbacks of using a graph-based approach over a tabular one.\n",
    "\n",
    "### Advantages of Neo4j and cypher over relational SQL\n",
    "One of the main advantages of Neo4j and its query language, Cypher, is that data is stored in a **graph structure** composed of nodes and relationships rather than in tables. This allows for the efficient traversal of relationships between entities. In Neo4j, navigating from one node to another via a relationship can be done in constant time, regardless of the graph's size.\n",
    "\n",
    "In contrast, relational databases require joins between tables to establish relationships, which can become computationally expensive—especially as the number of joins increases or when dealing with deep or complex relationships\n",
    "\n",
    "This is particularly true for relationship-heavy queries, where SQL databases often need to create recursive views or perform iterative joins to explore multi-level relationships. In contrast, Neo4j can efficiently leverage its graph-native structure to maintain **linear performance** relative to the number of hops.\n",
    "\n",
    "Another key advantage of Neo4j and Cypher is the **simplicity** and **readability** of queries when working with graph data. \n",
    "For example, if we want to find the names of people who are friends with someone named Alice, we can write the following Cypher query:\n",
    "\n",
    "```sql\n",
    "MATCH (p:Person)-[:FRIEND_OF]->(:Person {name: 'Alice'})\n",
    "RETURN p.name\n",
    "```\n",
    "\n",
    "In relational SQL, achieving the same result would require:\n",
    "\n",
    "```sql\n",
    "SELECT p1.name\n",
    "FROM Person p1\n",
    "JOIN Friendship f ON p1.id = f.person_id\n",
    "JOIN Person p2 ON f.friend_id = p2.id\n",
    "WHERE p2.name = 'Alice';\n",
    "```\n",
    "\n",
    "As shown above, relationship queries are significantly more intuitive in Cypher. \n",
    "The graph pattern-matching syntax closely reflects the actual structure of the data, making queries easier to write, read, and reason about.\n",
    "\n",
    "The third advantage of Neo4j is its **schema-free data model**. In Neo4j, we are not required to define all possible relationships or properties for each node type in advance. This allows the data model to handle irregular or evolving data naturally, offering greater flexibility as your application and data grow over time.\n",
    "\n",
    "In contrast, SQL databases rely on rigid schemas, where structural modifications often require **schema migrations**, making them less adaptable to dynamic or semi-structured data.\n",
    "\n",
    "Finally, as you will see throughout this tutorial, Neo4j is both well-suited and optimized for implementing graph algorithms. By using in-memory graph projections, we can efficiently run algorithms to uncover patterns such as communities, influence, shortest paths, and more. This makes Neo4j not just a data store, but a powerful analytical tool.\n",
    "\n",
    "### Drawbacks of Neo4j and cypher over relational SQL\n",
    "Interestingly, some of Neo4j’s strengths can also become limitations depending on the use case. \n",
    "\n",
    "1. **Transactional Workloads**\n",
    "\n",
    "    If your data is **highly structured** and the focus is on **transactions** rather than relationships, Neo4j may be less efficient than relational databases. Traditional SQL databases typically perform better for workflows centered around aggregations, batch updates, or structured reporting.\n",
    "\n",
    "2. **Real-Time Data Challenges**\n",
    "\n",
    "    Neo4j is not ideal for real-time analysis on rapidly changing data. As you will see in this tutorial, running graph algorithms often requires creating **in-memory projections**, which work best with relatively stable snapshots of the data rather than constantly updating streams.\n",
    "\n",
    "3. **Higher Memory Overhead**\n",
    "\n",
    "    Finally, graph databases tend to have a higher memory overhead compared to relational SQL databases. This is due to how they store nodes and relationships in memory to enable **fast traversal**, which can increase resource usage—especially for large-scale datasets.\n",
    "\n",
    "### Conclusion\n",
    "\n",
    "As with any decision involving database management systems, it's important to carefully analyze your **use cases** before choosing the right tool. Neo4j excels in certain scenarios, but may not be the best fit for others.\n",
    "\n",
    "A simple roadmap of requirements that might indicate Neo4j is a good choice includes:\n",
    "\n",
    "- **Unstructured or evolving data**: When the data model is flexible and may change over time.\n",
    "- **Relationship-focused queries**: When your workload involves exploring or analyzing relationships and traversals (e.g., social networks, recommendations, graphs of dependencies).\n",
    "- **Stable datasets or snapshot-based analysis**: When the data is relatively stable, or when it's acceptable to analyze it using periodic snapshots rather than in real-time.\n"
   ]
  },
  {
   "cell_type": "markdown",
   "metadata": {},
   "source": [
    "# Installation & configuration"
   ]
  },
  {
   "cell_type": "markdown",
   "metadata": {},
   "source": [
    "## Installing Neo4J\n",
    "If you don't have Docker installed, you can install it from [here](https://www.docker.com/). \n",
    "\n",
    "First, in the terminal, pull the Neo4j image from Docker:\n",
    "\n",
    "`docker pull neo4j`\n",
    "\n",
    "Now, create a Neo4J instance (thanks to the docker-compose.yml file).\n",
    "\n",
    "`docker compose up -d`\n",
    "\n",
    "You can now access the Neo4j browser by going to [http://localhost:7474](http://localhost:7474) (but not necessary for this tutorial).\n",
    "\n",
    "The default username is `neo4j` and the default password is `password`.\n",
    "\n"
   ]
  },
  {
   "cell_type": "code",
   "execution_count": null,
   "metadata": {},
   "outputs": [],
   "source": [
    "# Installation of Neo4j \n",
    "!pip install neo4j\n",
    "\n",
    "# Installation of the library to visualize the graph\n",
    "!pip install yfiles_jupyter_graphs_for_neo4j"
   ]
  },
  {
   "cell_type": "code",
   "execution_count": 8,
   "metadata": {},
   "outputs": [],
   "source": [
    "# Loading the libraries\n",
    "from neo4j import GraphDatabase\n",
    "\n",
    "# Library to visualize the graph\n",
    "from yfiles_jupyter_graphs_for_neo4j import Neo4jGraphWidget\n",
    "\n",
    "# Library to load the data from the JSON file\n",
    "import json\n",
    "\n",
    "# Connecting to the Neo4j database\n",
    "driver = GraphDatabase.driver(uri=\"bolt://localhost:7687\", auth=(\"neo4j\", \"password\"))\n",
    "session = driver.session()\n",
    "\n",
    "# Creating the graph instance in order to visualize the graph\n",
    "g = Neo4jGraphWidget(driver)"
   ]
  },
  {
   "cell_type": "markdown",
   "metadata": {},
   "source": [
    "# Dataset"
   ]
  },
  {
   "cell_type": "markdown",
   "metadata": {},
   "source": [
    "First, let's clear the existing database."
   ]
  },
  {
   "cell_type": "code",
   "execution_count": null,
   "metadata": {},
   "outputs": [],
   "source": [
    "session.run(\"\"\"\n",
    "    MATCH (n)\n",
    "    DETACH DELETE n\n",
    "\"\"\")"
   ]
  },
  {
   "cell_type": "markdown",
   "metadata": {},
   "source": [
    "In Cypher, we select all nodes (n) in the database using ***MATCH (n)***. Since some nodes may have relationships, we use ***DETACH DELETE n*** to first remove all relationships before deleting the node"
   ]
  },
  {
   "cell_type": "markdown",
   "metadata": {},
   "source": [
    "Secondly, we fetch the data from an external JSON file named ***startups.json***. This file contains structured data that we will use to populate our database. *JSON* (JavaScript Object Notation) is a widely used format for storing and exchanging data (especially in APIs) due to its simplicity. In this case, the data was generated with the help of ChatGPT [<sup>1</sup>](#chatgpt) to create realistic but fake startup and investor information. You can learn more about the JSON format here [<sup>5</sup>](#reference-json).\n"
   ]
  },
  {
   "cell_type": "code",
   "execution_count": 10,
   "metadata": {},
   "outputs": [],
   "source": [
    "# Open the json file\n",
    "with open('startups.json', 'r') as file:\n",
    "    # Load the file\n",
    "    data = json.load(file)\n",
    "    \n",
    "    # Create startups with their technology\n",
    "    for tech_name, tech_data in data['technologies'].items():\n",
    "        for startup in tech_data['startups']:\n",
    "            # Run the Cypher query to create startups\n",
    "            session.run(\"\"\"\n",
    "                CREATE (s:Startup {\n",
    "                    name: $name,\n",
    "                    country: $country,\n",
    "                    technology: $technology\n",
    "                })\n",
    "            \"\"\", {\n",
    "                'name': startup['name'],\n",
    "                'country': startup['country'],\n",
    "                'technology': tech_name\n",
    "            })\n",
    "    \n",
    "    # Create investors with their sectors\n",
    "    for investor in data['investors']:\n",
    "        # Run the Cypher query to create investors\n",
    "        session.run(\"\"\"\n",
    "            CREATE (i:Investor {\n",
    "                name: $name,\n",
    "                sector: $sector\n",
    "            })\n",
    "        \"\"\", {\n",
    "            'name': investor['name'],\n",
    "            'sector': ', '.join(investor['sectors'])\n",
    "        })\n"
   ]
  },
  {
   "cell_type": "markdown",
   "metadata": {},
   "source": [
    "### Investment relationships between investors and startups across various sectors."
   ]
  },
  {
   "cell_type": "code",
   "execution_count": null,
   "metadata": {},
   "outputs": [],
   "source": [
    "# AI Sector Investments\n",
    "session.run(\"\"\"\n",
    "    MATCH (i1:Investor {name: 'Elon Musk'}), (s1:Startup {name: 'OpenAI'}), (s2:Startup {name: 'Anthropic'}),\n",
    "          (s3:Startup {name: 'Adept AI'}), (s4:Startup {name: 'DeepMind'})\n",
    "    CREATE (i1)-[:INVESTS_IN]->(s1),\n",
    "           (i1)-[:INVESTS_IN]->(s2),\n",
    "           (i1)-[:INVESTS_IN]->(s3),\n",
    "           (i1)-[:INVESTS_IN]->(s4)\n",
    "\"\"\")\n",
    "\n",
    "session.run(\"\"\"\n",
    "    MATCH (i2:Investor {name: 'Andreessen Horowitz'}), (s1:Startup {name: 'OpenAI'}), (s2:Startup {name: 'Cohere'}),\n",
    "          (s3:Startup {name: 'Hugging Face'}), (s4:Startup {name: 'Stability AI'})\n",
    "    CREATE (i2)-[:INVESTS_IN]->(s1),\n",
    "           (i2)-[:INVESTS_IN]->(s2),\n",
    "           (i2)-[:INVESTS_IN]->(s3),\n",
    "           (i2)-[:INVESTS_IN]->(s4)\n",
    "\"\"\")\n",
    "\n",
    "# Aerospace Sector Investments\n",
    "session.run(\"\"\"\n",
    "    MATCH (i7:Investor {name: 'SoftBank'}), (s1:Startup {name: 'SpaceX'}), (s2:Startup {name: 'Blue Origin'}),\n",
    "          (s3:Startup {name: 'Rocket Lab'}), (s4:Startup {name: 'Relativity Space'})\n",
    "    CREATE (i7)-[:INVESTS_IN]->(s1),\n",
    "           (i7)-[:INVESTS_IN]->(s2),\n",
    "           (i7)-[:INVESTS_IN]->(s3),\n",
    "           (i7)-[:INVESTS_IN]->(s4)\n",
    "\"\"\")\n",
    "\n",
    "session.run(\"\"\"\n",
    "    MATCH (i8:Investor {name: 'Peter Thiel'}), (s1:Startup {name: 'SpaceX'}), (s2:Startup {name: 'Rocket Lab'})\n",
    "    CREATE (i8)-[:INVESTS_IN]->(s1),\n",
    "           (i8)-[:INVESTS_IN]->(s2)\n",
    "\"\"\")\n",
    "\n",
    "session.run(\"\"\"\n",
    "    MATCH (i7:Investor {name: 'SoftBank'}), (s1:Startup {name: 'OpenAI'}), (s2:Startup {name: 'SpaceX'}),\n",
    "          (s3:Startup {name: 'Tesla'}), (s4:Startup {name: 'Revolut'})\n",
    "    CREATE (i7)-[:INVESTS_IN]->(s1),\n",
    "           (i7)-[:INVESTS_IN]->(s2),\n",
    "           (i7)-[:INVESTS_IN]->(s3),\n",
    "           (i7)-[:INVESTS_IN]->(s4)\n",
    "\"\"\")\n",
    "\n",
    "session.run(\"\"\"\n",
    "    MATCH (i2:Investor {name: 'Andreessen Horowitz'}), (s1:Startup {name: 'OpenAI'}), (s2:Startup {name: 'Stripe'}),\n",
    "          (s3:Startup {name: 'Coinbase'}), (s4:Startup {name: 'Tesla'})\n",
    "    CREATE (i2)-[:INVESTS_IN]->(s1),\n",
    "           (i2)-[:INVESTS_IN]->(s2),\n",
    "           (i2)-[:INVESTS_IN]->(s3),\n",
    "           (i2)-[:INVESTS_IN]->(s4)\n",
    "\"\"\")\n",
    "\n",
    "session.run(\"\"\"\n",
    "    MATCH (i9:Investor {name: 'Tiger Global'}), (s1:Startup {name: 'Stripe'}), (s2:Startup {name: 'Binance'}),\n",
    "          (s3:Startup {name: 'Tesla'}), (s4:Startup {name: 'Hugging Face'})\n",
    "    CREATE (i9)-[:INVESTS_IN]->(s1),\n",
    "           (i9)-[:INVESTS_IN]->(s2),\n",
    "           (i9)-[:INVESTS_IN]->(s3),\n",
    "           (i9)-[:INVESTS_IN]->(s4)\n",
    "\"\"\")\n",
    "\n",
    "\n",
    "# FinTech Sector Investments\n",
    "session.run(\"\"\"\n",
    "    MATCH (i3:Investor {name: 'Sequoia Capital'}), (s1:Startup {name: 'Stripe'}), (s2:Startup {name: 'Revolut'}),\n",
    "          (s3:Startup {name: 'Klarna'}), (s4:Startup {name: 'Brex'})\n",
    "    CREATE (i3)-[:INVESTS_IN]->(s1),\n",
    "           (i3)-[:INVESTS_IN]->(s2),\n",
    "           (i3)-[:INVESTS_IN]->(s3),\n",
    "           (i3)-[:INVESTS_IN]->(s4)\n",
    "\"\"\")\n",
    "\n",
    "session.run(\"\"\"\n",
    "    MATCH (i9:Investor {name: 'Tiger Global'}), (s1:Startup {name: 'Stripe'}), (s2:Startup {name: 'Klarna'}),\n",
    "          (s3:Startup {name: 'Brex'})\n",
    "    CREATE (i9)-[:INVESTS_IN]->(s1),\n",
    "           (i9)-[:INVESTS_IN]->(s2),\n",
    "           (i9)-[:INVESTS_IN]->(s3)\n",
    "\"\"\")\n",
    "\n",
    "# Electric Vehicle Sector Investments\n",
    "session.run(\"\"\"\n",
    "    MATCH (i10:Investor {name: 'Cathie Wood'}), (s1:Startup {name: 'Tesla'}), (s2:Startup {name: 'Nio'}),\n",
    "          (s3:Startup {name: 'Rivian'})\n",
    "    CREATE (i10)-[:INVESTS_IN]->(s1),\n",
    "           (i10)-[:INVESTS_IN]->(s2),\n",
    "           (i10)-[:INVESTS_IN]->(s3)\n",
    "\"\"\")\n",
    "\n",
    "session.run(\"\"\"\n",
    "    MATCH (i11:Investor {name: 'Mark Cuban'}), (s1:Startup {name: 'Tesla'}), (s2:Startup {name: 'Lucid Motors'})\n",
    "    CREATE (i11)-[:INVESTS_IN]->(s1),\n",
    "           (i11)-[:INVESTS_IN]->(s2)\n",
    "\"\"\")\n",
    "\n",
    "# Blockchain Sector Investments\n",
    "session.run(\"\"\"\n",
    "    MATCH (i5:Investor {name: 'Binance Labs'}), (s1:Startup {name: 'Binance'}), (s2:Startup {name: 'Ledger'})\n",
    "    CREATE (i5)-[:INVESTS_IN]->(s1),\n",
    "           (i5)-[:INVESTS_IN]->(s2)\n",
    "\"\"\")\n",
    "\n",
    "session.run(\"\"\"\n",
    "    MATCH (i12:Investor {name: 'Accel Partners'}), (s1:Startup {name: 'Chainalysis'}), (s2:Startup {name: 'Coinbase'})\n",
    "    CREATE (i12)-[:INVESTS_IN]->(s1),\n",
    "           (i12)-[:INVESTS_IN]->(s2)\n",
    "\"\"\")\n",
    "\n"
   ]
  },
  {
   "cell_type": "markdown",
   "metadata": {},
   "source": [
    "#### Establishing relationships between startups: collaboration, competition, and partnerships."
   ]
  },
  {
   "cell_type": "code",
   "execution_count": null,
   "metadata": {},
   "outputs": [],
   "source": [
    "session.run(\"\"\"\n",
    "    MATCH (s1:Startup {name: 'OpenAI'}), (s2:Startup {name: 'Tesla'})\n",
    "    CREATE (s1)-[:COLLABORATES_WITH]->(s2)\n",
    "\"\"\")\n",
    "\n",
    "session.run(\"\"\"\n",
    "    MATCH (s1:Startup {name: 'Revolut'}), (s2:Startup {name: 'Stripe'})\n",
    "    CREATE (s1)-[:COLLABORATES_WITH]->(s2)\n",
    "\"\"\")\n",
    "\n",
    "session.run(\"\"\"\n",
    "    MATCH (s1:Startup {name: 'Binance'}), (s2:Startup {name: 'Coinbase'})\n",
    "    CREATE (s1)-[:COMPETES_WITH]->(s2)\n",
    "\"\"\")\n",
    "\n",
    "session.run(\"\"\"\n",
    "    MATCH (s1:Startup {name: 'Tesla'}), (s2:Startup {name: 'Lucid Motors'})\n",
    "    CREATE (s1)-[:COMPETES_WITH]->(s2)\n",
    "\"\"\")\n",
    "\n",
    "session.run(\"\"\"\n",
    "    MATCH (s1:Startup {name: 'SpaceX'}), (s2:Startup {name: 'Blue Origin'})\n",
    "    CREATE (s1)-[:COMPETES_WITH]->(s2)\n",
    "\"\"\")\n",
    "\n",
    "session.run(\"\"\"\n",
    "    MATCH (s1:Startup {name: 'DeepMind'}), (s2:Startup {name: 'Mistral AI'})\n",
    "    CREATE (s1)-[:PARTNERS_WITH]->(s2)\n",
    "\"\"\")"
   ]
  },
  {
   "cell_type": "markdown",
   "metadata": {},
   "source": [
    "### Cypher query to visualize Startups and Investors [<sup>7</sup>](#vizualisation)"
   ]
  },
  {
   "cell_type": "code",
   "execution_count": null,
   "metadata": {},
   "outputs": [],
   "source": [
    "g.show_cypher(\"MATCH (s)-[r]->(t) RETURN s, r, t\")"
   ]
  },
  {
   "cell_type": "markdown",
   "metadata": {},
   "source": [
    "# PageRank algorithm"
   ]
  },
  {
   "cell_type": "markdown",
   "metadata": {},
   "source": [
    "The PageRank algorithm ranks the nodes in a graph based on their influence. It is a recursive algorithm in which a node’s score depends on the scores of the nodes linking to it, as well as the number of other nodes those linking nodes connect to. This algorithm is implemented in the ***graph-data-science plugin***, and we will break down its core functionalities."
   ]
  },
  {
   "cell_type": "markdown",
   "metadata": {},
   "source": [
    "The first step is to create an **in-memory projection** of the graph. The primary goal of this projection is to streamline the graph and isolate it from live data, allowing for faster execution times by working on a simplified version of the graph. To achieve this, we first need to retrieve the labels of our nodes and the possible relationships between them."
   ]
  },
  {
   "cell_type": "code",
   "execution_count": null,
   "metadata": {},
   "outputs": [],
   "source": [
    "labelsResponse = session.run(\"\"\"CALL db.labels()\"\"\")\n",
    "labels = labelsResponse.data()\n",
    "print(labels)\n",
    "\n",
    "relationshipResponse = session.run(\"CALL db.relationshipTypes()\")\n",
    "relationships = relationshipResponse.data()\n",
    "print(relationships)"
   ]
  },
  {
   "cell_type": "markdown",
   "metadata": {},
   "source": [
    "Then, by using the labels and relationship types, we can create the projection."
   ]
  },
  {
   "cell_type": "code",
   "execution_count": null,
   "metadata": {},
   "outputs": [],
   "source": [
    "projection_query = \"\"\"\n",
    "CALL gds.graph.project(\n",
    "  'generalProjection', \n",
    "  ['Startup', 'Investor'], \n",
    "  {\n",
    "    INVESTS_IN: {},\n",
    "    COLLABORATES_WITH: {},\n",
    "    COMPETES_WITH: {}\n",
    "  }\n",
    ")\n",
    "\"\"\"\n",
    "session.run(projection_query)"
   ]
  },
  {
   "cell_type": "markdown",
   "metadata": {},
   "source": [
    "Now, we can run the PageRank algorithm using **stream mode**. In this mode, the algorithm computes a score for each node, allowing us to post-process the results without modifying the underlying data. Additionally, we limit the query to return only the top 10 nodes."
   ]
  },
  {
   "cell_type": "code",
   "execution_count": null,
   "metadata": {},
   "outputs": [],
   "source": [
    "pagerankGeneralQuery = \"\"\"\n",
    "    CALL gds.pageRank.stream('generalProjection')\n",
    "    YIELD nodeId, score\n",
    "    RETURN gds.util.asNode(nodeId).name AS name, score\n",
    "    ORDER BY score DESC\n",
    "    LIMIT 10\n",
    "\"\"\"\n",
    "pagerankGeneralRes = session.run(pagerankGeneralQuery)\n",
    "for record in pagerankGeneralRes:\n",
    "    print(f\"Name: {record['name']}, Score: {record['score']}\")"
   ]
  },
  {
   "cell_type": "markdown",
   "metadata": {},
   "source": [
    "Note that we can filter the type of relationship in the projection. For example, if we want to find the most influential node with regard to only the INVESTS_IN relationships, we can use the following projection."
   ]
  },
  {
   "cell_type": "code",
   "execution_count": null,
   "metadata": {},
   "outputs": [],
   "source": [
    "# Drop the graph 'filteredProjection' if it exists already.\n",
    "# We use YIELD graphName to avoid using deprecated return values like 'schema'.\n",
    "session.run(\"\"\"\n",
    "    CALL gds.graph.drop('filteredProjection', false)\n",
    "    YIELD graphName\n",
    "\"\"\")\n",
    "\n",
    "# Define the filtered projection of the graph.\n",
    "filteredProjectionQuery = \"\"\"\n",
    "  CALL gds.graph.project(\n",
    "    'filteredProjection',\n",
    "    ['Startup', 'Investor'],\n",
    "    {\n",
    "      INVESTS_IN: {}\n",
    "    }\n",
    "  )\n",
    "\"\"\"\n",
    "\n",
    "# Define the PageRank query on the filtered projection.\n",
    "# It streams the results directly (rather than writing them to the graph), then returns the top 10 nodes with the highest PageRank scores.\n",
    "pagerankFilteredQuery = \"\"\"\n",
    "  CALL gds.pageRank.stream('filteredProjection')\n",
    "  YIELD nodeId, score\n",
    "  RETURN gds.util.asNode(nodeId).name AS name, score\n",
    "  ORDER BY score DESC\n",
    "  LIMIT 10\n",
    "\"\"\"\n",
    "\n",
    "# Execute the graph projection query to create the filtered graph.\n",
    "session.run(filteredProjectionQuery)\n",
    "\n",
    "# Run the PageRank algorithm on the filtered projection and print results.\n",
    "pagerankFilteredRes = session.run(pagerankFilteredQuery)\n",
    "for record in pagerankFilteredRes:\n",
    "    print(f\"Name: {record['name']}, Score: {record['score']}\")\n"
   ]
  },
  {
   "cell_type": "markdown",
   "metadata": {},
   "source": [
    "Similarly, we can filter nodes based on their labels. For example, if we want to focus only on nodes with the label Startup, we can create a projection like this:"
   ]
  },
  {
   "cell_type": "code",
   "execution_count": null,
   "metadata": {},
   "outputs": [],
   "source": [
    "# Drop the graph 'filteredProjection2' if it exists already.\n",
    "# We use YIELD graphName to avoid using deprecated return values like 'schema'.\n",
    "session.run(\"\"\"\n",
    "    CALL gds.graph.drop('filteredProjection2', false)\n",
    "    YIELD graphName\n",
    "\"\"\")\n",
    "\n",
    "# Create 'filteredProjection2' with only Startup nodes and multiple relationship types.\n",
    "filteredProjectionQuery2 = \"\"\"\n",
    "  CALL gds.graph.project(\n",
    "    'filteredProjection2', \n",
    "    ['Startup'], \n",
    "    {\n",
    "      INVESTS_IN: {},\n",
    "      COLLABORATES_WITH: {},\n",
    "      COMPETES_WITH: {}\n",
    "    }\n",
    "  )\n",
    "\"\"\"\n",
    "\n",
    "# Define PageRank query to rank startups based on all three relationship types.\n",
    "pagerankFilteredQuery2 = \"\"\"\n",
    "  CALL gds.pageRank.stream('filteredProjection2')\n",
    "  YIELD nodeId, score\n",
    "  RETURN gds.util.asNode(nodeId).name AS name, score\n",
    "  ORDER BY score DESC\n",
    "  LIMIT 10\n",
    "\"\"\"\n",
    "\n",
    "# Run the graph projection to create 'filteredProjection2'.\n",
    "session.run(filteredProjectionQuery2)\n",
    "\n",
    "\n",
    "# Execute PageRank and print top 10 ranked startups by score.\n",
    "pagerankFilteredRes2 = session.run(pagerankFilteredQuery2)\n",
    "for record in pagerankFilteredRes2:\n",
    "    print(f\"Name: {record['name']}, Score: {record['score']}\")\n"
   ]
  },
  {
   "cell_type": "markdown",
   "metadata": {},
   "source": [
    "There are numerous options available to fine-tune and extend the PageRank algorithm. For more details, you can refer to the Neo4j documentation [<sup>9</sup>](#docpr)."
   ]
  },
  {
   "cell_type": "markdown",
   "metadata": {},
   "source": [
    "## Use cases\n",
    "\n",
    "The **PageRank algorithm**, initially designed by Google to rank web pages, can be applied to any work  where data can be represented as a graph. Its core algorithm can be customized to suit various types of data and domains.\n",
    "\n",
    "For example, it has been used to:\n",
    "- [Prediction of influential nodes in social networks based on local communities and users’ reaction information](https://www.nature.com/articles/s41598-024-66277-6)"
   ]
  },
  {
   "cell_type": "markdown",
   "metadata": {},
   "source": [
    "# Louvain algorithm"
   ]
  },
  {
   "cell_type": "markdown",
   "metadata": {},
   "source": [
    "The **Louvain algorithm** is used for community detection in graphs by maximizing a metric called modularity. It iteratively groups nodes into communities, ensuring that nodes within the same community are densely connected, while connections between different communities remain sparse. This algorithm is also implemented in the ***graph-data-science plugin***."
   ]
  },
  {
   "cell_type": "markdown",
   "metadata": {},
   "source": [
    "The Louvain algorithm also operates on an **in-memory graph projection**. In this tutorial, we will use the same projection created for the PageRank algorithm. Like PageRank, Louvain offers various execution modes, and to maintain consistency with our previous approach, we will use stream mode."
   ]
  },
  {
   "cell_type": "markdown",
   "metadata": {},
   "source": [
    "We create a query that orders the communities by the number of nodes they contain. The query also lists the nodes in each community and limits the output to the top 5 communities."
   ]
  },
  {
   "cell_type": "code",
   "execution_count": null,
   "metadata": {},
   "outputs": [],
   "source": [
    "louvainGeneralQuery = \"\"\"\n",
    "     CALL gds.louvain.stream('generalProjection')\n",
    "     YIELD nodeId, communityId\n",
    "     WITH communityId, \n",
    "          collect(gds.util.asNode(nodeId).name) AS nodes, \n",
    "          count(*) AS communitySize\n",
    "     ORDER BY communitySize DESC\n",
    "     LIMIT 5\n",
    "     RETURN communityId AS community, communitySize, nodes\n",
    "\"\"\"\n",
    "\n",
    "louvainGeneralRes = session.run(louvainGeneralQuery)\n",
    "for record in louvainGeneralRes:\n",
    "    print(f\"community: {record['community']}, communitySize: {record['communitySize']}, nodes: {record['nodes']}\")\n"
   ]
  },
  {
   "cell_type": "code",
   "execution_count": null,
   "metadata": {},
   "outputs": [],
   "source": [
    "louvainFilteredQuery = \"\"\"\n",
    "     CALL gds.louvain.stream('filteredProjection')\n",
    "     YIELD nodeId, communityId\n",
    "     WITH communityId, \n",
    "          collect(gds.util.asNode(nodeId).name) AS nodes, \n",
    "          count(*) AS communitySize\n",
    "     ORDER BY communitySize DESC\n",
    "     LIMIT 5\n",
    "     RETURN communityId AS community, communitySize, nodes\n",
    "\"\"\"\n",
    "\n",
    "louvainFilteredRes = session.run(louvainFilteredQuery)\n",
    "for record in louvainFilteredRes:\n",
    "    print(f\"community: {record['community']}, communitySize: {record['communitySize']}, nodes: {record['nodes']}\")"
   ]
  },
  {
   "cell_type": "code",
   "execution_count": null,
   "metadata": {},
   "outputs": [],
   "source": [
    "louvainFilteredQuery2 = \"\"\"\n",
    "     CALL gds.louvain.stream('filteredProjection2')\n",
    "     YIELD nodeId, communityId\n",
    "     WITH communityId, \n",
    "          collect(gds.util.asNode(nodeId).name) AS nodes, \n",
    "          count(*) AS communitySize\n",
    "     ORDER BY communitySize DESC\n",
    "     LIMIT 5\n",
    "     RETURN communityId AS community, communitySize, nodes\n",
    "\"\"\"\n",
    "\n",
    "louvainFilteredRes2 = session.run(louvainFilteredQuery2)\n",
    "for record in louvainFilteredRes2:\n",
    "    print(f\"community: {record['community']}, communitySize: {record['communitySize']}, nodes: {record['nodes']}\")"
   ]
  },
  {
   "cell_type": "markdown",
   "metadata": {},
   "source": [
    "There are also numerous options available for configuring the Louvain algorithm. You can find more details in the Neo4j Graph Data Science documentation[<sup>10</sup>](#doclouvain)."
   ]
  },
  {
   "cell_type": "markdown",
   "metadata": {},
   "source": [
    "## Use cases\n",
    "\n",
    "As for the PageRank algorithm, the Louvain community detection method can be applied to any work in which data can be represented as a graph. Its core algorithm can also be modified as to adapt to the data that it is handling.\n",
    "\n",
    "\n",
    "For example, it has been previously used to:\n",
    "- [Analyze the hierarchical modularity in human brain functional networks](https://www.frontiersin.org/journals/neuroinformatics/articles/10.3389/neuro.11.037.2009/full);\n",
    "- [Track the Evolution of Communities in\n",
    "Dynamic Social Networks](http://derekgreene.com/papers/greene10tracking.pdf);\n",
    "- [Improve profile search results on social media applications](http://jonathanhaynes.org/files/mappingsearchrelevancetosocialnetworks.pdf)."
   ]
  },
  {
   "cell_type": "markdown",
   "metadata": {},
   "source": [
    "# Cross-analysis"
   ]
  },
  {
   "cell_type": "markdown",
   "metadata": {},
   "source": [
    "In both the **general** and **filtered** projections, we can see a clear relationship between **PageRank** and **communities**:  \n",
    "\n",
    "1. **High PageRank often aligns with large or central communities** – Startups like *Lucid Motors, Tesla, and Stripe* score high because they belong to well-connected groups with multiple investors and industry ties. However, community size can sometimes affect PageRank disproportionately, as seen with Tesla compared to Rivian and Nio.\n",
    "\n",
    "2. **Filtering the graph reduces the impact of wide connections** – *OpenAI*, which was central in the general network, drops out in the filtered version, showing that its PageRank depended on relationships beyond direct startup-investor links.  \n",
    "\n",
    "3. **PageRank captures the \"bridge\" effect** – Some companies like *Coinbase* and *Stripe* have high scores because they connect different investment groups, reinforcing their influence beyond just being part of a single strong community.  \n",
    "\n",
    "This shows that **PageRank and community structure are correlated**, but the strength of a node's connections (connecting different groups) can sometimes be more important than just the size of the community."
   ]
  },
  {
   "cell_type": "markdown",
   "metadata": {},
   "source": [
    "#  Real-World Use Cases[<sup>11</sup>](#usecases)"
   ]
  },
  {
   "cell_type": "markdown",
   "metadata": {},
   "source": [
    "## Common applications\n",
    "\n",
    "Neo4j (and graph databases in general) are commonly used in a variety of fields where data is highly interconnected. These applications are particularly well-suited for graph databases because of their ability to efficiently manage and query complex relationships.\n",
    "\n",
    "### 1. Knowledge graphs\n",
    "\n",
    "A **knowledge graph** is a data model which represents information as a network of entities (nodes) and the relationships between them (edges). It is used to make complex data more manageable and easier to understand. \n",
    "\n",
    "With Neo4j, building knowledge graphs becomes more intuitive, as real-world relationships are naturally mapped to the graph structure. The graph is also fast to code, requiring few lines of code, and quick to update due to its flexible data schema.\n",
    "Additionaly, users can use tools like [Neo4j's Knowledge Graph Builder](https://neo4j.com/labs/genai-ecosystem/llm-graph-builder/) to quickly build knowledge graphs from their data.\n",
    "\n",
    "### 2. Generative AI\n",
    "\n",
    "Generative Artificial Intelligences (such as large language models) often struggle with reasoning. The structured nature of knowledge graphs powered by **Neo4j** allows these AIs to access relevant contextual data more efficiently. Therefore, AI-generated responses become more accurate, as they are based in truth.\n",
    "\n",
    "By incorporating user preferences and histories——which can be easily integrated into the knowledge graphs——AIs are also able to generate more personalized responses.\n",
    "\n",
    "Example (paper): [The Growing Importance of Graph Databases for AI](https://media.bitpipe.com/io_31x/io_316186/item_2812073/ESG-WP-AWS-Neptune-Jun-2024.pdf).\n",
    "\n",
    "### 3. Fraud detection\n",
    "\n",
    "When committing bank fraud, fraudsters often operate in rings, which are highly connected networks. Graph databases make fraud-pattern recognition more efficient than SQL databases since the relationships between transactions and individuals can be transposed to a graph, which can then be analyzed to detect suspicious activity.\n",
    "\n",
    "Example (paper): [Enhancing fraud detection in banking by integration of graph databases with machine learning](https://www.sciencedirect.com/science/article/pii/S2215016124001377).\n",
    "\n",
    "### 4. Identity & Access management\n",
    "\n",
    "Managing roles and access to various data sets is easily done by using graph databases since relationships between entities are represented as graph edges. Using the Cypher query language, users can easily add or remove permissions and roles dynamically, allowing managers to have fast and flexible access control.\n",
    "\n",
    "Example (paper): [Comparison of Access Control Approaches for Graph-Structured Data](https://www.researchgate.net/publication/381109230_Comparison_of_Access_Control_Approaches_for_Graph-Structured_Data/link/665d6e1dbc86444c7229431a/download?_tp=eyJjb250ZXh0Ijp7ImZpcnN0UGFnZSI6InB1YmxpY2F0aW9uIiwicGFnZSI6InB1YmxpY2F0aW9uIn19)\n",
    "\n",
    "### 5. Master data management\n",
    "\n",
    "Neo4j offers a master data management service that allows to unify your data into a single \"*360° view*\" of your data. This means that, for example, data related to customer, product, supplier, and logistics information can be put together in order to leverage insights across datasets. \n",
    "\n",
    "Example (white paper): [Rethink Your Master Data - How Connections Will Define the Future of MDM](https://go.neo4j.com/rs/710-RRC-335/images/Neo4j-Master-Data-Management-white-paper-EN-US.pdf)\n",
    "\n",
    "### 6. Network and IT operations\n",
    "\n",
    "Graph databases are ideal for integrating network and IT assets to help with troubleshooting and analyzing networks. By using a graph database, connections between different monitoring tools is possible, allowing users to improve the management of their networks.\n",
    "\n",
    "Example (white paper): [How Graph Databases Solve Problems in Network & Data Center Management: a Close Look at Two Deployments](https://we-yun.com/doc/neo4j-book/%E5%9B%BE%E6%95%B0%E6%8D%AE%E5%BA%93%E4%BA%94%E5%A4%A7%E5%BA%94%E7%94%A8%E6%A1%88%E4%BE%8B/EMA_Neo4j_Two_Deployments-WP.pdf)\n",
    "\n",
    "### 7. Real-time recommendations\n",
    "\n",
    "The speed of editing, traversing, and extracting data from graph databases is unmatched by other databases types, enabling real-time recommendation processing. Additionally, since graph databases efficiently handle complex and deep relationships between entities, they make recommendations like \"People who bought this also bought...\" possible. \n",
    "\n",
    "Example (white paper): [Powering Real-Time Recommendations with Graph Database Technology](https://go.neo4j.com/rs/710-RRC-335/images/Neo4j_WP_Recommendations_EN_BUS.pdf?_ga=2.216021586.597232194.1522833081-1282627512.1522833081)\n",
    "\n",
    "### 8. Data privacy, risk and compliance\n",
    "\n",
    "Neo4j's [*Privacy-Shield*](https://neo4j.com/use-cases/gdpr-compliance/?ref=web-solutions-privacy-risk-compliance) helps companies comply with the EU's [General Data Protection Requirements (GDPR)](https://europa.eu/youreurope/business/dealing-with-customers/data-protection/data-protection-gdpr/index_en.htm), which requires companies to control and manage customer data. \n",
    "\n",
    "It connects personal data and tracks:\n",
    "- The location of private information;\n",
    "- Which systems and apps use the data;\n",
    "- How and when personal data is used;\n",
    "- Who views and uses the data;\n",
    "- What permissions you have to use the data, and when and how they were obtained;\n",
    "- Where and when personal data moves.\n",
    "\n",
    "The regulations of different countries (such as the [California Consumer Privacy Act](https://oag.ca.gov/privacy/ccpa)) are also tackled, but the GDPR is more relevant in this context.\n",
    "\n",
    "### 9. Supply chain management\n",
    "\n",
    "Supply chains are complex networks, making graph databases particularly well-suited for managing them. With graph databases, it is then possible to anticipate shifts in demand, predict product handling costs, and adapt to new compliance standards.\n",
    "\n",
    "Example (paper): [Graph Database to Enhance Supply Chain Resilience for Industry 4.0](https://pdfs.semanticscholar.org/88cf/a5f142b2656090010fdc212260e03098a6f2.pdf)\n",
    "\n",
    "## Industry use cases\n",
    "\n",
    "Many industry uses of Neo4j are a combination of the common uses mentioned previously.\n",
    "\n",
    "Industries use Neo4j for the following applications:\n",
    "\n",
    "1. Financial services\n",
    "    - Detect fraud rings (analyze networks of transactions);\n",
    "    - Model ever-changing complex assets (track dependencies between entities);\n",
    "    - Securing user data (manage identity & access management).\n",
    "    \n",
    "    Notable users: [UBS](https://www.ubs.com/us/en.html), [Cerved](https://www.cerved.com/en), [Royal Bank of Scotland](https://www.rbs.co.uk/).\n",
    "\n",
    "2. Government:\n",
    "    - Connect different data records in criminal investigations (connecting separate datasets);\n",
    "    - Manage the equipment of governmental staff (track resources and supply chains);\n",
    "    - Detect failure causes (track dependencies between entities).\n",
    "    \n",
    "    Notable users: [US Army](https://www.army.mil/), [IQT](https://www.iqt.org/), [MITRE](https://www.mitre.org/), [Lockheed Martin Space](https://www.lockheedmartin.com/), [NASA](https://www.nasa.gov/).\n",
    "\n",
    "3. Healthcare & life sciences:\n",
    "    - Model connections between genes, proteins, cells and tissues (create and analyze knowledge graphs);\n",
    "    - Model molecules (create and analyze knowledge graphs);\n",
    "    - Map patients' journeys (create and analyze knowledge graphs).\n",
    "    \n",
    "    Notable users: [Novartis](https://www.novartis.com/), [Boston Scientific](https://www.bostonscientific.com/en-US/home.html), [ChemAxon](https://chemaxon.com/), [Bayer (Monsanto)](https://www.bayer.com/en/).\n",
    "\n",
    "4. Retail:\n",
    "    - Provide real-time product recommendations (updating knowledge graphs dynamically);\n",
    "    - Change prices dynamically (updating knowledge graphs dynamically);\n",
    "    - Optimize delivery routing (updating knowledge graphs dynamically).\n",
    "    \n",
    "    Notable users: [Walmart](https://www.walmart.com/), [eBay](https://www.ebay.com/), [Adidas](https://www.adidas-group.com/en/), [Transparency-One](https://www.transparency-one.com/).\n",
    "\n",
    "5. Telecommunications:\n",
    "    - Model customer-related graphs (create and analyze knowledge graphs);\n",
    "    - Model communication networks (create and analyze knowledge graphs).\n",
    "    \n",
    "    Notable users: [Comcast](https://corporate.comcast.com/), [Telenor](https://www.telenor.com/), [Cisco](https://www.cisco.com/).\n",
    "\n",
    "\n",
    "## Cloud partners\n",
    "\n",
    "[Neo4j's AuraDB](https://neo4j.com/product/auradb/) is also used by some of the world's largest companies' cloud storages, namely [Amazon AWS](https://neo4j.com/cloud/aura-aws/), [Microsoft Azure ecosystem](https://neo4j.com/partners/microsoft/), and [Google CLOUD](https://neo4j.com/partners/google/).\n",
    "\n",
    "The integration of Neo4j into these cloud services allow thousands of developers from all around the world to create AI models, analyze complex data, and create real-time applications."
   ]
  },
  {
   "cell_type": "markdown",
   "metadata": {},
   "source": [
    "# Conclusion"
   ]
  },
  {
   "cell_type": "markdown",
   "metadata": {},
   "source": [
    "Throughout this tutorial, we explored Neo4j's capabilities and learned several key lessons. We started by loading data from a **JSON file**, demonstrating how Neo4j can easily integrate with simple data formats and transform structured data into a graph representation. Neo4j's storage of data as nodes and relationships proved ideal for representing our startup ecosystem, while Cypher provided intuitive syntax for creating and querying the network.\n",
    "\n",
    "Our implementation of **PageRank** revealed influential nodes in our startup network, showing how companies like *Tesla* and *Lucid Motors* gain influence through their investor connections. The **Louvain algorithm** helped detect natural communities, demonstrating how startups group around similar technologies and investors. **Cross-analysis** of both algorithms showed how a node's influence often correlates with its community structure, highlighting the ability to perform **statistical analysis** using graph databases.\n",
    "\n",
    "While Neo4j excels with relationship-heavy data, it may not be the best choice for purely transactional workloads. The best choice depends on the specific use case, as there is no one-size-fits-all solution. \n",
    "\n",
    "This tutorial covers everything from initial data loading to advanced algorithm implementation, giving you a solid foundation for working with graph databases and analyzing connected data."
   ]
  },
  {
   "cell_type": "markdown",
   "metadata": {},
   "source": [
    "# References"
   ]
  },
  {
   "cell_type": "markdown",
   "metadata": {},
   "source": [
    "1. <a id=\"neo4jVSsql\"></a> [Quora 2023 Sumit Sutariya - Pros and Cons of using Graph Databases compared to Traditional Relational Databases](https://www.quora.com/What-are-the-pros-and-cons-of-using-graph-databases-compared-to-traditional-relational-databases-in-modern-web-development)\n",
    "\n",
    "2. <a id=\"diffgraphandrelationaldb\"></a> [Amazon - Difference between Graph and Relational Database](https://aws.amazon.com/fr/compare/the-difference-between-graph-and-relational-database/)\n",
    "\n",
    "3. <a id=\"graphdbscalelimitation\"></a> [Thatdot Rob Malnati - Scale Limitations of Graph Databases](https://www.thatdot.com/blog/understanding-the-scale-limitations-of-graph-databases/#:~:text=Graph%20databases%20are%20great%20at,on%20streaming%20data%20are%20desired.)\n",
    "\n",
    "4. <a id=\"whygraphdb\"></a> [NEBULAGRAPH 2023 Min.WU](https://www.nebula-graph.io/posts/why-use-graph-databases#:~:text=Graph%20databases%20provide%20a%20flexible,based%20on%20the%20collected%20insights.)\n",
    "\n",
    "5. <a id=\"reference-json\"></a> [Wikipedia - JSON](https://en.wikipedia.org/wiki/JSON)\n",
    "\n",
    "6. <a id=\"chatgpt\"></a> [ChatGPT](https://chatgpt.com/)\n",
    "\n",
    "7. <a id=\"vizualisation\"></a> [Nodes 2024 – Advanced Graph Visualizations in Jupyter Notebooks](https://neo4j.com/videos/nodes-2024-advanced-graph-visualizations-in-jupyter-notebooks/)\n",
    "\n",
    "8. <a id=\"Neo4Jdoc\"></a> [Neo4j - Official documentation](https://neo4j.com/docs/getting-started/?utm_source=GSearch&utm_medium=PaidSearch&utm_campaign=Evergreen&utm_content=EMEA-Search-SEMCE-DSA-None-SEM-SEM-NonABM&utm_term=&utm_adgroup=DSA&gad_source=1&gclid=Cj0KCQjwtJ6_BhDWARIsAGanmKfTPoCcMxVBQzAo82Ng60-loTIjCV3yfWp9R_PvEh0qp6mz84Ks6yQaAiQlEALw_wcB)\n",
    "\n",
    "9. <a id=\"docpr\"></a> [Page Rank - Official documentation](https://neo4j.com/docs/graph-data-science/current/algorithms/page-rank/)\n",
    "\n",
    "10. <a id=\"doclouvain\"></a> [Louvain - Official documentation](https://neo4j.com/docs/graph-data-science/current/algorithms/louvain/)\n",
    "\n",
    "11. <a id=\"usecases\"></a> [Neo4j's use cases (and their respective white papers)](https://neo4j.com/use-cases/)\n"
   ]
  },
  {
   "cell_type": "markdown",
   "metadata": {},
   "source": [
    "# Process and Work Distribution\n",
    "\n",
    "Mehdi researched and selected the subject for the project (with the opinion of the other members), distributed the tasks equitably and then set deadlines for the tutorial:\n",
    "\n",
    "- **Jupyter Creation, Introduction, Dataset, and Conclusion**: Mehdi\n",
    "- **PageRank Implementation, Benefits and Drawbacks of Database Technology (Comparing with Relational Databases)**: Nicolas\n",
    "- **Louvain Algorithm for Communities**: Maxim\n",
    "- **Use cases and Real-World Examples in Different Industries**: Andreas\n",
    "\n",
    "After completing our respective sections, each member reviewed and improved on the work of others to ensure the overall correctness and coherence of the tutorial.\n"
   ]
  }
 ],
 "metadata": {
  "kernelspec": {
   "display_name": "Python 3",
   "language": "python",
   "name": "python3"
  },
  "language_info": {
   "codemirror_mode": {
    "name": "ipython",
    "version": 3
   },
   "file_extension": ".py",
   "mimetype": "text/x-python",
   "name": "python",
   "nbconvert_exporter": "python",
   "pygments_lexer": "ipython3",
   "version": "3.11.9"
  }
 },
 "nbformat": 4,
 "nbformat_minor": 2
}
