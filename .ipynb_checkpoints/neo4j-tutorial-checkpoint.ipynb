{
 "cells": [
  {
   "cell_type": "markdown",
   "metadata": {},
   "source": [
    "# Introduction"
   ]
  },
  {
   "cell_type": "markdown",
   "metadata": {},
   "source": [
    "Nowadays, traditional databases often struggle with highly connected data, leading to slow and complex queries. Neo4j, a graph database released in 2007, solves this problem by storing data as nodes and relationships instead of tables. This approach makes it faster and easier to explore connections between entities.\n",
    "\n",
    "Neo4j is widely used in areas like social networks, recommendation systems, and knowledge graphs—where relationships matter most. In this tutorial, we will explore its capabilities by analyzing a startup ecosystem, using Cypher queries, PageRank, and Louvain community detection to uncover key insights."
   ]
  },
  {
   "cell_type": "markdown",
   "metadata": {},
   "source": [
    "# Comparison with Relational Databases "
   ]
  },
  {
   "cell_type": "markdown",
   "metadata": {},
   "source": [
    "* Advantages of Neo4j over relational databases\n",
    "\n",
    "* Drawbacks of Neo4j compared to relational databases\n",
    "\n",
    "* Example Cypher query to illustrate a key difference with SQL\n",
    "\n",
    "* Key takeaways"
   ]
  },
  {
   "cell_type": "markdown",
   "metadata": {},
   "source": [
    "# Installation & configuration"
   ]
  },
  {
   "cell_type": "markdown",
   "metadata": {},
   "source": [
    "## Installing Neo4J\n",
    "If you don't have Docker installed, you can install it from [here](https://www.docker.com/). \n",
    "\n",
    "First, in the terminal, pull the Neo4J image from Docker:\n",
    "\n",
    "`docker pull neo4j`\n",
    "\n",
    "Now, create a Neo4J instance (thanks to the docker-compose.yml file).\n",
    "\n",
    "`docker compose up -d`\n",
    "\n",
    "You can now access the Neo4J browser by going to [http://localhost:7474](http://localhost:7474). We will use this to visualize the graph.\n",
    "\n",
    "The default username is `neo4j` and the default password is `password`.\n",
    "\n"
   ]
  },
  {
   "cell_type": "code",
   "execution_count": 1,
   "metadata": {},
   "outputs": [
    {
     "name": "stdout",
     "output_type": "stream",
     "text": [
      "Requirement already satisfied: neo4j in c:\\users\\ns\\miniconda3\\envs\\stat1\\lib\\site-packages (5.28.1)\n",
      "Requirement already satisfied: pytz in c:\\users\\ns\\miniconda3\\envs\\stat1\\lib\\site-packages (from neo4j) (2023.3.post1)\n",
      "Requirement already satisfied: yfiles_jupyter_graphs_for_neo4j in c:\\users\\ns\\miniconda3\\envs\\stat1\\lib\\site-packages (1.6.0)\n",
      "Requirement already satisfied: yfiles_jupyter_graphs>=1.9.0 in c:\\users\\ns\\miniconda3\\envs\\stat1\\lib\\site-packages (from yfiles_jupyter_graphs_for_neo4j) (1.10.1)\n",
      "Requirement already satisfied: ipywidgets>=8.0.0 in c:\\users\\ns\\miniconda3\\envs\\stat1\\lib\\site-packages (from yfiles_jupyter_graphs>=1.9.0->yfiles_jupyter_graphs_for_neo4j) (8.0.4)\n",
      "Requirement already satisfied: ipykernel>=4.5.1 in c:\\users\\ns\\miniconda3\\envs\\stat1\\lib\\site-packages (from ipywidgets>=8.0.0->yfiles_jupyter_graphs>=1.9.0->yfiles_jupyter_graphs_for_neo4j) (6.25.0)\n",
      "Requirement already satisfied: ipython>=6.1.0 in c:\\users\\ns\\miniconda3\\envs\\stat1\\lib\\site-packages (from ipywidgets>=8.0.0->yfiles_jupyter_graphs>=1.9.0->yfiles_jupyter_graphs_for_neo4j) (8.15.0)\n",
      "Requirement already satisfied: traitlets>=4.3.1 in c:\\users\\ns\\miniconda3\\envs\\stat1\\lib\\site-packages (from ipywidgets>=8.0.0->yfiles_jupyter_graphs>=1.9.0->yfiles_jupyter_graphs_for_neo4j) (5.7.1)\n",
      "Requirement already satisfied: widgetsnbextension~=4.0 in c:\\users\\ns\\miniconda3\\envs\\stat1\\lib\\site-packages (from ipywidgets>=8.0.0->yfiles_jupyter_graphs>=1.9.0->yfiles_jupyter_graphs_for_neo4j) (4.0.5)\n",
      "Requirement already satisfied: jupyterlab-widgets~=3.0 in c:\\users\\ns\\miniconda3\\envs\\stat1\\lib\\site-packages (from ipywidgets>=8.0.0->yfiles_jupyter_graphs>=1.9.0->yfiles_jupyter_graphs_for_neo4j) (3.0.5)\n",
      "Requirement already satisfied: comm>=0.1.1 in c:\\users\\ns\\miniconda3\\envs\\stat1\\lib\\site-packages (from ipykernel>=4.5.1->ipywidgets>=8.0.0->yfiles_jupyter_graphs>=1.9.0->yfiles_jupyter_graphs_for_neo4j) (0.1.2)\n",
      "Requirement already satisfied: debugpy>=1.6.5 in c:\\users\\ns\\miniconda3\\envs\\stat1\\lib\\site-packages (from ipykernel>=4.5.1->ipywidgets>=8.0.0->yfiles_jupyter_graphs>=1.9.0->yfiles_jupyter_graphs_for_neo4j) (1.6.7)\n",
      "Requirement already satisfied: jupyter-client>=6.1.12 in c:\\users\\ns\\miniconda3\\envs\\stat1\\lib\\site-packages (from ipykernel>=4.5.1->ipywidgets>=8.0.0->yfiles_jupyter_graphs>=1.9.0->yfiles_jupyter_graphs_for_neo4j) (7.4.9)\n",
      "Requirement already satisfied: jupyter-core!=5.0.*,>=4.12 in c:\\users\\ns\\miniconda3\\envs\\stat1\\lib\\site-packages (from ipykernel>=4.5.1->ipywidgets>=8.0.0->yfiles_jupyter_graphs>=1.9.0->yfiles_jupyter_graphs_for_neo4j) (5.5.0)\n",
      "Requirement already satisfied: matplotlib-inline>=0.1 in c:\\users\\ns\\miniconda3\\envs\\stat1\\lib\\site-packages (from ipykernel>=4.5.1->ipywidgets>=8.0.0->yfiles_jupyter_graphs>=1.9.0->yfiles_jupyter_graphs_for_neo4j) (0.1.6)\n",
      "Requirement already satisfied: nest-asyncio in c:\\users\\ns\\miniconda3\\envs\\stat1\\lib\\site-packages (from ipykernel>=4.5.1->ipywidgets>=8.0.0->yfiles_jupyter_graphs>=1.9.0->yfiles_jupyter_graphs_for_neo4j) (1.5.6)\n",
      "Requirement already satisfied: packaging in c:\\users\\ns\\miniconda3\\envs\\stat1\\lib\\site-packages (from ipykernel>=4.5.1->ipywidgets>=8.0.0->yfiles_jupyter_graphs>=1.9.0->yfiles_jupyter_graphs_for_neo4j) (23.1)\n",
      "Requirement already satisfied: psutil in c:\\users\\ns\\miniconda3\\envs\\stat1\\lib\\site-packages (from ipykernel>=4.5.1->ipywidgets>=8.0.0->yfiles_jupyter_graphs>=1.9.0->yfiles_jupyter_graphs_for_neo4j) (5.9.0)\n",
      "Requirement already satisfied: pyzmq>=20 in c:\\users\\ns\\miniconda3\\envs\\stat1\\lib\\site-packages (from ipykernel>=4.5.1->ipywidgets>=8.0.0->yfiles_jupyter_graphs>=1.9.0->yfiles_jupyter_graphs_for_neo4j) (23.2.0)\n",
      "Requirement already satisfied: tornado>=6.1 in c:\\users\\ns\\miniconda3\\envs\\stat1\\lib\\site-packages (from ipykernel>=4.5.1->ipywidgets>=8.0.0->yfiles_jupyter_graphs>=1.9.0->yfiles_jupyter_graphs_for_neo4j) (6.3.3)\n",
      "Requirement already satisfied: backcall in c:\\users\\ns\\miniconda3\\envs\\stat1\\lib\\site-packages (from ipython>=6.1.0->ipywidgets>=8.0.0->yfiles_jupyter_graphs>=1.9.0->yfiles_jupyter_graphs_for_neo4j) (0.2.0)\n",
      "Requirement already satisfied: decorator in c:\\users\\ns\\miniconda3\\envs\\stat1\\lib\\site-packages (from ipython>=6.1.0->ipywidgets>=8.0.0->yfiles_jupyter_graphs>=1.9.0->yfiles_jupyter_graphs_for_neo4j) (5.1.1)\n",
      "Requirement already satisfied: jedi>=0.16 in c:\\users\\ns\\miniconda3\\envs\\stat1\\lib\\site-packages (from ipython>=6.1.0->ipywidgets>=8.0.0->yfiles_jupyter_graphs>=1.9.0->yfiles_jupyter_graphs_for_neo4j) (0.18.1)\n",
      "Requirement already satisfied: pickleshare in c:\\users\\ns\\miniconda3\\envs\\stat1\\lib\\site-packages (from ipython>=6.1.0->ipywidgets>=8.0.0->yfiles_jupyter_graphs>=1.9.0->yfiles_jupyter_graphs_for_neo4j) (0.7.5)\n",
      "Requirement already satisfied: prompt-toolkit!=3.0.37,<3.1.0,>=3.0.30 in c:\\users\\ns\\miniconda3\\envs\\stat1\\lib\\site-packages (from ipython>=6.1.0->ipywidgets>=8.0.0->yfiles_jupyter_graphs>=1.9.0->yfiles_jupyter_graphs_for_neo4j) (3.0.36)\n",
      "Requirement already satisfied: pygments>=2.4.0 in c:\\users\\ns\\miniconda3\\envs\\stat1\\lib\\site-packages (from ipython>=6.1.0->ipywidgets>=8.0.0->yfiles_jupyter_graphs>=1.9.0->yfiles_jupyter_graphs_for_neo4j) (2.15.1)\n",
      "Requirement already satisfied: stack-data in c:\\users\\ns\\miniconda3\\envs\\stat1\\lib\\site-packages (from ipython>=6.1.0->ipywidgets>=8.0.0->yfiles_jupyter_graphs>=1.9.0->yfiles_jupyter_graphs_for_neo4j) (0.2.0)\n",
      "Requirement already satisfied: colorama in c:\\users\\ns\\miniconda3\\envs\\stat1\\lib\\site-packages (from ipython>=6.1.0->ipywidgets>=8.0.0->yfiles_jupyter_graphs>=1.9.0->yfiles_jupyter_graphs_for_neo4j) (0.4.6)\n",
      "Requirement already satisfied: parso<0.9.0,>=0.8.0 in c:\\users\\ns\\miniconda3\\envs\\stat1\\lib\\site-packages (from jedi>=0.16->ipython>=6.1.0->ipywidgets>=8.0.0->yfiles_jupyter_graphs>=1.9.0->yfiles_jupyter_graphs_for_neo4j) (0.8.3)\n",
      "Requirement already satisfied: entrypoints in c:\\users\\ns\\miniconda3\\envs\\stat1\\lib\\site-packages (from jupyter-client>=6.1.12->ipykernel>=4.5.1->ipywidgets>=8.0.0->yfiles_jupyter_graphs>=1.9.0->yfiles_jupyter_graphs_for_neo4j) (0.4)\n",
      "Requirement already satisfied: python-dateutil>=2.8.2 in c:\\users\\ns\\miniconda3\\envs\\stat1\\lib\\site-packages (from jupyter-client>=6.1.12->ipykernel>=4.5.1->ipywidgets>=8.0.0->yfiles_jupyter_graphs>=1.9.0->yfiles_jupyter_graphs_for_neo4j) (2.8.2)\n",
      "Requirement already satisfied: platformdirs>=2.5 in c:\\users\\ns\\miniconda3\\envs\\stat1\\lib\\site-packages (from jupyter-core!=5.0.*,>=4.12->ipykernel>=4.5.1->ipywidgets>=8.0.0->yfiles_jupyter_graphs>=1.9.0->yfiles_jupyter_graphs_for_neo4j) (3.10.0)\n",
      "Requirement already satisfied: pywin32>=300 in c:\\users\\ns\\miniconda3\\envs\\stat1\\lib\\site-packages (from jupyter-core!=5.0.*,>=4.12->ipykernel>=4.5.1->ipywidgets>=8.0.0->yfiles_jupyter_graphs>=1.9.0->yfiles_jupyter_graphs_for_neo4j) (305.1)\n",
      "Requirement already satisfied: wcwidth in c:\\users\\ns\\miniconda3\\envs\\stat1\\lib\\site-packages (from prompt-toolkit!=3.0.37,<3.1.0,>=3.0.30->ipython>=6.1.0->ipywidgets>=8.0.0->yfiles_jupyter_graphs>=1.9.0->yfiles_jupyter_graphs_for_neo4j) (0.2.5)\n",
      "Requirement already satisfied: executing in c:\\users\\ns\\miniconda3\\envs\\stat1\\lib\\site-packages (from stack-data->ipython>=6.1.0->ipywidgets>=8.0.0->yfiles_jupyter_graphs>=1.9.0->yfiles_jupyter_graphs_for_neo4j) (0.8.3)\n",
      "Requirement already satisfied: asttokens in c:\\users\\ns\\miniconda3\\envs\\stat1\\lib\\site-packages (from stack-data->ipython>=6.1.0->ipywidgets>=8.0.0->yfiles_jupyter_graphs>=1.9.0->yfiles_jupyter_graphs_for_neo4j) (2.0.5)\n",
      "Requirement already satisfied: pure-eval in c:\\users\\ns\\miniconda3\\envs\\stat1\\lib\\site-packages (from stack-data->ipython>=6.1.0->ipywidgets>=8.0.0->yfiles_jupyter_graphs>=1.9.0->yfiles_jupyter_graphs_for_neo4j) (0.2.2)\n",
      "Requirement already satisfied: six>=1.5 in c:\\users\\ns\\miniconda3\\envs\\stat1\\lib\\site-packages (from python-dateutil>=2.8.2->jupyter-client>=6.1.12->ipykernel>=4.5.1->ipywidgets>=8.0.0->yfiles_jupyter_graphs>=1.9.0->yfiles_jupyter_graphs_for_neo4j) (1.16.0)\n"
     ]
    }
   ],
   "source": [
    "# Installation of Neo4j \n",
    "!pip install neo4j\n",
    "!pip install yfiles_jupyter_graphs_for_neo4j"
   ]
  },
  {
   "cell_type": "code",
   "execution_count": 2,
   "metadata": {},
   "outputs": [],
   "source": [
    "# Loading the libraries\n",
    "from neo4j import GraphDatabase\n",
    "from yfiles_jupyter_graphs_for_neo4j import Neo4jGraphWidget\n",
    "\n",
    "# Connecting to the Neo4j database\n",
    "driver = GraphDatabase.driver(uri=\"bolt://localhost:7687\", auth=(\"neo4j\", \"password\"))\n",
    "session = driver.session()\n",
    "g = Neo4jGraphWidget(driver)"
   ]
  },
  {
   "cell_type": "markdown",
   "metadata": {},
   "source": [
    "# Dataset"
   ]
  },
  {
   "cell_type": "markdown",
   "metadata": {},
   "source": []
  },
  {
   "cell_type": "markdown",
   "metadata": {},
   "source": [
    "First, we clear the existing database"
   ]
  },
  {
   "cell_type": "code",
   "execution_count": 3,
   "metadata": {},
   "outputs": [
    {
     "data": {
      "text/plain": [
       "<neo4j._sync.work.result.Result at 0x21ad44efad0>"
      ]
     },
     "execution_count": 3,
     "metadata": {},
     "output_type": "execute_result"
    }
   ],
   "source": [
    "session.run(\"\"\"\n",
    "    MATCH (n)\n",
    "    DETACH DELETE n\n",
    "\"\"\")"
   ]
  },
  {
   "cell_type": "markdown",
   "metadata": {},
   "source": [
    "Secondly, we create two JSON datasets: one for startups and the other for investors. PS: We used chatgpt to help us generating realistic data."
   ]
  },
  {
   "cell_type": "code",
   "execution_count": 4,
   "metadata": {},
   "outputs": [
    {
     "data": {
      "text/plain": [
       "<neo4j._sync.work.result.Result at 0x21ad4500bd0>"
      ]
     },
     "execution_count": 4,
     "metadata": {},
     "output_type": "execute_result"
    }
   ],
   "source": [
    "# Here we load the dataset into the Neo4j database\n",
    "\n",
    "# Clear existing database\n",
    "session.run(\"\"\"\n",
    "    CREATE \n",
    "    // AI Startups (Community 1)\n",
    "    (s1:Startup {name: 'OpenAI', communityId: 1, country: 'USA', technology: 'AI'}),\n",
    "    (s2:Startup {name: 'DeepMind', communityId: 1, country: 'UK', technology: 'AI'}),\n",
    "    (s3:Startup {name: 'Anthropic', communityId: 1, country: 'USA', technology: 'AI'}),\n",
    "    (s4:Startup {name: 'Cohere', communityId: 1, country: 'Canada', technology: 'AI'}),\n",
    "    (s5:Startup {name: 'Adept AI', communityId: 1, country: 'USA', technology: 'AI'}),\n",
    "    (s6:Startup {name: 'Stability AI', communityId: 1, country: 'UK', technology: 'AI'}),\n",
    "\n",
    "    // Aerospace Startups (Community 2)\n",
    "    (s7:Startup {name: 'SpaceX', communityId: 2, country: 'USA', technology: 'Aerospace'}),\n",
    "    (s8:Startup {name: 'Blue Origin', communityId: 2, country: 'USA', technology: 'Aerospace'}),\n",
    "    (s9:Startup {name: 'Rocket Lab', communityId: 2, country: 'New Zealand', technology: 'Aerospace'}),\n",
    "    (s10:Startup {name: 'Relativity Space', communityId: 2, country: 'USA', technology: 'Aerospace'}),\n",
    "    (s11:Startup {name: 'Virgin Galactic', communityId: 2, country: 'USA', technology: 'Aerospace'}),\n",
    "    (s12:Startup {name: 'Firefly Aerospace', communityId: 2, country: 'USA', technology: 'Aerospace'}),\n",
    "\n",
    "    // FinTech Startups (Community 3)\n",
    "    (s13:Startup {name: 'Stripe', communityId: 3, country: 'USA', technology: 'FinTech'}),\n",
    "    (s14:Startup {name: 'Revolut', communityId: 3, country: 'UK', technology: 'FinTech'}),\n",
    "    (s15:Startup {name: 'Klarna', communityId: 3, country: 'Sweden', technology: 'FinTech'}),\n",
    "    (s16:Startup {name: 'Brex', communityId: 3, country: 'USA', technology: 'FinTech'}),\n",
    "    (s17:Startup {name: 'Chime', communityId: 3, country: 'USA', technology: 'FinTech'}),\n",
    "    (s18:Startup {name: 'Plaid', communityId: 3, country: 'USA', technology: 'FinTech'}),\n",
    "\n",
    "    // Electric Vehicle Startups (Community 4)\n",
    "    (s19:Startup {name: 'Tesla', communityId: 4, country: 'USA', technology: 'EV'}),\n",
    "    (s20:Startup {name: 'Rivian', communityId: 4, country: 'USA', technology: 'EV'}),\n",
    "    (s21:Startup {name: 'Lucid Motors', communityId: 4, country: 'USA', technology: 'EV'}),\n",
    "    (s22:Startup {name: 'Nio', communityId: 4, country: 'China', technology: 'EV'}),\n",
    "    (s23:Startup {name: 'Xpeng', communityId: 4, country: 'China', technology: 'EV'}),\n",
    "    (s24:Startup {name: 'Fisker', communityId: 4, country: 'USA', technology: 'EV'}),\n",
    "\n",
    "    // Blockchain Startups (Community 5)\n",
    "    (s25:Startup {name: 'Binance', communityId: 5, country: 'Malta', technology: 'Blockchain'}),\n",
    "    (s26:Startup {name: 'Coinbase', communityId: 5, country: 'USA', technology: 'Blockchain'}),\n",
    "    (s27:Startup {name: 'Chainalysis', communityId: 5, country: 'USA', technology: 'Blockchain'}),\n",
    "    (s28:Startup {name: 'Ledger', communityId: 5, country: 'France', technology: 'Blockchain'}),\n",
    "    (s29:Startup {name: 'Kraken', communityId: 5, country: 'USA', technology: 'Blockchain'}),\n",
    "    (s30:Startup {name: 'Uniswap', communityId: 5, country: 'Global', technology: 'Blockchain'})\n",
    "\"\"\")\n",
    "\n",
    "\n",
    "\n",
    "session.run(\"\"\"\n",
    "    CREATE\n",
    "    (i1:Investor {name: 'Elon Musk', sector: 'AI, Aerospace, EV'}),\n",
    "    (i2:Investor {name: 'Andreessen Horowitz', sector: 'FinTech, Blockchain'}),\n",
    "    (i3:Investor {name: 'Sequoia Capital', sector: 'FinTech'}),\n",
    "    (i4:Investor {name: 'Tim Draper', sector: 'EV, Blockchain'}),\n",
    "    (i5:Investor {name: 'Binance Labs', sector: 'Blockchain'}),\n",
    "    (i6:Investor {name: 'Y Combinator', sector: 'AI, FinTech'}),\n",
    "    (i7:Investor {name: 'SoftBank', sector: 'AI, EV'}),\n",
    "    (i8:Investor {name: 'Peter Thiel', sector: 'Aerospace, AI'}),\n",
    "    (i9:Investor {name: 'Tiger Global', sector: 'FinTech'}),\n",
    "    (i10:Investor {name: 'Cathie Wood', sector: 'EV, Blockchain'}),\n",
    "    (i11:Investor {name: 'Lightspeed Ventures', sector: 'AI, FinTech'}),\n",
    "    (i12:Investor {name: 'General Catalyst', sector: 'FinTech'}),\n",
    "    (i13:Investor {name: 'Khosla Ventures', sector: 'AI, Aerospace'}),\n",
    "    (i14:Investor {name: 'Founders Fund', sector: 'Aerospace, Blockchain'}),\n",
    "    (i15:Investor {name: 'Coinbase Ventures', sector: 'Blockchain'}),\n",
    "    (i16:Investor {name: 'Google Ventures', sector: 'AI, FinTech'}),\n",
    "    (i17:Investor {name: 'Accel Partners', sector: 'FinTech'}),\n",
    "    (i18:Investor {name: 'Bessemer Venture Partners', sector: 'FinTech'}),\n",
    "    (i19:Investor {name: 'Benchmark', sector: 'EV, FinTech'}),\n",
    "    (i20:Investor {name: 'Union Square Ventures', sector: 'Blockchain'})\n",
    "\"\"\")\n",
    "\n",
    "\n",
    "\n"
   ]
  },
  {
   "cell_type": "markdown",
   "metadata": {},
   "source": [
    "Creation of the relationships between investors and startups"
   ]
  },
  {
   "cell_type": "code",
   "execution_count": 5,
   "metadata": {},
   "outputs": [
    {
     "data": {
      "text/plain": [
       "<neo4j._sync.work.result.Result at 0x21ad452d610>"
      ]
     },
     "execution_count": 5,
     "metadata": {},
     "output_type": "execute_result"
    }
   ],
   "source": [
    "# AI Sector Investments\n",
    "session.run(\"\"\"\n",
    "    MATCH (i1:Investor {name: 'Elon Musk'}), (s1:Startup {name: 'OpenAI'}), (s2:Startup {name: 'Anthropic'}),\n",
    "          (s3:Startup {name: 'Adept AI'}), (s4:Startup {name: 'DeepMind'})\n",
    "    CREATE (i1)-[:INVESTS_IN]->(s1),\n",
    "           (i1)-[:INVESTS_IN]->(s2),\n",
    "           (i1)-[:INVESTS_IN]->(s3),\n",
    "           (i1)-[:INVESTS_IN]->(s4)\n",
    "\"\"\")\n",
    "\n",
    "session.run(\"\"\"\n",
    "    MATCH (i2:Investor {name: 'Andreessen Horowitz'}), (s1:Startup {name: 'OpenAI'}), (s2:Startup {name: 'Cohere'}),\n",
    "          (s3:Startup {name: 'Hugging Face'}), (s4:Startup {name: 'Stability AI'})\n",
    "    CREATE (i2)-[:INVESTS_IN]->(s1),\n",
    "           (i2)-[:INVESTS_IN]->(s2),\n",
    "           (i2)-[:INVESTS_IN]->(s3),\n",
    "           (i2)-[:INVESTS_IN]->(s4)\n",
    "\"\"\")\n",
    "\n",
    "# Aerospace Sector Investments\n",
    "session.run(\"\"\"\n",
    "    MATCH (i7:Investor {name: 'SoftBank'}), (s1:Startup {name: 'SpaceX'}), (s2:Startup {name: 'Blue Origin'}),\n",
    "          (s3:Startup {name: 'Rocket Lab'}), (s4:Startup {name: 'Relativity Space'})\n",
    "    CREATE (i7)-[:INVESTS_IN]->(s1),\n",
    "           (i7)-[:INVESTS_IN]->(s2),\n",
    "           (i7)-[:INVESTS_IN]->(s3),\n",
    "           (i7)-[:INVESTS_IN]->(s4)\n",
    "\"\"\")\n",
    "\n",
    "session.run(\"\"\"\n",
    "    MATCH (i8:Investor {name: 'Peter Thiel'}), (s1:Startup {name: 'SpaceX'}), (s2:Startup {name: 'Rocket Lab'})\n",
    "    CREATE (i8)-[:INVESTS_IN]->(s1),\n",
    "           (i8)-[:INVESTS_IN]->(s2)\n",
    "\"\"\")\n",
    "\n",
    "session.run(\"\"\"\n",
    "    MATCH (i7:Investor {name: 'SoftBank'}), (s1:Startup {name: 'OpenAI'}), (s2:Startup {name: 'SpaceX'}),\n",
    "          (s3:Startup {name: 'Tesla'}), (s4:Startup {name: 'Revolut'})\n",
    "    CREATE (i7)-[:INVESTS_IN]->(s1),\n",
    "           (i7)-[:INVESTS_IN]->(s2),\n",
    "           (i7)-[:INVESTS_IN]->(s3),\n",
    "           (i7)-[:INVESTS_IN]->(s4)\n",
    "\"\"\")\n",
    "\n",
    "session.run(\"\"\"\n",
    "    MATCH (i2:Investor {name: 'Andreessen Horowitz'}), (s1:Startup {name: 'OpenAI'}), (s2:Startup {name: 'Stripe'}),\n",
    "          (s3:Startup {name: 'Coinbase'}), (s4:Startup {name: 'Tesla'})\n",
    "    CREATE (i2)-[:INVESTS_IN]->(s1),\n",
    "           (i2)-[:INVESTS_IN]->(s2),\n",
    "           (i2)-[:INVESTS_IN]->(s3),\n",
    "           (i2)-[:INVESTS_IN]->(s4)\n",
    "\"\"\")\n",
    "\n",
    "session.run(\"\"\"\n",
    "    MATCH (i9:Investor {name: 'Tiger Global'}), (s1:Startup {name: 'Stripe'}), (s2:Startup {name: 'Binance'}),\n",
    "          (s3:Startup {name: 'Tesla'}), (s4:Startup {name: 'Hugging Face'})\n",
    "    CREATE (i9)-[:INVESTS_IN]->(s1),\n",
    "           (i9)-[:INVESTS_IN]->(s2),\n",
    "           (i9)-[:INVESTS_IN]->(s3),\n",
    "           (i9)-[:INVESTS_IN]->(s4)\n",
    "\"\"\")\n",
    "\n",
    "\n",
    "# FinTech Sector Investments\n",
    "session.run(\"\"\"\n",
    "    MATCH (i3:Investor {name: 'Sequoia Capital'}), (s1:Startup {name: 'Stripe'}), (s2:Startup {name: 'Revolut'}),\n",
    "          (s3:Startup {name: 'Klarna'}), (s4:Startup {name: 'Brex'})\n",
    "    CREATE (i3)-[:INVESTS_IN]->(s1),\n",
    "           (i3)-[:INVESTS_IN]->(s2),\n",
    "           (i3)-[:INVESTS_IN]->(s3),\n",
    "           (i3)-[:INVESTS_IN]->(s4)\n",
    "\"\"\")\n",
    "\n",
    "session.run(\"\"\"\n",
    "    MATCH (i9:Investor {name: 'Tiger Global'}), (s1:Startup {name: 'Stripe'}), (s2:Startup {name: 'Klarna'}),\n",
    "          (s3:Startup {name: 'Brex'})\n",
    "    CREATE (i9)-[:INVESTS_IN]->(s1),\n",
    "           (i9)-[:INVESTS_IN]->(s2),\n",
    "           (i9)-[:INVESTS_IN]->(s3)\n",
    "\"\"\")\n",
    "\n",
    "# Electric Vehicle Sector Investments\n",
    "session.run(\"\"\"\n",
    "    MATCH (i10:Investor {name: 'Cathie Wood'}), (s1:Startup {name: 'Tesla'}), (s2:Startup {name: 'Nio'}),\n",
    "          (s3:Startup {name: 'Rivian'})\n",
    "    CREATE (i10)-[:INVESTS_IN]->(s1),\n",
    "           (i10)-[:INVESTS_IN]->(s2),\n",
    "           (i10)-[:INVESTS_IN]->(s3)\n",
    "\"\"\")\n",
    "\n",
    "session.run(\"\"\"\n",
    "    MATCH (i11:Investor {name: 'Mark Cuban'}), (s1:Startup {name: 'Tesla'}), (s2:Startup {name: 'Lucid Motors'})\n",
    "    CREATE (i11)-[:INVESTS_IN]->(s1),\n",
    "           (i11)-[:INVESTS_IN]->(s2)\n",
    "\"\"\")\n",
    "\n",
    "# Blockchain Sector Investments\n",
    "session.run(\"\"\"\n",
    "    MATCH (i5:Investor {name: 'Binance Labs'}), (s1:Startup {name: 'Binance'}), (s2:Startup {name: 'Ledger'})\n",
    "    CREATE (i5)-[:INVESTS_IN]->(s1),\n",
    "           (i5)-[:INVESTS_IN]->(s2)\n",
    "\"\"\")\n",
    "\n",
    "session.run(\"\"\"\n",
    "    MATCH (i12:Investor {name: 'Accel Partners'}), (s1:Startup {name: 'Chainalysis'}), (s2:Startup {name: 'Coinbase'})\n",
    "    CREATE (i12)-[:INVESTS_IN]->(s1),\n",
    "           (i12)-[:INVESTS_IN]->(s2)\n",
    "\"\"\")\n",
    "\n"
   ]
  },
  {
   "cell_type": "markdown",
   "metadata": {},
   "source": [
    "Relationships startup-startup"
   ]
  },
  {
   "cell_type": "code",
   "execution_count": 6,
   "metadata": {},
   "outputs": [
    {
     "data": {
      "text/plain": [
       "<neo4j._sync.work.result.Result at 0x21ad44edd50>"
      ]
     },
     "execution_count": 6,
     "metadata": {},
     "output_type": "execute_result"
    }
   ],
   "source": [
    "session.run(\"\"\"\n",
    "    MATCH (s1:Startup {name: 'OpenAI'}), (s2:Startup {name: 'Tesla'})\n",
    "    CREATE (s1)-[:COLLABORATES_WITH]->(s2)\n",
    "\"\"\")\n",
    "\n",
    "session.run(\"\"\"\n",
    "    MATCH (s1:Startup {name: 'Revolut'}), (s2:Startup {name: 'Stripe'})\n",
    "    CREATE (s1)-[:COLLABORATES_WITH]->(s2)\n",
    "\"\"\")\n",
    "\n",
    "session.run(\"\"\"\n",
    "    MATCH (s1:Startup {name: 'Binance'}), (s2:Startup {name: 'Coinbase'})\n",
    "    CREATE (s1)-[:COMPETES_WITH]->(s2)\n",
    "\"\"\")\n",
    "\n",
    "session.run(\"\"\"\n",
    "    MATCH (s1:Startup {name: 'Tesla'}), (s2:Startup {name: 'Lucid Motors'})\n",
    "    CREATE (s1)-[:COMPETES_WITH]->(s2)\n",
    "\"\"\")\n",
    "\n",
    "session.run(\"\"\"\n",
    "    MATCH (s1:Startup {name: 'SpaceX'}), (s2:Startup {name: 'Blue Origin'})\n",
    "    CREATE (s1)-[:COMPETES_WITH]->(s2)\n",
    "\"\"\")\n",
    "\n",
    "session.run(\"\"\"\n",
    "    MATCH (s1:Startup {name: 'DeepMind'}), (s2:Startup {name: 'Mistral AI'})\n",
    "    CREATE (s1)-[:PARTNERS_WITH]->(s2)\n",
    "\"\"\")\n"
   ]
  },
  {
   "cell_type": "code",
   "execution_count": 7,
   "metadata": {},
   "outputs": [
    {
     "data": {
      "application/vnd.jupyter.widget-view+json": {
       "model_id": "b0509afcd113405fa9f268354d22e093",
       "version_major": 2,
       "version_minor": 0
      },
      "text/plain": [
       "GraphWidget(layout=Layout(height='790px', width='100%'))"
      ]
     },
     "metadata": {},
     "output_type": "display_data"
    }
   ],
   "source": [
    "# Define the Cypher query to visualize Startups and Investors\n",
    "\n",
    "g.show_cypher(\"MATCH (s)-[r]->(t) RETURN s, r, t\")\n"
   ]
  },
  {
   "cell_type": "markdown",
   "metadata": {},
   "source": [
    "# PageRank algorithm"
   ]
  },
  {
   "cell_type": "markdown",
   "metadata": {},
   "source": [
    "The PageRank algorithm ranks the nodes of a graph based on their influence. It’s a recursive algorithm where a node’s score depends on the scores of the nodes linking to it, as well as how many other nodes those linking nodes connect to. This algorithm is implemented in the \"graph-data-science plugin\", and we’ll break down its core functionalities."
   ]
  },
  {
   "cell_type": "markdown",
   "metadata": {},
   "source": [
    "The first step is to create an in-memory projection of the graph. The primary goal of doing this projection is to streamline the graph and isolate it from live data. This permits faster execution times as we work on a simplified version of the graph. To create such a projection, we first need to retrieve the labels of our nodes as well as the possible relationships between them."
   ]
  },
  {
   "cell_type": "code",
   "execution_count": 8,
   "metadata": {},
   "outputs": [
    {
     "name": "stdout",
     "output_type": "stream",
     "text": [
      "[{'label': 'Startup'}, {'label': 'Investor'}]\n",
      "[{'relationshipType': 'INVESTS_IN'}, {'relationshipType': 'COLLABORATES_WITH'}, {'relationshipType': 'COMPETES_WITH'}]\n"
     ]
    }
   ],
   "source": [
    "labelsResponse = session.run(\"\"\"CALL db.labels()\"\"\")\n",
    "labels = labelsResponse.data()\n",
    "print(labels)\n",
    "\n",
    "relationshipResponse = session.run(\"CALL db.relationshipTypes()\")\n",
    "relationships = relationshipResponse.data()\n",
    "print(relationships)\n"
   ]
  },
  {
   "cell_type": "markdown",
   "metadata": {},
   "source": [
    "Then, by using the labels and relationships type, we can create the projection."
   ]
  },
  {
   "cell_type": "code",
   "execution_count": 9,
   "metadata": {},
   "outputs": [
    {
     "data": {
      "text/plain": [
       "<neo4j._sync.work.result.Result at 0x21ad453d4d0>"
      ]
     },
     "execution_count": 9,
     "metadata": {},
     "output_type": "execute_result"
    }
   ],
   "source": [
    "projection_query = \"\"\"\n",
    "CALL gds.graph.project(\n",
    "  'generalProjection', \n",
    "  ['Startup', 'Investor'], \n",
    "  {\n",
    "    INVESTS_IN: {},\n",
    "    COLLABORATES_WITH: {},\n",
    "    COMPETES_WITH: {}\n",
    "  }\n",
    ")\n",
    "\"\"\"\n",
    "session.run(projection_query)"
   ]
  },
  {
   "cell_type": "markdown",
   "metadata": {},
   "source": [
    "Now we can run the PageRank algorithm using the stream mode. In stream mode, the algorithm computes a score for every node, which allows us to post-process the results without affecting the underlying data. Additionally, we limit the query to return only the top 10 nodes."
   ]
  },
  {
   "cell_type": "code",
   "execution_count": 10,
   "metadata": {},
   "outputs": [
    {
     "name": "stdout",
     "output_type": "stream",
     "text": [
      "Name: Lucid Motors, Score: 0.52021484375\n",
      "Name: Tesla, Score: 0.43554687500000006\n",
      "Name: Coinbase, Score: 0.42731250000000004\n",
      "Name: Stripe, Score: 0.424390625\n",
      "Name: Blue Origin, Score: 0.37471875000000004\n",
      "Name: SpaceX, Score: 0.24562500000000004\n",
      "Name: OpenAI, Score: 0.22968750000000004\n",
      "Name: Rocket Lab, Score: 0.22968750000000004\n",
      "Name: Klarna, Score: 0.22437500000000005\n",
      "Name: Brex, Score: 0.22437500000000005\n"
     ]
    }
   ],
   "source": [
    "pagerankGeneralQuery = \"\"\"\n",
    "CALL gds.pageRank.stream('generalProjection')\n",
    "YIELD nodeId, score\n",
    "RETURN gds.util.asNode(nodeId).name AS name, score\n",
    "ORDER BY score DESC\n",
    "LIMIT 10\n",
    "\"\"\"\n",
    "pagerankGeneralRes = session.run(pagerankGeneralQuery)\n",
    "for record in pagerankGeneralRes:\n",
    "    print(f\"Name: {record['name']}, Score: {record['score']}\")"
   ]
  },
  {
   "cell_type": "markdown",
   "metadata": {},
   "source": [
    "Note that we can filter the type of relationship on the projection. For exemple, if we want to find the most influent node with regard to only the INVESTS_IN relationships, we can do the following projection."
   ]
  },
  {
   "cell_type": "code",
   "execution_count": 11,
   "metadata": {},
   "outputs": [
    {
     "name": "stdout",
     "output_type": "stream",
     "text": [
      "Name: Stripe, Score: 0.25625000000000003\n",
      "Name: SpaceX, Score: 0.24562500000000004\n",
      "Name: Coinbase, Score: 0.24562500000000004\n",
      "Name: Tesla, Score: 0.24031250000000004\n",
      "Name: Rocket Lab, Score: 0.22968750000000004\n",
      "Name: OpenAI, Score: 0.22968750000000004\n",
      "Name: Brex, Score: 0.22437500000000005\n",
      "Name: Klarna, Score: 0.22437500000000005\n",
      "Name: Binance, Score: 0.21375000000000002\n",
      "Name: Chainalysis, Score: 0.21375000000000002\n"
     ]
    }
   ],
   "source": [
    "filteredProjectionQuery = \"\"\"\n",
    "CALL gds.graph.project(\n",
    "  'filteredProjection',\n",
    "  ['Startup', 'Investor'],\n",
    "  {\n",
    "    INVESTS_IN: {}\n",
    "  }\n",
    ")\"\"\"\n",
    "\n",
    "pagerankFilteredQuery = \"\"\"\n",
    "CALL gds.pageRank.stream('filteredProjection')\n",
    "YIELD nodeId, score\n",
    "RETURN gds.util.asNode(nodeId).name AS name, score\n",
    "ORDER BY score DESC\n",
    "LIMIT 10\n",
    "\"\"\"\n",
    "\n",
    "session.run(filteredProjectionQuery)\n",
    "\n",
    "pagerankFilteredRes = session.run(pagerankFilteredQuery)\n",
    "for record in pagerankFilteredRes:\n",
    "    print(f\"Name: {record['name']}, Score: {record['score']}\")\n"
   ]
  },
  {
   "cell_type": "markdown",
   "metadata": {},
   "source": [
    "In a similar fashion, we can filter nodes based on their labels. For example, if we want to focus solely on nodes with the label Startup, we can create a projection like this:"
   ]
  },
  {
   "cell_type": "code",
   "execution_count": 12,
   "metadata": {},
   "outputs": [
    {
     "name": "stdout",
     "output_type": "stream",
     "text": [
      "Name: Lucid Motors, Score: 0.385875\n",
      "Name: Stripe, Score: 0.2775\n",
      "Name: Blue Origin, Score: 0.2775\n",
      "Name: Coinbase, Score: 0.2775\n",
      "Name: Tesla, Score: 0.2775\n",
      "Name: SpaceX, Score: 0.15000000000000002\n",
      "Name: Stability AI, Score: 0.15000000000000002\n",
      "Name: Anthropic, Score: 0.15000000000000002\n",
      "Name: Relativity Space, Score: 0.15000000000000002\n",
      "Name: Adept AI, Score: 0.15000000000000002\n"
     ]
    }
   ],
   "source": [
    "filteredProjectionQuery2 = \"\"\"\n",
    "CALL gds.graph.project(\n",
    "  'filteredProjection2', \n",
    "  ['Startup'], \n",
    "  {\n",
    "    INVESTS_IN: {},\n",
    "    COLLABORATES_WITH: {},\n",
    "    COMPETES_WITH: {}\n",
    "  }\n",
    ")\n",
    "\"\"\"\n",
    "\n",
    "pagerankFilteredQuery2 = \"\"\"\n",
    "CALL gds.pageRank.stream('filteredProjection2')\n",
    "YIELD nodeId, score\n",
    "RETURN gds.util.asNode(nodeId).name AS name, score\n",
    "ORDER BY score DESC\n",
    "LIMIT 10\n",
    "\"\"\"\n",
    "\n",
    "session.run(filteredProjectionQuery2)\n",
    "\n",
    "pagerankFilteredRes2 = session.run(pagerankFilteredQuery2)\n",
    "for record in pagerankFilteredRes2:\n",
    "    print(f\"Name: {record['name']}, Score: {record['score']}\")\n"
   ]
  },
  {
   "cell_type": "markdown",
   "metadata": {},
   "source": [
    "There are numerous options available to fine-tune and extend the PageRank algorithm. You can read the Neo4j documentation for more details (https://neo4j.com/docs/graph-data-science/current/algorithms/page-rank/). However, to keep this tutorial straightforward, we'll focus solely on estimating the memory cost of running the algorithm on our projections. Note that we must specify the execution mode; here, we are using stream mode."
   ]
  },
  {
   "cell_type": "code",
   "execution_count": 13,
   "metadata": {},
   "outputs": [
    {
     "name": "stdout",
     "output_type": "stream",
     "text": [
      "nodeCount: 50\n",
      "relationshipCount: 37\n",
      "bytesMin: 8497\n",
      "bytesMax: 568584\n",
      "requiredMemory: [8497 Bytes ... 555 KiB]\n"
     ]
    }
   ],
   "source": [
    "estimateQuery = \"\"\"\n",
    "CALL gds.louvain.stream.estimate('generalProjection', {})\n",
    "YIELD nodeCount, relationshipCount, bytesMin, bytesMax, requiredMemory\n",
    "\"\"\"\n",
    "\n",
    "estimateRes = session.run(estimateQuery)\n",
    "for record in estimateRes.data():\n",
    "    for key, value in record.items():\n",
    "        print(f\"{key}: {value}\")"
   ]
  },
  {
   "cell_type": "markdown",
   "metadata": {},
   "source": [
    "# Louvain algorithm"
   ]
  },
  {
   "cell_type": "markdown",
   "metadata": {},
   "source": [
    "The Louvain algorithm is used for community detection in graphs by maximizing a metric called modularity. It works iteratively to group nodes into communities such that nodes within the same community are densely connected, while connections between different communities are sparser. This algorithm is also implemented in the \"graph-data-science plugin,\" and we’ll break down its core functionalities."
   ]
  },
  {
   "cell_type": "markdown",
   "metadata": {},
   "source": [
    "The Louvain algorithm also operates on an in-memory graph projection. In this tutorial, we'll use the same projection that we created for the PageRank algorithm. Like PageRank, Louvain offers various execution modes, and we'll use stream mode to stay consistent with our previous approach."
   ]
  },
  {
   "cell_type": "markdown",
   "metadata": {},
   "source": [
    "We create a query that orders the communities by the number of nodes they contain. The query also list the nodes in each community and limit the output to only the top 5 communities."
   ]
  },
  {
   "cell_type": "code",
   "execution_count": 14,
   "metadata": {},
   "outputs": [
    {
     "name": "stdout",
     "output_type": "stream",
     "text": [
      "community: 25, communitySize: 13, nodes: ['OpenAI', 'Tesla', 'Rivian', 'Lucid Motors', 'Nio', 'Binance', 'Coinbase', 'Chainalysis', 'Ledger', 'Andreessen Horowitz', 'Binance Labs', 'Cathie Wood', 'Accel Partners']\n",
      "community: 15, communitySize: 6, nodes: ['Stripe', 'Revolut', 'Klarna', 'Brex', 'Sequoia Capital', 'Tiger Global']\n",
      "community: 9, communitySize: 6, nodes: ['SpaceX', 'Blue Origin', 'Rocket Lab', 'Relativity Space', 'SoftBank', 'Peter Thiel']\n",
      "community: 4, communitySize: 4, nodes: ['DeepMind', 'Anthropic', 'Adept AI', 'Elon Musk']\n",
      "community: 3, communitySize: 1, nodes: ['Cohere']\n"
     ]
    }
   ],
   "source": [
    "louvainGeneralQuery = \"\"\"\n",
    "CALL gds.louvain.stream('generalProjection')\n",
    "YIELD nodeId, communityId\n",
    "WITH communityId, \n",
    "     collect(gds.util.asNode(nodeId).name) AS nodes, \n",
    "     count(*) AS communitySize\n",
    "ORDER BY communitySize DESC\n",
    "LIMIT 5\n",
    "RETURN communityId AS community, communitySize, nodes\n",
    "\"\"\"\n",
    "\n",
    "louvainGeneralRes = session.run(louvainGeneralQuery)\n",
    "for record in louvainGeneralRes:\n",
    "    print(f\"community: {record['community']}, communitySize: {record['communitySize']}, nodes: {record['nodes']}\")\n"
   ]
  },
  {
   "cell_type": "code",
   "execution_count": 15,
   "metadata": {},
   "outputs": [
    {
     "name": "stdout",
     "output_type": "stream",
     "text": [
      "community: 21, communitySize: 9, nodes: ['OpenAI', 'Tesla', 'Rivian', 'Nio', 'Coinbase', 'Chainalysis', 'Andreessen Horowitz', 'Cathie Wood', 'Accel Partners']\n",
      "community: 15, communitySize: 6, nodes: ['Stripe', 'Revolut', 'Klarna', 'Brex', 'Sequoia Capital', 'Tiger Global']\n",
      "community: 9, communitySize: 6, nodes: ['SpaceX', 'Blue Origin', 'Rocket Lab', 'Relativity Space', 'SoftBank', 'Peter Thiel']\n",
      "community: 4, communitySize: 4, nodes: ['DeepMind', 'Anthropic', 'Adept AI', 'Elon Musk']\n",
      "community: 27, communitySize: 3, nodes: ['Binance', 'Ledger', 'Binance Labs']\n"
     ]
    }
   ],
   "source": [
    "louvainFilteredQuery = \"\"\"\n",
    "CALL gds.louvain.stream('filteredProjection')\n",
    "YIELD nodeId, communityId\n",
    "WITH communityId, \n",
    "     collect(gds.util.asNode(nodeId).name) AS nodes, \n",
    "     count(*) AS communitySize\n",
    "ORDER BY communitySize DESC\n",
    "LIMIT 5\n",
    "RETURN communityId AS community, communitySize, nodes\n",
    "\"\"\"\n",
    "\n",
    "louvainFilteredRes = session.run(louvainFilteredQuery)\n",
    "for record in louvainFilteredRes:\n",
    "    print(f\"community: {record['community']}, communitySize: {record['communitySize']}, nodes: {record['nodes']}\")"
   ]
  },
  {
   "cell_type": "code",
   "execution_count": 16,
   "metadata": {},
   "outputs": [
    {
     "name": "stdout",
     "output_type": "stream",
     "text": [
      "community: 20, communitySize: 3, nodes: ['OpenAI', 'Tesla', 'Lucid Motors']\n",
      "community: 25, communitySize: 2, nodes: ['Binance', 'Coinbase']\n",
      "community: 12, communitySize: 2, nodes: ['Stripe', 'Revolut']\n",
      "community: 7, communitySize: 2, nodes: ['SpaceX', 'Blue Origin']\n",
      "community: 2, communitySize: 1, nodes: ['Anthropic']\n"
     ]
    }
   ],
   "source": [
    "louvainFilteredQuery2 = \"\"\"\n",
    "CALL gds.louvain.stream('filteredProjection2')\n",
    "YIELD nodeId, communityId\n",
    "WITH communityId, \n",
    "     collect(gds.util.asNode(nodeId).name) AS nodes, \n",
    "     count(*) AS communitySize\n",
    "ORDER BY communitySize DESC\n",
    "LIMIT 5\n",
    "RETURN communityId AS community, communitySize, nodes\n",
    "\"\"\"\n",
    "\n",
    "louvainFilteredRes2 = session.run(louvainFilteredQuery2)\n",
    "for record in louvainFilteredRes2:\n",
    "    print(f\"community: {record['community']}, communitySize: {record['communitySize']}, nodes: {record['nodes']}\")"
   ]
  },
  {
   "cell_type": "markdown",
   "metadata": {},
   "source": [
    "There are also numerous options available for configuring the Louvain algorithm. You can find more details in the Neo4j Graph Data Science documentation at https://neo4j.com/docs/graph-data-science/current/algorithms/louvain/. The memory cost estimation for running this algorithm is similiar as how we porceeded for pageRank."
   ]
  },
  {
   "cell_type": "code",
   "execution_count": 17,
   "metadata": {},
   "outputs": [
    {
     "name": "stdout",
     "output_type": "stream",
     "text": [
      "nodeCount: 50\n",
      "relationshipCount: 37\n",
      "bytesMin: 8497\n",
      "bytesMax: 568584\n",
      "requiredMemory: [8497 Bytes ... 555 KiB]\n"
     ]
    }
   ],
   "source": [
    "estimateQuery = \"\"\"\n",
    "CALL gds.louvain.stream.estimate('generalProjection', {})\n",
    "YIELD nodeCount, relationshipCount, bytesMin, bytesMax, requiredMemory\n",
    "\"\"\"\n",
    "\n",
    "estimateRes = session.run(estimateQuery)\n",
    "for record in estimateRes.data():\n",
    "    for key, value in record.items():\n",
    "        print(f\"{key}: {value}\")"
   ]
  },
  {
   "cell_type": "markdown",
   "metadata": {},
   "source": [
    "# Cross-Analyzing PageRank & Communities "
   ]
  },
  {
   "cell_type": "code",
   "execution_count": 18,
   "metadata": {},
   "outputs": [],
   "source": [
    "# Code for the cross-analyzing PageRank & Communities "
   ]
  },
  {
   "cell_type": "markdown",
   "metadata": {},
   "source": [
    "#  Real-World Use Cases "
   ]
  },
  {
   "cell_type": "markdown",
   "metadata": {},
   "source": [
    "Describe and/or cite real-world examples of how the database technology is used in different industries and applications."
   ]
  },
  {
   "cell_type": "markdown",
   "metadata": {},
   "source": [
    "# Conclusion"
   ]
  },
  {
   "cell_type": "markdown",
   "metadata": {},
   "source": [
    "Conclude the tutorial with a summary of the main points and the benefits (and drawbacks) of using Neo4j for graph databases."
   ]
  },
  {
   "cell_type": "markdown",
   "metadata": {},
   "source": [
    "# References"
   ]
  },
  {
   "cell_type": "markdown",
   "metadata": {},
   "source": [
    "1. [NODES 2024 – Advanced Graph Visualizations in Jupyter Notebooks](https://neo4j.com/videos/nodes-2024-advanced-graph-visualizations-in-jupyter-notebooks/)"
   ]
  }
 ],
 "metadata": {
  "kernelspec": {
   "display_name": "Python 3 (ipykernel)",
   "language": "python",
   "name": "python3"
  },
  "language_info": {
   "codemirror_mode": {
    "name": "ipython",
    "version": 3
   },
   "file_extension": ".py",
   "mimetype": "text/x-python",
   "name": "python",
   "nbconvert_exporter": "python",
   "pygments_lexer": "ipython3",
   "version": "3.11.5"
  }
 },
 "nbformat": 4,
 "nbformat_minor": 2
}
